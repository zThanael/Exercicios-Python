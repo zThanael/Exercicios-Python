{
 "cells": [
  {
   "cell_type": "markdown",
   "id": "bee17121",
   "metadata": {},
   "source": [
    "<h1> Repositório criado para treinar estruturas de Repetições no python</h1>\n",
    "<h4 align='right'> Exercícios disponíveis  em <a href='https://wiki.python.org.br/EstruturaDeRepeticao'>python brasil </a> </h4>\n",
    "<hr>"
   ]
  },
  {
   "cell_type": "code",
   "execution_count": 91,
   "id": "c2349f27",
   "metadata": {},
   "outputs": [],
   "source": [
    "from IPython.display import clear_output #biblioteca para limpar a saida do codigo\n",
    "from time import sleep #para aguardar segundos\n",
    "#vamos utilizar dentro dos laços para que o laço não fique com um codigo de saida muito extenso"
   ]
  },
  {
   "cell_type": "markdown",
   "id": "441d7dae",
   "metadata": {},
   "source": [
    "### 26. Numa eleição existem três candidatos. Faça um programa que peça o número total de eleitores. Peça para cada eleitor votar e ao final mostrar o número de votos de cada candidato."
   ]
  },
  {
   "cell_type": "code",
   "execution_count": 9,
   "id": "5bd833dd",
   "metadata": {},
   "outputs": [
    {
     "name": "stdout",
     "output_type": "stream",
     "text": [
      "Resultado da eleição \n",
      "Amoedo: 3\n",
      "Lula: 1\n",
      "Bolsonaro: 1\n"
     ]
    }
   ],
   "source": [
    "candidatos = {'Amoedo':[],'Lula':[],'Bolsonaro':[]}\n",
    "total_eleitores = int(input('Qual o número total de eleitores '))\n",
    "votos = [int(input(f'Em quem votará:\\n1 - Amoedo\\n2 - Lula\\n3 - Bolsonaro\\nRespota: ')) for eleito in range(0,total_eleitores)]\n",
    "votos_amoedo = [candidatos['Amoedo'].append(1) for voto in votos if voto == 1]\n",
    "votos_lula = [candidatos['Lula'].append(1) for voto in votos if voto == 2]\n",
    "votos_bolsonaro = [candidatos['Bolsonaro'].append(1) for voto in votos if voto == 3]\n",
    "clear_output(wait=True)\n",
    "print(f'Resultado da eleição',\n",
    "     f\"\\nAmoedo: {sum(candidatos['Amoedo'])}\"\n",
    "     f\"\\nLula: {sum(candidatos['Lula'])}\"\n",
    "     f\"\\nBolsonaro: {sum(candidatos['Bolsonaro'])}\"\n",
    "     )"
   ]
  },
  {
   "cell_type": "markdown",
   "id": "9270836b",
   "metadata": {},
   "source": [
    "### 27. Faça um programa que calcule o número médio de alunos por turma. Para isto, peça a quantidade de turmas e a quantidade de alunos para cada turma. As turmas não podem ter mais de 40 alunos."
   ]
  },
  {
   "cell_type": "code",
   "execution_count": 33,
   "id": "167e7a38",
   "metadata": {},
   "outputs": [
    {
     "name": "stdout",
     "output_type": "stream",
     "text": [
      "Qual a quantidade de turmas: 4\n",
      "Lembrando que as turmas não podem ter mais de 40 alunos \n",
      "\n",
      "Quantos alunos existem na 1° turma: 20\n",
      "\n",
      "Quantos alunos existem na 2° turma: 40\n",
      "\n",
      "Quantos alunos existem na 3° turma: 10\n",
      "\n",
      "Quantos alunos existem na 4° turma: 15\n",
      "\n",
      "A quantidade média de aluno por turma equivale a 21 alunos por turma\n"
     ]
    }
   ],
   "source": [
    "quantidade_turmas, alunos = int(input('Qual a quantidade de turmas: ')) , []\n",
    "print('Lembrando que as turmas não podem ter mais de 40 alunos ')\n",
    "for turma in range(0,quantidade_turmas):\n",
    "    quantidade_alunos = int(input(f'\\nQuantos alunos existem na {turma+1}° turma: '))\n",
    "    condicao = alunos.append(quantidade_alunos) if quantidade_alunos <= 40 else print('Turma com quantidade invalida') #if \n",
    "print(f'\\nA quantidade média de aluno por turma equivale a {(sum(alunos)/quantidade_turmas):.0f} alunos por turma')"
   ]
  },
  {
   "cell_type": "markdown",
   "id": "8a9f80ea",
   "metadata": {},
   "source": [
    " <i><h3 align='center'>Usamos o If in lane da seguinte forma: </h3></i>\n",
    "> <code> variavel = (saida True) if (condição) else (saida False) </code>"
   ]
  },
  {
   "cell_type": "markdown",
   "id": "6f5d5034",
   "metadata": {},
   "source": [
    "### 28. Faça um programa que calcule o valor total investido por um colecionador em sua coleção de CDs e o valor médio gasto em cada um deles. O usuário deverá informar a quantidade de CDs e o valor para em cada um."
   ]
  },
  {
   "cell_type": "code",
   "execution_count": 1,
   "id": "d3970e3f",
   "metadata": {},
   "outputs": [
    {
     "name": "stdout",
     "output_type": "stream",
     "text": [
      "Qual a quantidade de CDs que possui: 4\n",
      "Qual o valor para o 1 CDs: 20\n",
      "Qual o valor para o 2 CDs: 10\n",
      "Qual o valor para o 3 CDs: 90\n",
      "Qual o valor para o 4 CDs: 15\n",
      "O total gasto em CDs equivale a 135.00, sendo o preço medio por CD de R$ 33.75\n"
     ]
    }
   ],
   "source": [
    "quantidade_cd = int(input('Qual a quantidade de CDs que possui: '))\n",
    "valor_cd = [int(input(f'Qual o valor para o {cd+1} CDs: ')) for cd in range(0,quantidade_cd)]\n",
    "print(f'O total gasto em CDs equivale a {sum(valor_cd):.2f}, sendo o preço medio por CD de R$ {sum(valor_cd)/len(valor_cd):.2f}')"
   ]
  },
  {
   "cell_type": "markdown",
   "id": "a927e83b",
   "metadata": {},
   "source": [
    "### 29. O Sr. Manoel Joaquim possui uma grande loja de artigos de R$ 1,99, com cerca de 10 caixas. Para agilizar o cálculo de quanto cada cliente deve pagar ele desenvolveu um tabela que contém o número de itens que o cliente comprou e ao lado o valor da conta. Desta forma a atendente do caixa precisa apenas contar quantos itens o cliente está levando e olhar na tabela de preços.\n",
    "<p> Você foi contratado para desenvolver o programa que monta esta tabela de preços, que conterá os preços de 1 até 50 produtos, conforme o exemplo abaixo:</p>"
   ]
  },
  {
   "cell_type": "code",
   "execution_count": 2,
   "id": "d66b4ba2",
   "metadata": {},
   "outputs": [],
   "source": [
    "# Lojas Quase Dois - Tabela de preços\n",
    "# 1 - R$ 1.99\n",
    "# 2 - R$ 3.98\n",
    "# ...\n",
    "# 50 - R$ 99.50"
   ]
  },
  {
   "cell_type": "code",
   "execution_count": 12,
   "id": "c4aa50b0",
   "metadata": {},
   "outputs": [
    {
     "name": "stdout",
     "output_type": "stream",
     "text": [
      "50 - R$ 99.50\n"
     ]
    }
   ],
   "source": [
    "for item in range(1,50+1):\n",
    "    print(f'{item} - R$ {1.99*item:.2f}')\n",
    "    clear_output(wait=True)  #Para ver as 50 linhas e so comentar esta linha de codigo e executar"
   ]
  },
  {
   "cell_type": "markdown",
   "id": "c7fc7911",
   "metadata": {},
   "source": [
    "### 30. O Sr. Manoel Joaquim acaba de adquirir uma panificadora e pretende implantar a metodologia da tabelinha, que já é um sucesso na sua loja de 1,99. Você foi contratado para desenvolver o programa que monta a tabela de preços de pães, de 1 até 50 pães, a partir do preço do pão informado pelo usuário, conforme o exemplo abaixo:"
   ]
  },
  {
   "cell_type": "code",
   "execution_count": 13,
   "id": "f1c893b4",
   "metadata": {},
   "outputs": [],
   "source": [
    "# Preço do pão: R$ 0.18\n",
    "# Panificadora Pão de Ontem - Tabela de preços\n",
    "# 1 - R$ 0.18\n",
    "# 2 - R$ 0.36\n",
    "# ...\n",
    "# 50 - R$ 9.00"
   ]
  },
  {
   "cell_type": "code",
   "execution_count": 16,
   "id": "e102b6ab",
   "metadata": {},
   "outputs": [
    {
     "name": "stdout",
     "output_type": "stream",
     "text": [
      "50 - R$ 9.00\n"
     ]
    }
   ],
   "source": [
    "for item in range(1,50+1):\n",
    "    print(f'{item} - R$ {0.18*item:.2f}')\n",
    "    clear_output(wait=True)  #Para ver as 50 linhas e so comentar esta linha de codigo e executar"
   ]
  },
  {
   "cell_type": "markdown",
   "id": "0c16a405",
   "metadata": {},
   "source": [
    "### 31. O Sr. Manoel Joaquim expandiu seus negócios para além dos negócios de 1,99 e agora possui uma loja de conveniências. Faça um programa que implemente uma caixa registradora rudimentar. O programa deverá receber um número desconhecido de valores referentes aos preços das mercadorias. Um valor zero deve ser informado pelo operador para indicar o final da compra. O programa deve então mostrar o total da compra e perguntar o valor em dinheiro que o cliente forneceu, para então calcular e mostrar o valor do troco. \n",
    "<p>Após esta operação, o programa deverá voltar ao ponto inicial, para registrar a próxima compra. A saída deve ser conforme o exemplo abaixo:</p"
   ]
  },
  {
   "cell_type": "code",
   "execution_count": 17,
   "id": "28b63623",
   "metadata": {},
   "outputs": [],
   "source": [
    "# Lojas Tabajara \n",
    "# Produto 1: R$ 2.20\n",
    "# Produto 2: R$ 5.80\n",
    "# Produto 3: R$ 0\n",
    "# Total: R$ 9.00\n",
    "# Dinheiro: R$ 20.00\n",
    "# Troco: R$ 11.00\n",
    "# ..."
   ]
  },
  {
   "cell_type": "code",
   "execution_count": 28,
   "id": "31b78dd8",
   "metadata": {},
   "outputs": [
    {
     "name": "stdout",
     "output_type": "stream",
     "text": [
      "Qual o valor do produto: 1.85\n",
      "Qual o valor do produto: 20.30\n",
      "Qual o valor do produto: 11.75\n",
      "Qual o valor do produto: 0\n",
      "O total da compra é R$ 33.90\n",
      "Qual o valor que o cliente forneceu: 50\n",
      "Troco: 16.10\n"
     ]
    }
   ],
   "source": [
    "produtos = []\n",
    "while True:\n",
    "    valor_produto = float(input('Qual o valor do produto: '))\n",
    "    if valor_produto == 0:\n",
    "        break\n",
    "    else:\n",
    "        produtos.append(valor_produto)\n",
    "print(f'O total da compra é R$ {sum(produtos):.2f}')\n",
    "dinheiro = float(input('Qual o valor que o cliente forneceu: '))\n",
    "print(f'Troco: R${(dinheiro - sum(produtos)):.2f}')"
   ]
  },
  {
   "cell_type": "markdown",
   "id": "8ade004d",
   "metadata": {},
   "source": [
    "### 32. Faça um programa que calcule o fatorial de um número inteiro fornecido pelo usuário. Ex.: 5!=5.4.3.2.1=120. A saída deve ser conforme o exemplo abaixo:"
   ]
  },
  {
   "cell_type": "code",
   "execution_count": 29,
   "id": "d1ec2655",
   "metadata": {},
   "outputs": [],
   "source": [
    "# Fatorial de: 5\n",
    "# 5! =  5 . 4 . 3 . 2 . 1 = 120"
   ]
  },
  {
   "cell_type": "code",
   "execution_count": 99,
   "id": "5a8d3888",
   "metadata": {},
   "outputs": [
    {
     "name": "stdout",
     "output_type": "stream",
     "text": [
      "Digite um numero para ver seu fatorial: 5\n",
      "Fatorial de 5 é 120\n"
     ]
    }
   ],
   "source": [
    "numero = int(input('Digite um numero para ver seu fatorial: '))\n",
    "resultado = numero\n",
    "for i in range(numero,1,-1):\n",
    "    resultado *= (i-1)\n",
    "print(f'Fatorial de {numero} é {resultado}')"
   ]
  },
  {
   "cell_type": "markdown",
   "id": "cb88f543",
   "metadata": {},
   "source": [
    "### 33. O Departamento Estadual de Meteorologia lhe contratou para desenvolver um programa que leia as um conjunto indeterminado de temperaturas, e informe ao final a menor e a maior temperaturas informadas, bem como a média das temperaturas."
   ]
  },
  {
   "cell_type": "code",
   "execution_count": 102,
   "id": "67a25cc7",
   "metadata": {},
   "outputs": [
    {
     "name": "stdout",
     "output_type": "stream",
     "text": [
      "A maior temperatura é 90.1\n",
      "A menor temperatura é 0.0\n"
     ]
    }
   ],
   "source": [
    "temperaturas = []\n",
    "while True:\n",
    "    temperaturas.append(float(input('Informe a temperatura :')))\n",
    "    resp = input('Deseja adicionar outra temperatura: S - sim / N - Não: ')\n",
    "    clear_output(wait=True)\n",
    "    if resp == 'N':\n",
    "        break\n",
    "print(f'A maior temperatura é {max(temperaturas)}\\nA menor temperatura é {min(temperaturas)}')"
   ]
  },
  {
   "cell_type": "markdown",
   "id": "c037d6a5",
   "metadata": {},
   "source": [
    "### 34. Os números primos possuem várias aplicações dentro da Computação, por exemplo na Criptografia. Um número primo é aquele que é divisível apenas por um e por ele mesmo. Faça um programa que peça um número inteiro e determine se ele é ou não um número primo."
   ]
  },
  {
   "cell_type": "code",
   "execution_count": 140,
   "id": "c6bcaae8",
   "metadata": {},
   "outputs": [
    {
     "name": "stdout",
     "output_type": "stream",
     "text": [
      "Digite um numero para ver se ele é primo: 3\n",
      "3 é primo\n"
     ]
    }
   ],
   "source": [
    "numero, divisor = int(input('Digite um numero para ver se ele é primo: ')) , 1\n",
    "for contador in range(1,numero):\n",
    "    if numero % contador == 0:\n",
    "        divisor += 1\n",
    "condicao = print(f'{numero} é primo') if divisor == 2 else print(f'{numero} não é Primo')\n",
    "\n"
   ]
  },
  {
   "cell_type": "markdown",
   "id": "a2ba14a7",
   "metadata": {},
   "source": [
    "### 35. Encontrar números primos é uma tarefa difícil. Faça um programa que gera uma lista dos números primos existentes entre 1 e um número inteiro informado pelo usuário."
   ]
  },
  {
   "cell_type": "code",
   "execution_count": 197,
   "id": "82b04b36",
   "metadata": {},
   "outputs": [],
   "source": [
    "def primo(numero):\n",
    "    divisor = 0\n",
    "    for contador in range(1,numero):\n",
    "        if numero % contador == 0:\n",
    "            divisor += 1\n",
    "    if divisor == 1:\n",
    "        return numero\n",
    "    \n",
    "def apagaNone(array):\n",
    "    new_array = []\n",
    "    for i in range(len(array)):\n",
    "        if array[i] != None:\n",
    "            new_array.append(array[i])\n",
    "    return new_array"
   ]
  },
  {
   "cell_type": "code",
   "execution_count": 200,
   "id": "ef93fd28",
   "metadata": {},
   "outputs": [
    {
     "name": "stdout",
     "output_type": "stream",
     "text": [
      "Digite um valor para ver quais os numeros primos até ele: 7\n",
      "Os numero primos até 7 são: [2, 3, 5, 7]\n"
     ]
    }
   ],
   "source": [
    "limite, primos = int(input('Digite um valor para ver quais os numeros primos até ele: ')), []\n",
    "for numero in range(1,limite+1):\n",
    "    primos.append(primo(numero))\n",
    "    primos = apagaNone(primos)\n",
    "\n",
    "\n",
    "print(f'Os numero primos até {limite} são: {primos}')\n"
   ]
  },
  {
   "cell_type": "markdown",
   "id": "df5c747d",
   "metadata": {},
   "source": [
    "### 36. Desenvolva um programa que faça a tabuada de um número qualquer inteiro que será digitado pelo usuário, mas a tabuada não deve necessariamente iniciar em 1 e terminar em 10, o valor inicial e final devem ser informados também pelo usuário, conforme exemplo abaixo:"
   ]
  },
  {
   "cell_type": "code",
   "execution_count": 201,
   "id": "0ec3bdc9",
   "metadata": {},
   "outputs": [],
   "source": [
    "# Montar a tabuada de: 5\n",
    "# Começar por: 4\n",
    "# Terminar em: 7\n",
    "\n",
    "# Vou montar a tabuada de 5 começando em 4 e terminando em 7:\n",
    "# 5 X 4 = 20\n",
    "# 5 X 5 = 25\n",
    "# 5 X 6 = 30\n",
    "# 5 X 7 = 35"
   ]
  },
  {
   "cell_type": "code",
   "execution_count": 204,
   "id": "111685a2",
   "metadata": {},
   "outputs": [
    {
     "name": "stdout",
     "output_type": "stream",
     "text": [
      "Digite um numero para acessar sua tabuada: 4\n",
      "Deseja mostrar a tabuada iniciando de qual numero: 2\n",
      "Deseja mostrar a tabuada ate qual numero: 9\n",
      "4 X 2 = 8\n",
      "4 X 3 = 12\n",
      "4 X 4 = 16\n",
      "4 X 5 = 20\n",
      "4 X 6 = 24\n",
      "4 X 7 = 28\n",
      "4 X 8 = 32\n",
      "4 X 9 = 36\n"
     ]
    }
   ],
   "source": [
    "numero = int(input('Digite um numero para acessar sua tabuada: '))\n",
    "numero_inicial = int(input('Deseja mostrar a tabuada iniciando de qual numero: '))\n",
    "numero_final = int(input('Deseja mostrar a tabuada ate qual numero: '))\n",
    "tabuada = [print(f'{numero} X {contador} = {numero*contador}') for contador in range(numero_inicial,numero_final+1)]"
   ]
  },
  {
   "cell_type": "markdown",
   "id": "ef8519bc",
   "metadata": {},
   "source": [
    "### 37. Uma academia deseja fazer um senso entre seus clientes para descobrir o mais alto, o mais baixo, a mais gordo e o mais magro, para isto você deve fazer um programa que pergunte a cada um dos clientes da academia seu código, sua altura e seu peso. \n",
    "<p>O final da digitação de dados deve ser dada quando o usuário digitar 0 (zero) no campo código. Ao encerrar o programa também deve ser informados os códigos e valores do clente mais alto, do mais baixo, do mais gordo e do mais magro, além da média das alturas e dos pesos dos clientes </p>"
   ]
  },
  {
   "cell_type": "code",
   "execution_count": 212,
   "id": "f7c480ed",
   "metadata": {},
   "outputs": [
    {
     "name": "stdout",
     "output_type": "stream",
     "text": [
      "Lembrando que o programa parará quando digitar 0 no campo codigo\n",
      "Qual o seu codigo: 0\n",
      "O cliente mais alto da academia possui 1.95 m\n",
      "O cliente mais baixo da academia possui 1.35 m\n",
      "A media de altura dos clientes equivale a 1.6933333333333334 m\n",
      "O cliente que possui maior peso possui 85.0 Kg\n",
      "O cliente que possui menor peso possui 50.0 Kg\n",
      "A media de peso dos clientes equivale a 68.5 kg\n"
     ]
    }
   ],
   "source": [
    "academia = {'codigo':[],\n",
    "           'altura':[],\n",
    "           'peso':[]}\n",
    "while True:\n",
    "    print('Lembrando que o programa parará quando digitar 0 no campo codigo')\n",
    "    codigo = int(input('Qual o seu codigo: '))\n",
    "    if codigo == 0:\n",
    "        break\n",
    "    academia['codigo'].append(codigo)\n",
    "    academia['altura'].append(float(input('Qual a sua altura: ')))\n",
    "    academia['peso'].append(float(input('Qual o seu peso: ')))\n",
    "    clear_output(wait=True)\n",
    "    \n",
    "print(f\"O cliente mais alto da academia possui {max(academia['altura'])} m\")\n",
    "print(f\"O cliente mais baixo da academia possui {min(academia['altura'])} m\")\n",
    "print(f\"A media de altura dos clientes equivale a {sum(academia['altura'])/len(academia['altura']):.2f} m\")\n",
    "print(f\"O cliente que possui maior peso possui {max(academia['peso'])} Kg\")\n",
    "print(f\"O cliente que possui menor peso possui {min(academia['peso'])} Kg\")\n",
    "print(f\"A media de peso dos clientes equivale a {sum(academia['peso'])/len(academia['peso']):.2f} kg\")\n"
   ]
  },
  {
   "cell_type": "markdown",
   "id": "fd7c0a8e",
   "metadata": {},
   "source": [
    "### 38. Um funcionário de uma empresa recebe aumento salarial anualmente: Sabe-se que:\n",
    "<li> Esse funcionário foi contratado em 1995, com salário inicial de R$ 1.000,00; </li>\n",
    "<li> Em 1996 recebeu aumento de 1,5% sobre seu salário inicial;</li>\n",
    "<li>A partir de 1997 (inclusive), os aumentos salariais sempre correspondem ao dobro do percentual do ano anterior.</li> \n",
    "Faça um programa que determine o salário atual desse funcionário. Após concluir isto, altere o programa permitindo que o usuário digite o salário inicial do funcionário."
   ]
  },
  {
   "cell_type": "code",
   "execution_count": 231,
   "id": "3406c299",
   "metadata": {},
   "outputs": [
    {
     "name": "stdout",
     "output_type": "stream",
     "text": [
      "salario atual é 7938489601805336068635772326082728232002794894148337456381952.00\n"
     ]
    }
   ],
   "source": [
    "salario = 1000\n",
    "percentual = 1.5\n",
    "ano = 1996\n",
    "while ano <= 2021:\n",
    "    salario += (salario * (percentual / 100.0))\n",
    "    percentual *= 2\n",
    "    ano += 1\n",
    "print(f'salario atual é {salario:.2f}')"
   ]
  },
  {
   "cell_type": "markdown",
   "id": "196b5dfe",
   "metadata": {},
   "source": [
    "### 39. Faça um programa que leia dez conjuntos de dois valores, o primeiro representando o número do aluno e o segundo representando a sua altura em centímetros. \n",
    "<p>Encontre o aluno mais alto e o mais baixo. Mostre o número do aluno mais alto e o número do aluno mais baixo, junto com suas alturas.</p>"
   ]
  },
  {
   "cell_type": "code",
   "execution_count": 241,
   "id": "89d3db9e",
   "metadata": {},
   "outputs": [
    {
     "name": "stdout",
     "output_type": "stream",
     "text": [
      "Número do aluno mais alto: 9 Altura dele : 2.01\n",
      "Número do aluno mais baixo: 1 Altura dele : 1.25\n"
     ]
    }
   ],
   "source": [
    "alunos = {'numero':[], 'altura':[]}\n",
    "for aluno in range(10):\n",
    "    alunos['numero'].append(int(input('Qual o número do aluno: ')))\n",
    "    alunos['altura'].append(float(input('Qual a altura do aluno: ')))\n",
    "clear_output(wait=True)\n",
    "print(f\"Número do aluno mais alto: {alunos['altura'].index(max(alunos['altura'])+1)} Altura dele : {max(alunos['altura'])}\")\n",
    "print(f\"Número do aluno mais baixo: {alunos['altura'].index(min(alunos['altura'])+1)} Altura dele : {min(alunos['altura'])}\")\n"
   ]
  },
  {
   "cell_type": "markdown",
   "id": "89c0e1bd",
   "metadata": {},
   "source": [
    "### 40. Foi feita uma estatística em cinco cidades brasileiras para coletar dados sobre acidentes de trânsito. Foram obtidos os seguintes dados:\n",
    "<li>Código da cidade;</li>\n",
    "<li>Número de veículos de passeio (em 1999);</li>\n",
    "<li>Número de acidentes de trânsito com vítimas (em 1999). </li>\n",
    "<p>Deseja-se saber:</p>\n",
    "<li>Qual o maior e menor índice de acidentes de transito e a que cidade pertence;</li>\n",
    "<li>Qual a média de veículos nas cinco cidades juntas;</li>\n",
    "<li>Qual a média de acidentes de trânsito nas cidades com menos de 2.000 veículos de passeio.</li>"
   ]
  },
  {
   "cell_type": "code",
   "execution_count": 269,
   "id": "0acc817c",
   "metadata": {},
   "outputs": [
    {
     "name": "stdout",
     "output_type": "stream",
     "text": [
      "Qual o codigo da 5 cidade: AM\n",
      "Quantos véiculos de passeio a cidade possuia em 1999: 5786\n",
      "Quantos Acidentes com vítimas ocorreram em 1999: 1423\n"
     ]
    }
   ],
   "source": [
    "#Buscar os valores\n",
    "cidades = {'codigo':[], 'veiculos_1999': [] ,'acidentes_1999': []}\n",
    "for cont in range(5):\n",
    "    cidades['codigo'].append(input(f'Qual o codigo da {cont+1} cidade: '))\n",
    "    cidades['veiculos_1999'].append(int(input(f'Quantos véiculos de passeio a cidade possuia em 1999: ')))\n",
    "    cidades['acidentes_1999'].append(int(input(f'Quantos Acidentes com vítimas ocorreram em 1999: ')))\n",
    "    clear_output(wait=True)\n"
   ]
  },
  {
   "cell_type": "code",
   "execution_count": 270,
   "id": "f3d85d07",
   "metadata": {},
   "outputs": [
    {
     "name": "stdout",
     "output_type": "stream",
     "text": [
      "Maior indice pertence ao codigo AM com 1423 acidentes \n",
      "Menor indice pertence ao codigo BH com 100 acidentes \n"
     ]
    }
   ],
   "source": [
    "#A) Qual o maior e menor índice de acidentes de transito e a que cidade pertence;\n",
    "maior_indice = max(cidades['acidentes_1999'])\n",
    "posição_maior = cidades['acidentes_1999'].index(maior_indice)\n",
    "menor_indice = min(cidades['acidentes_1999'])\n",
    "posição_menor = cidades['acidentes_1999'].index(menor_indice)\n",
    "print(f'Maior indice pertence ao codigo {cidades[\"codigo\"][posição_maior]} com {maior_indice} acidentes ')\n",
    "print(f'Menor indice pertence ao codigo {cidades[\"codigo\"][posição_menor]} com {menor_indice} acidentes ')"
   ]
  },
  {
   "cell_type": "code",
   "execution_count": 271,
   "id": "4f5bb242",
   "metadata": {},
   "outputs": [
    {
     "name": "stdout",
     "output_type": "stream",
     "text": [
      "A media de veiculos nas 5 cidades juntas é de 2570\n"
     ]
    }
   ],
   "source": [
    "#B) Qual a média de veículos nas cinco cidades juntas;\n",
    "media = sum(cidades['veiculos_1999'])/len(cidades['veiculos_1999'])\n",
    "print(f'A media de veiculos nas 5 cidades juntas é de {media:.0f}')"
   ]
  },
  {
   "cell_type": "code",
   "execution_count": 279,
   "id": "ea7536b6",
   "metadata": {},
   "outputs": [
    {
     "name": "stdout",
     "output_type": "stream",
     "text": [
      "Cidade: SC Veiculos: 1950 Media de acidentes: 5.57\n",
      "Cidade: PR Veiculos: 1799 Media de acidentes: 5.14\n",
      "Cidade: BH Veiculos: 567 Media de acidentes: 5.67\n"
     ]
    }
   ],
   "source": [
    "#C) Qual a média de acidentes de trânsito nas cidades com menos de 2.000 veículos de passeio.\n",
    "for index in range(len(cidades['veiculos_1999'])): #index=veiculos\n",
    "    if cidades['veiculos_1999'][index] <= 2000:\n",
    "        media = cidades['veiculos_1999'][index] / cidades['acidentes_1999'][index]\n",
    "        print(f\"Cidade: {cidades['codigo'][index]} Veiculos: {cidades['veiculos_1999'][index]} Media de acidentes: {media:.2f}\")"
   ]
  },
  {
   "cell_type": "markdown",
   "id": "7b83c55a",
   "metadata": {},
   "source": [
    "### 41. Faça um programa que receba o valor de uma dívida e mostre uma tabela com os seguintes dados: valor da dívida, valor dos juros, quantidade de parcelas e valor da parcela.\n",
    "<p>Os juros e a quantidade de parcelas seguem a tabela abaixo:</p>"
   ]
  },
  {
   "cell_type": "code",
   "execution_count": 280,
   "id": "d9ee1f4d",
   "metadata": {},
   "outputs": [],
   "source": [
    "# Quantidade de Parcelas  % de Juros sobre o valor inicial da dívida\n",
    "# 1       0\n",
    "# 3       10\n",
    "# 6       15\n",
    "# 9       20\n",
    "# 12      25"
   ]
  },
  {
   "cell_type": "markdown",
   "id": "20083630",
   "metadata": {},
   "source": [
    "<p>Exemplo de saída do programa:</p>\n"
   ]
  },
  {
   "cell_type": "code",
   "execution_count": 281,
   "id": "06711081",
   "metadata": {},
   "outputs": [],
   "source": [
    "# Valor da Dívida Valor dos Juros Quantidade de Parcelas  Valor da Parcela\n",
    "# R$ 1.000,00     0               1                       R$  1.000,00\n",
    "# R$ 1.100,00     100             3                       R$    366,00\n",
    "# R$ 1.150,00     150             6                       R$    191,67"
   ]
  },
  {
   "cell_type": "code",
   "execution_count": 19,
   "id": "1f303a09",
   "metadata": {},
   "outputs": [
    {
     "name": "stdout",
     "output_type": "stream",
     "text": [
      "Digite o valor da divida: 1000\n",
      "Valor da Dívida: R$1000.00 | Valor dos juros: R$0.00   | Quantidade de parcelas : 1   Valor da Parcela: R$1000.00\n",
      "Valor da Dívida: R$1100.00 | Valor dos juros: R$100.00   | Quantidade de parcelas : 3   Valor da Parcela: R$366.67\n",
      "Valor da Dívida: R$1150.00 | Valor dos juros: R$150.00   | Quantidade de parcelas : 6   Valor da Parcela: R$191.67\n",
      "Valor da Dívida: R$1200.00 | Valor dos juros: R$200.00   | Quantidade de parcelas : 9   Valor da Parcela: R$133.33\n",
      "Valor da Dívida: R$1250.00 | Valor dos juros: R$250.00   | Quantidade de parcelas : 12   Valor da Parcela: R$104.17\n"
     ]
    }
   ],
   "source": [
    "divida = int(input('Digite o valor da divida: '))\n",
    "juros = [0,0.1, 0.15, 0.20, 0.25]\n",
    "parcelas = [1,3,6,9,12]\n",
    "divida_juros = [divida + (divida*i) for i in juros]\n",
    "valor_parcela = [divida_juros[index] / parcelas[index] for index in range(len(parcelas))]\n",
    "#printar na tela\n",
    "for index in range(len(divida_juros)):\n",
    "    print(f'Valor da Dívida: R${divida_juros[index]:.2f} | Valor dos juros: R${divida*juros[index]:.2f}  | Quantidade de parcelas : {parcelas[index]}   Valor da Parcela: R${valor_parcela[index]:.2f}')"
   ]
  },
  {
   "cell_type": "markdown",
   "id": "46bc8958",
   "metadata": {},
   "source": [
    "### 42. Faça um programa que leia uma quantidade indeterminada de números positivos e conte quantos deles estão nos seguintes intervalos: [0-25], [26-50], [51-75] e [76-100]. A entrada de dados deverá terminar quando for lido um número negativo."
   ]
  },
  {
   "cell_type": "code",
   "execution_count": 40,
   "id": "de847050",
   "metadata": {},
   "outputs": [
    {
     "name": "stdout",
     "output_type": "stream",
     "text": [
      "Lembrando que para finalizar o programa digite um numero negativo\n",
      "Digite um numero: -5\n",
      "Classificação\n",
      "Numero entre  0 - 25  : [1, 2, 3, 4, 7, 25, 14, 15]\n",
      "Numero entre 26 - 50  : [32, 48]\n",
      "Numero entre 51 - 75  : [55, 63, 53, 56, 74, 72]\n",
      "Numero entre 76 - 100 : [88, 77, 78, 99, 85]\n"
     ]
    }
   ],
   "source": [
    "numeros = {'0-25':[], '26-50': [] , '51-75': [] ,'76-100': []}\n",
    "while True:\n",
    "    try:\n",
    "        print('Lembrando que para finalizar o programa digite um numero negativo')\n",
    "        numero = int(input('Digite um numero: '))\n",
    "        if numero < 0: \n",
    "            break\n",
    "        elif numero >= 0 and numero <= 25:\n",
    "            numeros['0-25'].append(numero)\n",
    "        elif numero >=26 and numero <= 50:\n",
    "            numeros['26-50'].append(numero)\n",
    "        elif numero >= 51 and numero <= 75:\n",
    "            numeros['51-75'].append(numero)\n",
    "        elif numero >= 76 and numero <= 100:\n",
    "            numeros['76-100'].append(numero)\n",
    "        clear_output(wait=True)\n",
    "    except:\n",
    "        print('Digite um NUMERO')\n",
    "        pass\n",
    "print('Classificação')\n",
    "print(f\"Numero entre  0 - 25  : {numeros['0-25']}\")\n",
    "print(f\"Numero entre 26 - 50  : {numeros['26-50']}\")\n",
    "print(f\"Numero entre 51 - 75  : {numeros['51-75']}\")\n",
    "print(f\"Numero entre 76 - 100 : {numeros['76-100']}\")"
   ]
  },
  {
   "cell_type": "markdown",
   "id": "aa98b8c2",
   "metadata": {},
   "source": [
    "### 43. O cardápio de uma lanchonete é o seguinte"
   ]
  },
  {
   "cell_type": "code",
   "execution_count": 42,
   "id": "97f17130",
   "metadata": {},
   "outputs": [],
   "source": [
    "# Especificação   Código  Preço\n",
    "# Cachorro Quente 100     R$ 1,20\n",
    "# Bauru Simples   101     R$ 1,30\n",
    "# Bauru com ovo   102     R$ 1,50\n",
    "# Hambúrguer      103     R$ 1,20\n",
    "# Cheeseburguer   104     R$ 1,30\n",
    "# Refrigerante    105     R$ 1,00"
   ]
  },
  {
   "cell_type": "markdown",
   "id": "7bd07a43",
   "metadata": {},
   "source": [
    "<p> Faça um programa que leia o código dos itens pedidos e as quantidades desejadas. Calcule e mostre o valor a ser pago por item (preço * quantidade) e o total geral do pedido. Considere que o cliente deve informar quando o pedido deve ser encerrado. </p>"
   ]
  },
  {
   "cell_type": "code",
   "execution_count": 109,
   "id": "78700dd4",
   "metadata": {},
   "outputs": [
    {
     "name": "stdout",
     "output_type": "stream",
     "text": [
      "Nome               Código    Preço\n",
      "---------------  --------  -------\n",
      "Cachorro Quente       100      1.2\n",
      "Bauru Simples         101      1.3\n",
      "Bauru com ovo         102      1.5\n",
      "Hambúrguer            103      1.2\n",
      "Cheeseburguer         104      1.3\n",
      "Refrigerante          105      1\n",
      "Digite o codigo do item para adiciona-lo ao carrinho: 0\n",
      "\n",
      "Obrigado\n"
     ]
    }
   ],
   "source": [
    "#%pip install tabulate - se for sua primeira vez com a lib, (so pra tabular o cardapio para facilitar o print)\n",
    "from tabulate import tabulate \n",
    "comidas = [\n",
    "    ['Cachorro Quente',100,1.20], \n",
    "    ['Bauru Simples',101,1.30],\n",
    "    ['Bauru com ovo',102,1.50],\n",
    "    ['Hambúrguer',103,1.20],\n",
    "    ['Cheeseburguer',104,1.30],\n",
    "    ['Refrigerante',105,1.0]\n",
    "]\n",
    "carrinho = []\n",
    "print('Faça seu pedido para finaliza-lo digite 0')\n",
    "while True:\n",
    "    print(tabulate(comidas, headers=['Nome','Código','Preço']))\n",
    "    pedido = int(input('Digite o codigo do item para adiciona-lo ao carrinho: '))   \n",
    "    if pedido == 0:\n",
    "        print('\\nObrigado')\n",
    "        break\n",
    "    elif pedido >= 100 and pedido <= 105:\n",
    "        carrinho.append(pedido)\n",
    "        print('\\nItem adicionado!')\n",
    "    else:\n",
    "        print('\\nDigite um Código Válido')\n",
    "        pass\n",
    "    sleep(0.5)\n",
    "    clear_output(wait=True) "
   ]
  },
  {
   "cell_type": "code",
   "execution_count": 112,
   "id": "2e37953f",
   "metadata": {},
   "outputs": [
    {
     "name": "stdout",
     "output_type": "stream",
     "text": [
      "O preço total do seu pedido é : R$ 7.6\n"
     ]
    }
   ],
   "source": [
    "valor_total = 0\n",
    "for index in range(1,5+1,1):\n",
    "    valor_total += carrinho.count(index+100) * comidas[index][2] \n",
    "    #comidas[index-100][2] para acessar a lista com indice 0,1,2... e o [2] para acessar o preço\n",
    "print('O preço total do seu pedido é : R$',round(valor_total,2))"
   ]
  },
  {
   "cell_type": "markdown",
   "id": "fdb41f66",
   "metadata": {},
   "source": [
    "### 44. Em uma eleição presidencial existem quatro candidatos. Os votos são informados por meio de código. Os códigos utilizados são:"
   ]
  },
  {
   "cell_type": "code",
   "execution_count": 113,
   "id": "2928ae23",
   "metadata": {},
   "outputs": [],
   "source": [
    "# 1 , 2, 3, 4  - Votos para os respectivos candidatos \n",
    "# (você deve montar a tabela ex: 1 - Jose/ 2- João/etc)\n",
    "# 5 - Voto Nulo\n",
    "# 6 - Voto em Branco"
   ]
  },
  {
   "cell_type": "markdown",
   "id": "8f68dbe1",
   "metadata": {},
   "source": [
    "<p> Faça um programa que calcule e mostre:</p>\n",
    "<li>O total de votos para cada candidato;</li>\n",
    "<li>O total de votos nulos;</li>\n",
    "<li>O total de votos em branco;</li>\n",
    "<li>A percentagem de votos nulos sobre o total de votos;</li>\n",
    "<li> A percentagem de votos em branco sobre o total de votos. </li>\n",
    "    <p>Para finalizar o conjunto de votos tem-se o valor zero.</p>"
   ]
  },
  {
   "cell_type": "code",
   "execution_count": 141,
   "id": "9aa55dcf",
   "metadata": {},
   "outputs": [
    {
     "name": "stdout",
     "output_type": "stream",
     "text": [
      "Candidato        Código\n",
      "--------------  --------\n",
      "Amoedo             1\n",
      "Lula               2\n",
      "Bolsonaro          3\n",
      "Ciro               4\n",
      "Voto Nulo          5\n",
      "Voto em Branco     6\n",
      "\n",
      "Para finalizar a ação digite 0\n",
      "Qual o seu voto: 0\n"
     ]
    }
   ],
   "source": [
    "candidatos = [ ['Amoedo',1], ['Lula',2], ['Bolsonaro',3], ['Ciro',4], ['Voto Nulo',5], ['Voto em Branco',6] ]\n",
    "votos = []\n",
    "while True:\n",
    "    print(tabulate(candidatos,numalign=\"center\",headers=['Candidato','Código'])) #usando tabulate\n",
    "    print('\\nPara finalizar a ação digite 0')\n",
    "    try:\n",
    "        voto = int(input('Qual o seu voto: '))\n",
    "    except:\n",
    "        print('Número Inválido! ')\n",
    "        pass\n",
    "    if voto == 0:\n",
    "        break\n",
    "    elif voto >= 1 and voto <=6:\n",
    "        votos.append(voto)\n",
    "    clear_output(wait=True)"
   ]
  },
  {
   "cell_type": "code",
   "execution_count": 214,
   "id": "a8b42db8",
   "metadata": {},
   "outputs": [
    {
     "data": {
      "text/html": [
       "<div>\n",
       "<style scoped>\n",
       "    .dataframe tbody tr th:only-of-type {\n",
       "        vertical-align: middle;\n",
       "    }\n",
       "\n",
       "    .dataframe tbody tr th {\n",
       "        vertical-align: top;\n",
       "    }\n",
       "\n",
       "    .dataframe thead th {\n",
       "        text-align: right;\n",
       "    }\n",
       "</style>\n",
       "<table border=\"1\" class=\"dataframe\">\n",
       "  <thead>\n",
       "    <tr style=\"text-align: right;\">\n",
       "      <th>Nome</th>\n",
       "      <th>Votos</th>\n",
       "    </tr>\n",
       "  </thead>\n",
       "  <tbody>\n",
       "    <tr>\n",
       "      <th>Amoedo</th>\n",
       "      <td>0</td>\n",
       "    </tr>\n",
       "    <tr>\n",
       "      <th>Lula</th>\n",
       "      <td>3</td>\n",
       "    </tr>\n",
       "    <tr>\n",
       "      <th>Bolsonaro</th>\n",
       "      <td>1</td>\n",
       "    </tr>\n",
       "    <tr>\n",
       "      <th>Ciro</th>\n",
       "      <td>3</td>\n",
       "    </tr>\n",
       "    <tr>\n",
       "      <th>Nulo</th>\n",
       "      <td>2</td>\n",
       "    </tr>\n",
       "    <tr>\n",
       "      <th>Branco</th>\n",
       "      <td>1</td>\n",
       "    </tr>\n",
       "  </tbody>\n",
       "</table>\n",
       "</div>"
      ],
      "text/plain": [
       "Nome       Votos\n",
       "Amoedo         0\n",
       "Lula           3\n",
       "Bolsonaro      1\n",
       "Ciro           3\n",
       "Nulo           2\n",
       "Branco         1"
      ]
     },
     "execution_count": 214,
     "metadata": {},
     "output_type": "execute_result"
    }
   ],
   "source": [
    "#A) Os votos para cada classificação\n",
    "resultado = {'Amoedo':votos.count(1),\n",
    "            'Lula':votos.count(2),\n",
    "            'Bolsonaro':votos.count(3),\n",
    "            'Ciro': votos.count(4),\n",
    "            'Nulo': votos.count(5),\n",
    "            'Branco': votos.count(6)}\n",
    "#%pip install pandas = Se for a 1 vez que executa isso\n",
    "import pandas as pd #Testando o Pandas\n",
    "teste = pd.Series(resultado)\n",
    "df = pd.DataFrame(teste)\n",
    "df = df.rename(columns={0:'Votos'})\n",
    "df.columns.name = 'Nome'\n",
    "df"
   ]
  },
  {
   "cell_type": "code",
   "execution_count": 208,
   "id": "2688da35",
   "metadata": {},
   "outputs": [
    {
     "name": "stdout",
     "output_type": "stream",
     "text": [
      "A porcentagem de votos nulos sobre o total é de 5.41%\n",
      "A porcentagem de votos brancos sobre o total é de 2.70%\n"
     ]
    }
   ],
   "source": [
    "print(f'A porcentagem de votos nulos sobre o total é de {(resultado[\"Nulo\"]*100)/sum(votos):.2f}%')\n",
    "print(f'A porcentagem de votos brancos sobre o total é de {(resultado[\"Branco\"]*100)/sum(votos):.2f}%')"
   ]
  },
  {
   "cell_type": "markdown",
   "id": "e7902ade",
   "metadata": {},
   "source": [
    "### 45. Desenvolver um programa para verificar a nota do aluno em uma prova com 10 questões, o programa deve perguntar ao aluno a resposta de cada questão e ao final comparar com o gabarito da prova e assim calcular o total de acertos e a nota (atribuir 1 ponto por resposta certa). Após cada aluno utilizar o sistema deve ser feita uma pergunta se outro aluno vai utilizar o sistema. \n",
    "<p>Após todos os alunos terem respondido informar:</p>\n",
    "<li> Maior e Menor Acerto;</li>\n",
    "<li>Total de Alunos que utilizaram o sistema;</li>\n",
    "<li> A Média das Notas da Turma</li>"
   ]
  },
  {
   "cell_type": "code",
   "execution_count": null,
   "id": "fd729b2e",
   "metadata": {},
   "outputs": [],
   "source": []
  },
  {
   "cell_type": "markdown",
   "id": "f8a51a98",
   "metadata": {},
   "source": [
    "Após concluir isto você poderia incrementar o programa permitindo que o professor digite o gabarito da prova antes dos alunos usarem o programa."
   ]
  },
  {
   "cell_type": "code",
   "execution_count": null,
   "id": "43c3d946",
   "metadata": {},
   "outputs": [],
   "source": []
  }
 ],
 "metadata": {
  "kernelspec": {
   "display_name": "Python 3",
   "language": "python",
   "name": "python3"
  },
  "language_info": {
   "codemirror_mode": {
    "name": "ipython",
    "version": 3
   },
   "file_extension": ".py",
   "mimetype": "text/x-python",
   "name": "python",
   "nbconvert_exporter": "python",
   "pygments_lexer": "ipython3",
   "version": "3.9.2"
  }
 },
 "nbformat": 4,
 "nbformat_minor": 5
}
