{
 "cells": [
  {
   "cell_type": "markdown",
   "id": "bee17121",
   "metadata": {},
   "source": [
    "<h1> Repositório criado para treinar estruturas de Repetições no python</h1>\n",
    "<h4 align='right'> Exercícios disponíveis  em <a href='https://wiki.python.org.br/EstruturaDeRepeticao'>python brasil </a> </h4>\n",
    "<hr>"
   ]
  },
  {
   "cell_type": "code",
   "execution_count": 1,
   "id": "c2349f27",
   "metadata": {},
   "outputs": [],
   "source": [
    "from IPython.display import clear_output #biblioteca para limpar a saida do codigo\n",
    "#vamos utilizar dentro dos laços para que o laço não fique com um codigo de saida muito extenso"
   ]
  },
  {
   "cell_type": "markdown",
   "id": "dc6caa5a",
   "metadata": {},
   "source": [
    "### 26. Numa eleição existem três candidatos. Faça um programa que peça o número total de eleitores. Peça para cada eleitor votar e ao final mostrar o número de votos de cada candidato."
   ]
  },
  {
   "cell_type": "code",
   "execution_count": 9,
   "id": "05fb23c0",
   "metadata": {},
   "outputs": [
    {
     "name": "stdout",
     "output_type": "stream",
     "text": [
      "Resultado da eleição \n",
      "Amoedo: 3\n",
      "Lula: 1\n",
      "Bolsonaro: 1\n"
     ]
    }
   ],
   "source": [
    "candidatos = {'Amoedo':[],'Lula':[],'Bolsonaro':[]}\n",
    "total_eleitores = int(input('Qual o número total de eleitores '))\n",
    "votos = [int(input(f'Em quem votará:\\n1 - Amoedo\\n2 - Lula\\n3 - Bolsonaro\\nRespota: ')) for eleito in range(0,total_eleitores)]\n",
    "votos_amoedo = [candidatos['Amoedo'].append(1) for voto in votos if voto == 1]\n",
    "votos_lula = [candidatos['Lula'].append(1) for voto in votos if voto == 2]\n",
    "votos_bolsonaro = [candidatos['Bolsonaro'].append(1) for voto in votos if voto == 3]\n",
    "clear_output(wait=True)\n",
    "print(f'Resultado da eleição',\n",
    "     f\"\\nAmoedo: {sum(candidatos['Amoedo'])}\"\n",
    "     f\"\\nLula: {sum(candidatos['Lula'])}\"\n",
    "     f\"\\nBolsonaro: {sum(candidatos['Bolsonaro'])}\"\n",
    "     )"
   ]
  },
  {
   "cell_type": "markdown",
   "id": "46f27bb3",
   "metadata": {},
   "source": [
    "### 27. Faça um programa que calcule o número médio de alunos por turma. Para isto, peça a quantidade de turmas e a quantidade de alunos para cada turma. As turmas não podem ter mais de 40 alunos."
   ]
  },
  {
   "cell_type": "code",
   "execution_count": null,
   "id": "2853d478",
   "metadata": {},
   "outputs": [],
   "source": []
  }
 ],
 "metadata": {
  "kernelspec": {
   "display_name": "Python 3",
   "language": "python",
   "name": "python3"
  },
  "language_info": {
   "codemirror_mode": {
    "name": "ipython",
    "version": 3
   },
   "file_extension": ".py",
   "mimetype": "text/x-python",
   "name": "python",
   "nbconvert_exporter": "python",
   "pygments_lexer": "ipython3",
   "version": "3.9.2"
  }
 },
 "nbformat": 4,
 "nbformat_minor": 5
}
