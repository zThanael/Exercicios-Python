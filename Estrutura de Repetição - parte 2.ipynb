{
 "cells": [
  {
   "cell_type": "markdown",
   "id": "bee17121",
   "metadata": {},
   "source": [
    "<h1> Repositório criado para treinar estruturas de Repetições no python</h1>\n",
    "<h4 align='right'> Exercícios disponíveis  em <a href='https://wiki.python.org.br/EstruturaDeRepeticao'>python brasil </a> </h4>\n",
    "<hr>"
   ]
  },
  {
   "cell_type": "code",
   "execution_count": 1,
   "id": "c2349f27",
   "metadata": {},
   "outputs": [],
   "source": [
    "from IPython.display import clear_output #biblioteca para limpar a saida do codigo\n",
    "import pandas as pd\n",
    "from time import sleep #para aguardar segundos\n",
    "#vamos utilizar dentro dos laços para que o laço não fique com um codigo de saida muito extenso"
   ]
  },
  {
   "cell_type": "markdown",
   "id": "441d7dae",
   "metadata": {},
   "source": [
    "### 26. Numa eleição existem três candidatos. Faça um programa que peça o número total de eleitores. Peça para cada eleitor votar e ao final mostrar o número de votos de cada candidato."
   ]
  },
  {
   "cell_type": "code",
   "execution_count": 2,
   "id": "5bd833dd",
   "metadata": {},
   "outputs": [
    {
     "name": "stdout",
     "output_type": "stream",
     "text": [
      "Resultado da eleição \n",
      "Amoedo: 3\n",
      "Lula: 1\n",
      "Bolsonaro: 1\n"
     ]
    }
   ],
   "source": [
    "candidatos = {'Amoedo':[],'Lula':[],'Bolsonaro':[]}\n",
    "total_eleitores = int(input('Qual o número total de eleitores '))\n",
    "votos = [int(input(f'Em quem votará:\\n1 - Amoedo\\n2 - Lula\\n3 - Bolsonaro\\nRespota: ')) for eleito in range(0,total_eleitores)]\n",
    "votos_amoedo = [candidatos['Amoedo'].append(1) for voto in votos if voto == 1]\n",
    "votos_lula = [candidatos['Lula'].append(1) for voto in votos if voto == 2]\n",
    "votos_bolsonaro = [candidatos['Bolsonaro'].append(1) for voto in votos if voto == 3]\n",
    "clear_output(wait=True)\n",
    "print(f'Resultado da eleição',\n",
    "     f\"\\nAmoedo: {sum(candidatos['Amoedo'])}\"\n",
    "     f\"\\nLula: {sum(candidatos['Lula'])}\"\n",
    "     f\"\\nBolsonaro: {sum(candidatos['Bolsonaro'])}\"\n",
    "     )"
   ]
  },
  {
   "cell_type": "markdown",
   "id": "9270836b",
   "metadata": {},
   "source": [
    "### 27. Faça um programa que calcule o número médio de alunos por turma. Para isto, peça a quantidade de turmas e a quantidade de alunos para cada turma. As turmas não podem ter mais de 40 alunos."
   ]
  },
  {
   "cell_type": "code",
   "execution_count": 3,
   "id": "167e7a38",
   "metadata": {},
   "outputs": [
    {
     "name": "stdout",
     "output_type": "stream",
     "text": [
      "Qual a quantidade de turmas: 2\n",
      "Lembrando que as turmas não podem ter mais de 40 alunos \n",
      "\n",
      "Quantos alunos existem na 1° turma: 37\n",
      "\n",
      "Quantos alunos existem na 2° turma: 19\n",
      "\n",
      "A quantidade média de aluno por turma equivale a 28 alunos por turma\n"
     ]
    }
   ],
   "source": [
    "quantidade_turmas, alunos = int(input('Qual a quantidade de turmas: ')) , []\n",
    "print('Lembrando que as turmas não podem ter mais de 40 alunos ')\n",
    "for turma in range(0,quantidade_turmas):\n",
    "    quantidade_alunos = int(input(f'\\nQuantos alunos existem na {turma+1}° turma: '))\n",
    "    condicao = alunos.append(quantidade_alunos) if quantidade_alunos <= 40 else print('Turma com quantidade invalida') #if \n",
    "print(f'\\nA quantidade média de aluno por turma equivale a {(sum(alunos)/quantidade_turmas):.0f} alunos por turma')"
   ]
  },
  {
   "cell_type": "markdown",
   "id": "8a9f80ea",
   "metadata": {},
   "source": [
    " <i><h3 align='center'>Usamos o If in lane da seguinte forma: </h3></i>\n",
    "> <code> variavel = (saida True) if (condição) else (saida False) </code>"
   ]
  },
  {
   "cell_type": "markdown",
   "id": "6f5d5034",
   "metadata": {},
   "source": [
    "### 28. Faça um programa que calcule o valor total investido por um colecionador em sua coleção de CDs e o valor médio gasto em cada um deles. O usuário deverá informar a quantidade de CDs e o valor para em cada um."
   ]
  },
  {
   "cell_type": "code",
   "execution_count": 4,
   "id": "d3970e3f",
   "metadata": {},
   "outputs": [
    {
     "name": "stdout",
     "output_type": "stream",
     "text": [
      "Qual a quantidade de CDs que possui: 3\n",
      "Qual o valor para o 1 CDs: 17\n",
      "Qual o valor para o 2 CDs: 20\n",
      "Qual o valor para o 3 CDs: 39\n",
      "O total gasto em CDs equivale a 76.00, sendo o preço medio por CD de R$ 25.33\n"
     ]
    }
   ],
   "source": [
    "quantidade_cd = int(input('Qual a quantidade de CDs que possui: '))\n",
    "valor_cd = [int(input(f'Qual o valor para o {cd+1} CDs: ')) for cd in range(0,quantidade_cd)]\n",
    "print(f'O total gasto em CDs equivale a {sum(valor_cd):.2f}, sendo o preço medio por CD de R$ {sum(valor_cd)/len(valor_cd):.2f}')"
   ]
  },
  {
   "cell_type": "markdown",
   "id": "a927e83b",
   "metadata": {},
   "source": [
    "### 29. O Sr. Manoel Joaquim possui uma grande loja de artigos de R$ 1,99, com cerca de 10 caixas. Para agilizar o cálculo de quanto cada cliente deve pagar ele desenvolveu um tabela que contém o número de itens que o cliente comprou e ao lado o valor da conta. Desta forma a atendente do caixa precisa apenas contar quantos itens o cliente está levando e olhar na tabela de preços.\n",
    "<p> Você foi contratado para desenvolver o programa que monta esta tabela de preços, que conterá os preços de 1 até 50 produtos, conforme o exemplo abaixo:</p>"
   ]
  },
  {
   "cell_type": "code",
   "execution_count": 5,
   "id": "d66b4ba2",
   "metadata": {},
   "outputs": [],
   "source": [
    "# Lojas Quase Dois - Tabela de preços\n",
    "# 1 - R$ 1.99\n",
    "# 2 - R$ 3.98\n",
    "# ...\n",
    "# 50 - R$ 99.50"
   ]
  },
  {
   "cell_type": "code",
   "execution_count": 6,
   "id": "c4aa50b0",
   "metadata": {},
   "outputs": [
    {
     "name": "stdout",
     "output_type": "stream",
     "text": [
      "50 - R$ 99.50\n"
     ]
    }
   ],
   "source": [
    "for item in range(1,50+1):\n",
    "    print(f'{item} - R$ {1.99*item:.2f}')\n",
    "    clear_output(wait=True)  #Para ver as 50 linhas e so comentar esta linha de codigo e executar"
   ]
  },
  {
   "cell_type": "markdown",
   "id": "c7fc7911",
   "metadata": {},
   "source": [
    "### 30. O Sr. Manoel Joaquim acaba de adquirir uma panificadora e pretende implantar a metodologia da tabelinha, que já é um sucesso na sua loja de 1,99. Você foi contratado para desenvolver o programa que monta a tabela de preços de pães, de 1 até 50 pães, a partir do preço do pão informado pelo usuário, conforme o exemplo abaixo:"
   ]
  },
  {
   "cell_type": "code",
   "execution_count": 7,
   "id": "f1c893b4",
   "metadata": {},
   "outputs": [],
   "source": [
    "# Preço do pão: R$ 0.18\n",
    "# Panificadora Pão de Ontem - Tabela de preços\n",
    "# 1 - R$ 0.18\n",
    "# 2 - R$ 0.36\n",
    "# ...\n",
    "# 50 - R$ 9.00"
   ]
  },
  {
   "cell_type": "code",
   "execution_count": 8,
   "id": "e102b6ab",
   "metadata": {},
   "outputs": [
    {
     "name": "stdout",
     "output_type": "stream",
     "text": [
      "50 - R$ 9.00\n"
     ]
    }
   ],
   "source": [
    "for item in range(1,50+1):\n",
    "    print(f'{item} - R$ {0.18*item:.2f}')\n",
    "    clear_output(wait=True)  #Para ver as 50 linhas e so comentar esta linha de codigo e executar"
   ]
  },
  {
   "cell_type": "markdown",
   "id": "0c16a405",
   "metadata": {},
   "source": [
    "### 31. O Sr. Manoel Joaquim expandiu seus negócios para além dos negócios de 1,99 e agora possui uma loja de conveniências. Faça um programa que implemente uma caixa registradora rudimentar. O programa deverá receber um número desconhecido de valores referentes aos preços das mercadorias. Um valor zero deve ser informado pelo operador para indicar o final da compra. O programa deve então mostrar o total da compra e perguntar o valor em dinheiro que o cliente forneceu, para então calcular e mostrar o valor do troco. \n",
    "<p>Após esta operação, o programa deverá voltar ao ponto inicial, para registrar a próxima compra. A saída deve ser conforme o exemplo abaixo:</p"
   ]
  },
  {
   "cell_type": "code",
   "execution_count": 9,
   "id": "28b63623",
   "metadata": {},
   "outputs": [],
   "source": [
    "# Lojas Tabajara \n",
    "# Produto 1: R$ 2.20\n",
    "# Produto 2: R$ 5.80\n",
    "# Produto 3: R$ 0\n",
    "# Total: R$ 9.00\n",
    "# Dinheiro: R$ 20.00\n",
    "# Troco: R$ 11.00\n",
    "# ..."
   ]
  },
  {
   "cell_type": "code",
   "execution_count": 10,
   "id": "31b78dd8",
   "metadata": {},
   "outputs": [
    {
     "name": "stdout",
     "output_type": "stream",
     "text": [
      "Qual o valor do produto: 2\n",
      "Qual o valor do produto: 1\n",
      "Qual o valor do produto: 3\n",
      "Qual o valor do produto: 1\n",
      "Qual o valor do produto: 0\n",
      "O total da compra é R$ 7.00\n",
      "Qual o valor que o cliente forneceu: 10\n",
      "Troco: R$3.00\n"
     ]
    }
   ],
   "source": [
    "produtos = []\n",
    "while True:\n",
    "    valor_produto = float(input('Qual o valor do produto: '))\n",
    "    if valor_produto == 0:\n",
    "        break\n",
    "    else:\n",
    "        produtos.append(valor_produto)\n",
    "print(f'O total da compra é R$ {sum(produtos):.2f}')\n",
    "dinheiro = float(input('Qual o valor que o cliente forneceu: '))\n",
    "print(f'Troco: R${(dinheiro - sum(produtos)):.2f}')"
   ]
  },
  {
   "cell_type": "markdown",
   "id": "8ade004d",
   "metadata": {},
   "source": [
    "### 32. Faça um programa que calcule o fatorial de um número inteiro fornecido pelo usuário. Ex.: 5!=5.4.3.2.1=120. A saída deve ser conforme o exemplo abaixo:"
   ]
  },
  {
   "cell_type": "code",
   "execution_count": 11,
   "id": "d1ec2655",
   "metadata": {},
   "outputs": [],
   "source": [
    "# Fatorial de: 5\n",
    "# 5! =  5 . 4 . 3 . 2 . 1 = 120"
   ]
  },
  {
   "cell_type": "code",
   "execution_count": 12,
   "id": "5a8d3888",
   "metadata": {},
   "outputs": [
    {
     "name": "stdout",
     "output_type": "stream",
     "text": [
      "Digite um numero para ver seu fatorial: 6\n",
      "Fatorial de 6 é 720\n"
     ]
    }
   ],
   "source": [
    "numero = int(input('Digite um numero para ver seu fatorial: '))\n",
    "resultado = numero\n",
    "for i in range(numero,1,-1):\n",
    "    resultado *= (i-1)\n",
    "print(f'Fatorial de {numero} é {resultado}')"
   ]
  },
  {
   "cell_type": "markdown",
   "id": "cb88f543",
   "metadata": {},
   "source": [
    "### 33. O Departamento Estadual de Meteorologia lhe contratou para desenvolver um programa que leia as um conjunto indeterminado de temperaturas, e informe ao final a menor e a maior temperaturas informadas, bem como a média das temperaturas."
   ]
  },
  {
   "cell_type": "code",
   "execution_count": 13,
   "id": "67a25cc7",
   "metadata": {},
   "outputs": [
    {
     "name": "stdout",
     "output_type": "stream",
     "text": [
      "A maior temperatura é 35.0\n",
      "A menor temperatura é 35.0\n"
     ]
    }
   ],
   "source": [
    "temperaturas = []\n",
    "while True:\n",
    "    temperaturas.append(float(input('Informe a temperatura :')))\n",
    "    resp = input('Deseja adicionar outra temperatura: S - sim / N - Não: ')\n",
    "    clear_output(wait=True)\n",
    "    if resp == 'N':\n",
    "        break\n",
    "print(f'A maior temperatura é {max(temperaturas)}\\nA menor temperatura é {min(temperaturas)}')"
   ]
  },
  {
   "cell_type": "markdown",
   "id": "c037d6a5",
   "metadata": {},
   "source": [
    "### 34. Os números primos possuem várias aplicações dentro da Computação, por exemplo na Criptografia. Um número primo é aquele que é divisível apenas por um e por ele mesmo. Faça um programa que peça um número inteiro e determine se ele é ou não um número primo."
   ]
  },
  {
   "cell_type": "code",
   "execution_count": 14,
   "id": "c6bcaae8",
   "metadata": {},
   "outputs": [
    {
     "name": "stdout",
     "output_type": "stream",
     "text": [
      "Digite um numero para ver se ele é primo: 47\n",
      "47 é primo\n"
     ]
    }
   ],
   "source": [
    "numero, divisor = int(input('Digite um numero para ver se ele é primo: ')) , 1\n",
    "for contador in range(1,numero):\n",
    "    if numero % contador == 0:\n",
    "        divisor += 1\n",
    "condicao = print(f'{numero} é primo') if divisor == 2 else print(f'{numero} não é Primo')\n",
    "\n"
   ]
  },
  {
   "cell_type": "markdown",
   "id": "a2ba14a7",
   "metadata": {},
   "source": [
    "### 35. Encontrar números primos é uma tarefa difícil. Faça um programa que gera uma lista dos números primos existentes entre 1 e um número inteiro informado pelo usuário."
   ]
  },
  {
   "cell_type": "code",
   "execution_count": 15,
   "id": "82b04b36",
   "metadata": {},
   "outputs": [],
   "source": [
    "def primo(numero):\n",
    "    divisor = 0\n",
    "    for contador in range(1,numero):\n",
    "        if numero % contador == 0:\n",
    "            divisor += 1\n",
    "    if divisor == 1:\n",
    "        return numero\n",
    "    \n",
    "def apagaNone(array):\n",
    "    new_array = []\n",
    "    for i in range(len(array)):\n",
    "        if array[i] != None:\n",
    "            new_array.append(array[i])\n",
    "    return new_array"
   ]
  },
  {
   "cell_type": "code",
   "execution_count": 16,
   "id": "ef93fd28",
   "metadata": {},
   "outputs": [
    {
     "name": "stdout",
     "output_type": "stream",
     "text": [
      "Digite um valor para ver quais os numeros primos até ele: 47\n",
      "Os numero primos até 47 são: [2, 3, 5, 7, 11, 13, 17, 19, 23, 29, 31, 37, 41, 43, 47]\n"
     ]
    }
   ],
   "source": [
    "limite, primos = int(input('Digite um valor para ver quais os numeros primos até ele: ')), []\n",
    "for numero in range(1,limite+1):\n",
    "    primos.append(primo(numero))\n",
    "    primos = apagaNone(primos)\n",
    "\n",
    "\n",
    "print(f'Os numero primos até {limite} são: {primos}')\n"
   ]
  },
  {
   "cell_type": "markdown",
   "id": "df5c747d",
   "metadata": {},
   "source": [
    "### 36. Desenvolva um programa que faça a tabuada de um número qualquer inteiro que será digitado pelo usuário, mas a tabuada não deve necessariamente iniciar em 1 e terminar em 10, o valor inicial e final devem ser informados também pelo usuário, conforme exemplo abaixo:"
   ]
  },
  {
   "cell_type": "code",
   "execution_count": 17,
   "id": "0ec3bdc9",
   "metadata": {},
   "outputs": [],
   "source": [
    "# Montar a tabuada de: 5\n",
    "# Começar por: 4\n",
    "# Terminar em: 7\n",
    "\n",
    "# Vou montar a tabuada de 5 começando em 4 e terminando em 7:\n",
    "# 5 X 4 = 20\n",
    "# 5 X 5 = 25\n",
    "# 5 X 6 = 30\n",
    "# 5 X 7 = 35"
   ]
  },
  {
   "cell_type": "code",
   "execution_count": 18,
   "id": "111685a2",
   "metadata": {},
   "outputs": [
    {
     "name": "stdout",
     "output_type": "stream",
     "text": [
      "Digite um numero para acessar sua tabuada: 8\n",
      "Deseja mostrar a tabuada iniciando de qual numero: 4\n",
      "Deseja mostrar a tabuada ate qual numero: 9\n",
      "8 X 4 = 32\n",
      "8 X 5 = 40\n",
      "8 X 6 = 48\n",
      "8 X 7 = 56\n",
      "8 X 8 = 64\n",
      "8 X 9 = 72\n"
     ]
    }
   ],
   "source": [
    "numero = int(input('Digite um numero para acessar sua tabuada: '))\n",
    "numero_inicial = int(input('Deseja mostrar a tabuada iniciando de qual numero: '))\n",
    "numero_final = int(input('Deseja mostrar a tabuada ate qual numero: '))\n",
    "tabuada = [print(f'{numero} X {contador} = {numero*contador}') for contador in range(numero_inicial,numero_final+1)]"
   ]
  },
  {
   "cell_type": "markdown",
   "id": "ef8519bc",
   "metadata": {},
   "source": [
    "### 37. Uma academia deseja fazer um senso entre seus clientes para descobrir o mais alto, o mais baixo, a mais gordo e o mais magro, para isto você deve fazer um programa que pergunte a cada um dos clientes da academia seu código, sua altura e seu peso. \n",
    "<p>O final da digitação de dados deve ser dada quando o usuário digitar 0 (zero) no campo código. Ao encerrar o programa também deve ser informados os códigos e valores do clente mais alto, do mais baixo, do mais gordo e do mais magro, além da média das alturas e dos pesos dos clientes </p>"
   ]
  },
  {
   "cell_type": "code",
   "execution_count": 19,
   "id": "f7c480ed",
   "metadata": {},
   "outputs": [
    {
     "name": "stdout",
     "output_type": "stream",
     "text": [
      "Lembrando que o programa parará quando digitar 0 no campo codigo\n",
      "Qual o seu codigo: 0\n",
      "O cliente mais alto da academia possui 1.9 m\n",
      "O cliente mais baixo da academia possui 1.74 m\n",
      "A media de altura dos clientes equivale a 1.81 m\n",
      "O cliente que possui maior peso possui 95.0 Kg\n",
      "O cliente que possui menor peso possui 20.3 Kg\n",
      "A media de peso dos clientes equivale a 64.43 kg\n"
     ]
    }
   ],
   "source": [
    "academia = {'codigo':[],\n",
    "           'altura':[],\n",
    "           'peso':[]}\n",
    "while True:\n",
    "    print('Lembrando que o programa parará quando digitar 0 no campo codigo')\n",
    "    codigo = int(input('Qual o seu codigo: '))\n",
    "    if codigo == 0:\n",
    "        break\n",
    "    academia['codigo'].append(codigo)\n",
    "    academia['altura'].append(float(input('Qual a sua altura: ')))\n",
    "    academia['peso'].append(float(input('Qual o seu peso: ')))\n",
    "    clear_output(wait=True)\n",
    "    \n",
    "print(f\"O cliente mais alto da academia possui {max(academia['altura'])} m\")\n",
    "print(f\"O cliente mais baixo da academia possui {min(academia['altura'])} m\")\n",
    "print(f\"A media de altura dos clientes equivale a {sum(academia['altura'])/len(academia['altura']):.2f} m\")\n",
    "print(f\"O cliente que possui maior peso possui {max(academia['peso'])} Kg\")\n",
    "print(f\"O cliente que possui menor peso possui {min(academia['peso'])} Kg\")\n",
    "print(f\"A media de peso dos clientes equivale a {sum(academia['peso'])/len(academia['peso']):.2f} kg\")\n"
   ]
  },
  {
   "cell_type": "markdown",
   "id": "fd7c0a8e",
   "metadata": {},
   "source": [
    "### 38. Um funcionário de uma empresa recebe aumento salarial anualmente: Sabe-se que:\n",
    "<li> Esse funcionário foi contratado em 1995, com salário inicial de R$ 1.000,00; </li>\n",
    "<li> Em 1996 recebeu aumento de 1,5% sobre seu salário inicial;</li>\n",
    "<li>A partir de 1997 (inclusive), os aumentos salariais sempre correspondem ao dobro do percentual do ano anterior.</li> \n",
    "Faça um programa que determine o salário atual desse funcionário. Após concluir isto, altere o programa permitindo que o usuário digite o salário inicial do funcionário."
   ]
  },
  {
   "cell_type": "code",
   "execution_count": 20,
   "id": "3406c299",
   "metadata": {},
   "outputs": [
    {
     "name": "stdout",
     "output_type": "stream",
     "text": [
      "salario atual é 7938489601805336068635772326082728232002794894148337456381952.00\n"
     ]
    }
   ],
   "source": [
    "salario = 1000\n",
    "percentual = 1.5\n",
    "ano = 1996\n",
    "while ano <= 2021:\n",
    "    salario += (salario * (percentual / 100.0))\n",
    "    percentual *= 2\n",
    "    ano += 1\n",
    "print(f'salario atual é {salario:.2f}')"
   ]
  },
  {
   "cell_type": "markdown",
   "id": "196b5dfe",
   "metadata": {},
   "source": [
    "### 39. Faça um programa que leia dez conjuntos de dois valores, o primeiro representando o número do aluno e o segundo representando a sua altura em centímetros. \n",
    "<p>Encontre o aluno mais alto e o mais baixo. Mostre o número do aluno mais alto e o número do aluno mais baixo, junto com suas alturas.</p>"
   ]
  },
  {
   "cell_type": "code",
   "execution_count": 25,
   "id": "89d3db9e",
   "metadata": {},
   "outputs": [
    {
     "name": "stdout",
     "output_type": "stream",
     "text": [
      "Número do aluno mais alto: 9 Altura dele : 1.8\n",
      "Número do aluno mais baixo: 1 Altura dele : 1.3\n"
     ]
    }
   ],
   "source": [
    "alunos = {'numero':[], 'altura':[]}\n",
    "for aluno in range(10):\n",
    "    alunos['numero'].append(int(input('Qual o número do aluno: ')))\n",
    "    alunos['altura'].append(float(input('Qual a altura do aluno: ')))\n",
    "clear_output(wait=True)\n",
    "print(f\"Número do aluno mais alto: {alunos['altura'].index(max(alunos['altura']))} Altura dele : {max(alunos['altura'])}\")\n",
    "print(f\"Número do aluno mais baixo: {alunos['altura'].index(min(alunos['altura']))} Altura dele : {min(alunos['altura'])}\")\n"
   ]
  },
  {
   "cell_type": "markdown",
   "id": "89c0e1bd",
   "metadata": {},
   "source": [
    "### 40. Foi feita uma estatística em cinco cidades brasileiras para coletar dados sobre acidentes de trânsito. Foram obtidos os seguintes dados:\n",
    "<li>Código da cidade;</li>\n",
    "<li>Número de veículos de passeio (em 1999);</li>\n",
    "<li>Número de acidentes de trânsito com vítimas (em 1999). </li>\n",
    "<p>Deseja-se saber:</p>\n",
    "<li>Qual o maior e menor índice de acidentes de transito e a que cidade pertence;</li>\n",
    "<li>Qual a média de veículos nas cinco cidades juntas;</li>\n",
    "<li>Qual a média de acidentes de trânsito nas cidades com menos de 2.000 veículos de passeio.</li>"
   ]
  },
  {
   "cell_type": "code",
   "execution_count": 26,
   "id": "0acc817c",
   "metadata": {},
   "outputs": [
    {
     "name": "stdout",
     "output_type": "stream",
     "text": [
      "Qual o codigo da 5 cidade: 74\n",
      "Quantos véiculos de passeio a cidade possuia em 1999: 1274\n",
      "Quantos Acidentes com vítimas ocorreram em 1999: 125\n"
     ]
    }
   ],
   "source": [
    "#Buscar os valores\n",
    "cidades = {'codigo':[], 'veiculos_1999': [] ,'acidentes_1999': []}\n",
    "for cont in range(5):\n",
    "    cidades['codigo'].append(input(f'Qual o codigo da {cont+1} cidade: '))\n",
    "    cidades['veiculos_1999'].append(int(input(f'Quantos véiculos de passeio a cidade possuia em 1999: ')))\n",
    "    cidades['acidentes_1999'].append(int(input(f'Quantos Acidentes com vítimas ocorreram em 1999: ')))\n",
    "    clear_output(wait=True)\n"
   ]
  },
  {
   "cell_type": "code",
   "execution_count": 27,
   "id": "f3d85d07",
   "metadata": {},
   "outputs": [
    {
     "name": "stdout",
     "output_type": "stream",
     "text": [
      "Maior indice pertence ao codigo 6 com 950 acidentes \n",
      "Menor indice pertence ao codigo 74 com 125 acidentes \n"
     ]
    }
   ],
   "source": [
    "#A) Qual o maior e menor índice de acidentes de transito e a que cidade pertence;\n",
    "maior_indice = max(cidades['acidentes_1999'])\n",
    "posição_maior = cidades['acidentes_1999'].index(maior_indice)\n",
    "menor_indice = min(cidades['acidentes_1999'])\n",
    "posição_menor = cidades['acidentes_1999'].index(menor_indice)\n",
    "print(f'Maior indice pertence ao codigo {cidades[\"codigo\"][posição_maior]} com {maior_indice} acidentes ')\n",
    "print(f'Menor indice pertence ao codigo {cidades[\"codigo\"][posição_menor]} com {menor_indice} acidentes ')"
   ]
  },
  {
   "cell_type": "code",
   "execution_count": 28,
   "id": "4f5bb242",
   "metadata": {},
   "outputs": [
    {
     "name": "stdout",
     "output_type": "stream",
     "text": [
      "A media de veiculos nas 5 cidades juntas é de 1753\n"
     ]
    }
   ],
   "source": [
    "#B) Qual a média de veículos nas cinco cidades juntas;\n",
    "media = sum(cidades['veiculos_1999'])/len(cidades['veiculos_1999'])\n",
    "print(f'A media de veiculos nas 5 cidades juntas é de {media:.0f}')"
   ]
  },
  {
   "cell_type": "code",
   "execution_count": 29,
   "id": "ea7536b6",
   "metadata": {},
   "outputs": [
    {
     "name": "stdout",
     "output_type": "stream",
     "text": [
      "Cidade: 4 Veiculos: 1950 Media de acidentes: 5.57\n",
      "Cidade: 45 Veiculos: 1523 Media de acidentes: 4.74\n",
      "Cidade: 74 Veiculos: 1274 Media de acidentes: 10.19\n"
     ]
    }
   ],
   "source": [
    "#C) Qual a média de acidentes de trânsito nas cidades com menos de 2.000 veículos de passeio.\n",
    "for index in range(len(cidades['veiculos_1999'])): #index=veiculos\n",
    "    if cidades['veiculos_1999'][index] <= 2000:\n",
    "        media = cidades['veiculos_1999'][index] / cidades['acidentes_1999'][index]\n",
    "        print(f\"Cidade: {cidades['codigo'][index]} Veiculos: {cidades['veiculos_1999'][index]} Media de acidentes: {media:.2f}\")"
   ]
  },
  {
   "cell_type": "markdown",
   "id": "7b83c55a",
   "metadata": {},
   "source": [
    "### 41. Faça um programa que receba o valor de uma dívida e mostre uma tabela com os seguintes dados: valor da dívida, valor dos juros, quantidade de parcelas e valor da parcela.\n",
    "<p>Os juros e a quantidade de parcelas seguem a tabela abaixo:</p>"
   ]
  },
  {
   "cell_type": "code",
   "execution_count": 30,
   "id": "d9ee1f4d",
   "metadata": {},
   "outputs": [],
   "source": [
    "# Quantidade de Parcelas  % de Juros sobre o valor inicial da dívida\n",
    "# 1       0\n",
    "# 3       10\n",
    "# 6       15\n",
    "# 9       20\n",
    "# 12      25"
   ]
  },
  {
   "cell_type": "markdown",
   "id": "20083630",
   "metadata": {},
   "source": [
    "<p>Exemplo de saída do programa:</p>\n"
   ]
  },
  {
   "cell_type": "code",
   "execution_count": 31,
   "id": "06711081",
   "metadata": {},
   "outputs": [],
   "source": [
    "# Valor da Dívida Valor dos Juros Quantidade de Parcelas  Valor da Parcela\n",
    "# R$ 1.000,00     0               1                       R$  1.000,00\n",
    "# R$ 1.100,00     100             3                       R$    366,00\n",
    "# R$ 1.150,00     150             6                       R$    191,67"
   ]
  },
  {
   "cell_type": "code",
   "execution_count": 32,
   "id": "1f303a09",
   "metadata": {},
   "outputs": [
    {
     "name": "stdout",
     "output_type": "stream",
     "text": [
      "Digite o valor da divida: 1000\n",
      "Valor da Dívida: R$1000.00 | Valor dos juros: R$0.00  | Quantidade de parcelas : 1   Valor da Parcela: R$1000.00\n",
      "Valor da Dívida: R$1100.00 | Valor dos juros: R$100.00  | Quantidade de parcelas : 3   Valor da Parcela: R$366.67\n",
      "Valor da Dívida: R$1150.00 | Valor dos juros: R$150.00  | Quantidade de parcelas : 6   Valor da Parcela: R$191.67\n",
      "Valor da Dívida: R$1200.00 | Valor dos juros: R$200.00  | Quantidade de parcelas : 9   Valor da Parcela: R$133.33\n",
      "Valor da Dívida: R$1250.00 | Valor dos juros: R$250.00  | Quantidade de parcelas : 12   Valor da Parcela: R$104.17\n"
     ]
    }
   ],
   "source": [
    "divida = int(input('Digite o valor da divida: '))\n",
    "juros = [0,0.1, 0.15, 0.20, 0.25]\n",
    "parcelas = [1,3,6,9,12]\n",
    "divida_juros = [divida + (divida*i) for i in juros]\n",
    "valor_parcela = [divida_juros[index] / parcelas[index] for index in range(len(parcelas))]\n",
    "#printar na tela\n",
    "for index in range(len(divida_juros)):\n",
    "    print(f'Valor da Dívida: R${divida_juros[index]:.2f} | Valor dos juros: R${divida*juros[index]:.2f}  | Quantidade de parcelas : {parcelas[index]}   Valor da Parcela: R${valor_parcela[index]:.2f}')"
   ]
  },
  {
   "cell_type": "markdown",
   "id": "46bc8958",
   "metadata": {},
   "source": [
    "### 42. Faça um programa que leia uma quantidade indeterminada de números positivos e conte quantos deles estão nos seguintes intervalos: [0-25], [26-50], [51-75] e [76-100]. A entrada de dados deverá terminar quando for lido um número negativo."
   ]
  },
  {
   "cell_type": "code",
   "execution_count": 33,
   "id": "de847050",
   "metadata": {},
   "outputs": [
    {
     "name": "stdout",
     "output_type": "stream",
     "text": [
      "Lembrando que para finalizar o programa digite um numero negativo\n",
      "Digite um numero: -5\n",
      "Classificação\n",
      "Numero entre  0 - 25  : [10, 1, 10, 5, 2, 3, 14]\n",
      "Numero entre 26 - 50  : []\n",
      "Numero entre 51 - 75  : [56, 75]\n",
      "Numero entre 76 - 100 : [85, 96]\n"
     ]
    }
   ],
   "source": [
    "numeros = {'0-25':[], '26-50': [] , '51-75': [] ,'76-100': []}\n",
    "while True:\n",
    "    try:\n",
    "        print('Lembrando que para finalizar o programa digite um numero negativo')\n",
    "        numero = int(input('Digite um numero: '))\n",
    "        if numero < 0: \n",
    "            break\n",
    "        elif numero >= 0 and numero <= 25:\n",
    "            numeros['0-25'].append(numero)\n",
    "        elif numero >=26 and numero <= 50:\n",
    "            numeros['26-50'].append(numero)\n",
    "        elif numero >= 51 and numero <= 75:\n",
    "            numeros['51-75'].append(numero)\n",
    "        elif numero >= 76 and numero <= 100:\n",
    "            numeros['76-100'].append(numero)\n",
    "        clear_output(wait=True)\n",
    "    except:\n",
    "        print('Digite um NUMERO')\n",
    "        pass\n",
    "print('Classificação')\n",
    "print(f\"Numero entre  0 - 25  : {numeros['0-25']}\")\n",
    "print(f\"Numero entre 26 - 50  : {numeros['26-50']}\")\n",
    "print(f\"Numero entre 51 - 75  : {numeros['51-75']}\")\n",
    "print(f\"Numero entre 76 - 100 : {numeros['76-100']}\")"
   ]
  },
  {
   "cell_type": "markdown",
   "id": "aa98b8c2",
   "metadata": {},
   "source": [
    "### 43. O cardápio de uma lanchonete é o seguinte"
   ]
  },
  {
   "cell_type": "code",
   "execution_count": 34,
   "id": "97f17130",
   "metadata": {},
   "outputs": [],
   "source": [
    "# Especificação   Código  Preço\n",
    "# Cachorro Quente 100     R$ 1,20\n",
    "# Bauru Simples   101     R$ 1,30\n",
    "# Bauru com ovo   102     R$ 1,50\n",
    "# Hambúrguer      103     R$ 1,20\n",
    "# Cheeseburguer   104     R$ 1,30\n",
    "# Refrigerante    105     R$ 1,00"
   ]
  },
  {
   "cell_type": "markdown",
   "id": "7bd07a43",
   "metadata": {},
   "source": [
    "<p> Faça um programa que leia o código dos itens pedidos e as quantidades desejadas. Calcule e mostre o valor a ser pago por item (preço * quantidade) e o total geral do pedido. Considere que o cliente deve informar quando o pedido deve ser encerrado. </p>"
   ]
  },
  {
   "cell_type": "code",
   "execution_count": 35,
   "id": "78700dd4",
   "metadata": {},
   "outputs": [
    {
     "name": "stdout",
     "output_type": "stream",
     "text": [
      "Nome               Código    Preço\n",
      "---------------  --------  -------\n",
      "Cachorro Quente       100      1.2\n",
      "Bauru Simples         101      1.3\n",
      "Bauru com ovo         102      1.5\n",
      "Hambúrguer            103      1.2\n",
      "Cheeseburguer         104      1.3\n",
      "Refrigerante          105      1\n",
      "Digite o codigo do item para adiciona-lo ao carrinho: 0\n",
      "\n",
      "Obrigado\n"
     ]
    }
   ],
   "source": [
    "#%pip install tabulate - se for sua primeira vez com a lib, (so pra tabular o cardapio para facilitar o print)\n",
    "from tabulate import tabulate \n",
    "comidas = [\n",
    "    ['Cachorro Quente',100,1.20], \n",
    "    ['Bauru Simples',101,1.30],\n",
    "    ['Bauru com ovo',102,1.50],\n",
    "    ['Hambúrguer',103,1.20],\n",
    "    ['Cheeseburguer',104,1.30],\n",
    "    ['Refrigerante',105,1.0]\n",
    "]\n",
    "carrinho = []\n",
    "print('Faça seu pedido para finaliza-lo digite 0')\n",
    "while True:\n",
    "    print(tabulate(comidas, headers=['Nome','Código','Preço']))\n",
    "    pedido = int(input('Digite o codigo do item para adiciona-lo ao carrinho: '))   \n",
    "    if pedido == 0:\n",
    "        print('\\nObrigado')\n",
    "        break\n",
    "    elif pedido >= 100 and pedido <= 105:\n",
    "        carrinho.append(pedido)\n",
    "        print('\\nItem adicionado!')\n",
    "    else:\n",
    "        print('\\nDigite um Código Válido')\n",
    "        pass\n",
    "    sleep(0.5)\n",
    "    clear_output(wait=True) "
   ]
  },
  {
   "cell_type": "code",
   "execution_count": 36,
   "id": "2e37953f",
   "metadata": {},
   "outputs": [
    {
     "name": "stdout",
     "output_type": "stream",
     "text": [
      "O preço total do seu pedido é : R$ 3.8\n"
     ]
    }
   ],
   "source": [
    "valor_total = 0\n",
    "for index in range(1,5+1,1):\n",
    "    valor_total += carrinho.count(index+100) * comidas[index][2] \n",
    "    #comidas[index-100][2] para acessar a lista com indice 0,1,2... e o [2] para acessar o preço\n",
    "print('O preço total do seu pedido é : R$',round(valor_total,2))"
   ]
  },
  {
   "cell_type": "markdown",
   "id": "fdb41f66",
   "metadata": {},
   "source": [
    "### 44. Em uma eleição presidencial existem quatro candidatos. Os votos são informados por meio de código. Os códigos utilizados são:"
   ]
  },
  {
   "cell_type": "code",
   "execution_count": 37,
   "id": "2928ae23",
   "metadata": {},
   "outputs": [],
   "source": [
    "# 1 , 2, 3, 4  - Votos para os respectivos candidatos \n",
    "# (você deve montar a tabela ex: 1 - Jose/ 2- João/etc)\n",
    "# 5 - Voto Nulo\n",
    "# 6 - Voto em Branco"
   ]
  },
  {
   "cell_type": "markdown",
   "id": "8f68dbe1",
   "metadata": {},
   "source": [
    "<p> Faça um programa que calcule e mostre:</p>\n",
    "<li>O total de votos para cada candidato;</li>\n",
    "<li>O total de votos nulos;</li>\n",
    "<li>O total de votos em branco;</li>\n",
    "<li>A percentagem de votos nulos sobre o total de votos;</li>\n",
    "<li> A percentagem de votos em branco sobre o total de votos. </li>\n",
    "    <p>Para finalizar o conjunto de votos tem-se o valor zero.</p>"
   ]
  },
  {
   "cell_type": "code",
   "execution_count": 38,
   "id": "9aa55dcf",
   "metadata": {},
   "outputs": [
    {
     "name": "stdout",
     "output_type": "stream",
     "text": [
      "Candidato        Código\n",
      "--------------  --------\n",
      "Amoedo             1\n",
      "Lula               2\n",
      "Bolsonaro          3\n",
      "Ciro               4\n",
      "Voto Nulo          5\n",
      "Voto em Branco     6\n",
      "\n",
      "Para finalizar a ação digite 0\n",
      "Qual o seu voto: 0\n"
     ]
    }
   ],
   "source": [
    "candidatos = [ ['Amoedo',1], ['Lula',2], ['Bolsonaro',3], ['Ciro',4], ['Voto Nulo',5], ['Voto em Branco',6] ]\n",
    "votos = []\n",
    "while True:\n",
    "    print(tabulate(candidatos,numalign=\"center\",headers=['Candidato','Código'])) #usando tabulate\n",
    "    print('\\nPara finalizar a ação digite 0')\n",
    "    try:\n",
    "        voto = int(input('Qual o seu voto: '))\n",
    "    except:\n",
    "        print('Número Inválido! ')\n",
    "        pass\n",
    "    if voto == 0:\n",
    "        break\n",
    "    elif voto >= 1 and voto <=6:\n",
    "        votos.append(voto)\n",
    "    clear_output(wait=True)"
   ]
  },
  {
   "cell_type": "code",
   "execution_count": 39,
   "id": "a8b42db8",
   "metadata": {},
   "outputs": [
    {
     "data": {
      "text/html": [
       "<div>\n",
       "<style scoped>\n",
       "    .dataframe tbody tr th:only-of-type {\n",
       "        vertical-align: middle;\n",
       "    }\n",
       "\n",
       "    .dataframe tbody tr th {\n",
       "        vertical-align: top;\n",
       "    }\n",
       "\n",
       "    .dataframe thead th {\n",
       "        text-align: right;\n",
       "    }\n",
       "</style>\n",
       "<table border=\"1\" class=\"dataframe\">\n",
       "  <thead>\n",
       "    <tr style=\"text-align: right;\">\n",
       "      <th>Nome</th>\n",
       "      <th>Votos</th>\n",
       "    </tr>\n",
       "  </thead>\n",
       "  <tbody>\n",
       "    <tr>\n",
       "      <th>Amoedo</th>\n",
       "      <td>10</td>\n",
       "    </tr>\n",
       "    <tr>\n",
       "      <th>Lula</th>\n",
       "      <td>3</td>\n",
       "    </tr>\n",
       "    <tr>\n",
       "      <th>Bolsonaro</th>\n",
       "      <td>1</td>\n",
       "    </tr>\n",
       "    <tr>\n",
       "      <th>Ciro</th>\n",
       "      <td>5</td>\n",
       "    </tr>\n",
       "    <tr>\n",
       "      <th>Nulo</th>\n",
       "      <td>5</td>\n",
       "    </tr>\n",
       "    <tr>\n",
       "      <th>Branco</th>\n",
       "      <td>4</td>\n",
       "    </tr>\n",
       "  </tbody>\n",
       "</table>\n",
       "</div>"
      ],
      "text/plain": [
       "Nome       Votos\n",
       "Amoedo        10\n",
       "Lula           3\n",
       "Bolsonaro      1\n",
       "Ciro           5\n",
       "Nulo           5\n",
       "Branco         4"
      ]
     },
     "execution_count": 39,
     "metadata": {},
     "output_type": "execute_result"
    }
   ],
   "source": [
    "#A) Os votos para cada classificação\n",
    "resultado = {'Amoedo':votos.count(1),\n",
    "            'Lula':votos.count(2),\n",
    "            'Bolsonaro':votos.count(3),\n",
    "            'Ciro': votos.count(4),\n",
    "            'Nulo': votos.count(5),\n",
    "            'Branco': votos.count(6)}\n",
    "#%pip install pandas = Se for a 1 vez que executa isso\n",
    "import pandas as pd #Testando o Pandas\n",
    "teste = pd.Series(resultado)\n",
    "df = pd.DataFrame(teste)\n",
    "df = df.rename(columns={0:'Votos'})\n",
    "df.columns.name = 'Nome'\n",
    "df"
   ]
  },
  {
   "cell_type": "code",
   "execution_count": 40,
   "id": "2688da35",
   "metadata": {},
   "outputs": [
    {
     "name": "stdout",
     "output_type": "stream",
     "text": [
      "A porcentagem de votos nulos sobre o total é de 5.68%\n",
      "A porcentagem de votos brancos sobre o total é de 4.55%\n"
     ]
    }
   ],
   "source": [
    "print(f'A porcentagem de votos nulos sobre o total é de {(resultado[\"Nulo\"]*100)/sum(votos):.2f}%')\n",
    "print(f'A porcentagem de votos brancos sobre o total é de {(resultado[\"Branco\"]*100)/sum(votos):.2f}%')"
   ]
  },
  {
   "cell_type": "markdown",
   "id": "e7902ade",
   "metadata": {},
   "source": [
    "### 45. Desenvolver um programa para verificar a nota do aluno em uma prova com 10 questões, o programa deve perguntar ao aluno a resposta de cada questão e ao final comparar com o gabarito da prova e assim calcular o total de acertos e a nota (atribuir 1 ponto por resposta certa). Após cada aluno utilizar o sistema deve ser feita uma pergunta se outro aluno vai utilizar o sistema. \n",
    "<p>Após todos os alunos terem respondido informar:</p>\n",
    "<li> Maior e Menor Acerto;</li>\n",
    "<li>Total de Alunos que utilizaram o sistema;</li>\n",
    "<li> A Média das Notas da Turma</li>"
   ]
  },
  {
   "cell_type": "code",
   "execution_count": 41,
   "id": "fd729b2e",
   "metadata": {},
   "outputs": [
    {
     "name": "stdout",
     "output_type": "stream",
     "text": [
      "obrigado!\n"
     ]
    }
   ],
   "source": [
    "#Pegar os valores:\n",
    "def pegar_Valores():\n",
    "    numero_alunos = int(input('Quantos alunos fizeram a prova: '))\n",
    "    alunos = []\n",
    "    for aluno in range(numero_alunos):\n",
    "        alternativas = []\n",
    "        \n",
    "        for alternativa in range(10):\n",
    "            alternativas.append(input(f'Qual alternativa marcou na {alternativa+1}° Questão: '))\n",
    "            \n",
    "        alternativas = list(map(lambda param: param.upper(), alternativas))\n",
    "        alunos.append(alternativas)\n",
    "        clear_output(wait=True)\n",
    "        \n",
    "    return alunos\n",
    "gabarito = ['A','B','C','D','E','E','D','C','B','A']\n",
    "alunos = pegar_Valores()\n",
    "clear_output(wait=True)\n",
    "print('obrigado!')"
   ]
  },
  {
   "cell_type": "code",
   "execution_count": 45,
   "id": "fdc25010",
   "metadata": {},
   "outputs": [],
   "source": [
    "#Verificar os valores\n",
    "notas = []\n",
    "for index in range(len(alunos)):\n",
    "    acertos = 0\n",
    "    for questao in range(10):\n",
    "        if alunos[index][questao] == gabarito[questao]:\n",
    "            acertos += 1\n",
    "    notas.append(acertos)"
   ]
  },
  {
   "cell_type": "code",
   "execution_count": 46,
   "id": "9fc5f24a",
   "metadata": {},
   "outputs": [
    {
     "name": "stdout",
     "output_type": "stream",
     "text": [
      "O 1° aluno tirou nota 2.\n",
      "O 2° aluno tirou nota 1.\n",
      "\n",
      "A menor nota da turma foi 1\n",
      "A maior nota da turma foi 2\n",
      "A nota média da turma foi 1.50\n"
     ]
    }
   ],
   "source": [
    "resultado = [print(f'O {aluno+1}° aluno tirou nota {notas[aluno]}.') for aluno in range(len(notas))]\n",
    "print(f'\\nA menor nota da turma foi {min(notas)}')\n",
    "print(f'A maior nota da turma foi {max(notas)}')\n",
    "print(f'A nota média da turma foi {sum(notas)/len(notas):.2f}')"
   ]
  },
  {
   "cell_type": "markdown",
   "id": "f8a51a98",
   "metadata": {},
   "source": [
    "Após concluir isto você poderia incrementar o programa permitindo que o professor digite o gabarito da prova antes dos alunos usarem o programa."
   ]
  },
  {
   "cell_type": "code",
   "execution_count": 47,
   "id": "c7b75800",
   "metadata": {},
   "outputs": [
    {
     "name": "stdout",
     "output_type": "stream",
     "text": [
      "['A', 'B', 'C', 'A', 'B', 'C', 'A', 'B', 'C', 'A']\n"
     ]
    }
   ],
   "source": [
    "# So alterar o gabarito para que seja digitado pelo professor\n",
    "gabarito = [input(f'Qual a resposta da {contador+1}° questão: ') for contador in range(10)]\n",
    "clear_output(wait=True)\n",
    "gabarito = list(map(lambda letra: letra.upper(),gabarito))\n",
    "print(gabarito)"
   ]
  },
  {
   "cell_type": "markdown",
   "id": "c9a51b2b",
   "metadata": {},
   "source": [
    "### 46. Em uma competição de salto em distância cada atleta tem direito a cinco saltos. No final da série de saltos de cada atleta, o melhor e o pior resultados são eliminados. O seu resultado fica sendo a média dos três valores restantes. Você deve fazer um programa que receba o nome e as cinco distâncias alcançadas pelo atleta em seus saltos e depois informe a média dos saltos conforme a descrição acima informada (retirar o melhor e o pior salto e depois calcular a média).\n",
    "<p> Faça uso de uma lista para armazenar os saltos. Os saltos são informados na ordem da execução, portanto não são ordenados. O programa deve ser encerrado quando não for informado o nome do atleta. A saída do programa deve ser conforme o exemplo abaixo: </p>"
   ]
  },
  {
   "cell_type": "code",
   "execution_count": 48,
   "id": "55c18c26",
   "metadata": {},
   "outputs": [],
   "source": [
    "# Atleta: Rodrigo Curvêllo\n",
    "\n",
    "# Primeiro Salto: 6.5 m\n",
    "# Segundo Salto: 6.1 m\n",
    "# Terceiro Salto: 6.2 m\n",
    "# Quarto Salto: 5.4 m\n",
    "# Quinto Salto: 5.3 m\n",
    "\n",
    "# Melhor salto:  6.5 m\n",
    "# Pior salto: 5.3 m\n",
    "# Média dos demais saltos: 5.9 m\n",
    "\n",
    "# Resultado final:\n",
    "# Rodrigo Curvêllo: 5.9 m"
   ]
  },
  {
   "cell_type": "code",
   "execution_count": 51,
   "id": "54589b7d",
   "metadata": {},
   "outputs": [
    {
     "name": "stdout",
     "output_type": "stream",
     "text": [
      "Atleta: Thanael\n",
      "\n",
      "Primeiro Salto : 1.5 m\n",
      "Segundo Salto : 1.4 m\n",
      "Terceiro Salto : 1.22 m\n",
      "Quarto Salto : 1.3 m\n",
      "Quinto Salto : 1.9 m\n",
      "\n",
      "Melhor Salto: 1.9 m\n",
      "Pior Salto: 1.22 m\n",
      "Média dos demais Saltos: 1.40 m\n",
      "\n",
      "Resultado final:\n",
      "Thanael : 1.40 m\n"
     ]
    }
   ],
   "source": [
    "atleta = {'saltos':[]}\n",
    "atleta['nome'] = input('Digite o nome do Atleta: ')\n",
    "saltos_nome = ['Primeiro Salto','Segundo Salto','Terceiro Salto', 'Quarto Salto','Quinto Salto']\n",
    "atleta['saltos'] = [float(input(f'Qual a distancia do {cont+1}° salto: ')) for cont in range(5)]\n",
    "clear_output(wait=True)\n",
    "print(f'Atleta: {atleta[\"nome\"]}\\n')\n",
    "saltos = [print(f'{saltos_nome[index]} : {atleta[\"saltos\"][index]} m') for index in range(len(saltos_nome))]\n",
    "#apagar o maior e menor salto\n",
    "maior_salto = atleta['saltos'].index(max(atleta['saltos']))\n",
    "menor_salto = atleta['saltos'].index(min(atleta['saltos']))\n",
    "#printar\n",
    "print(f'\\nMelhor Salto: {max(atleta[\"saltos\"])} m')\n",
    "print(f'Pior Salto: {min(atleta[\"saltos\"])} m')\n",
    "atleta['saltos'].pop(maior_salto)\n",
    "atleta['saltos'].pop(menor_salto)\n",
    "print(f'Média dos demais Saltos: {sum(atleta[\"saltos\"])/len(atleta[\"saltos\"]):.2f} m')\n",
    "print('\\nResultado final:')\n",
    "print(f'{atleta[\"nome\"]} : {sum(atleta[\"saltos\"])/len(atleta[\"saltos\"]):.2f} m')"
   ]
  },
  {
   "cell_type": "markdown",
   "id": "7d6c651a",
   "metadata": {},
   "source": [
    "### 47. Em uma competição de ginástica, cada atleta recebe votos de sete jurados. A melhor e a pior nota são eliminadas. A sua nota fica sendo a média dos votos restantes. Você deve fazer um programa que receba o nome do ginasta e as notas dos sete jurados alcançadas pelo atleta em sua apresentação e depois informe a sua média, conforme a descrição acima informada (retirar o melhor e o pior salto e depois calcular a média com as notas restantes). \n",
    "<p>As notas não são informados ordenadas. Um exemplo de saída do programa deve ser conforme o exemplo abaixo:</p>"
   ]
  },
  {
   "cell_type": "code",
   "execution_count": 52,
   "id": "38357a59",
   "metadata": {},
   "outputs": [],
   "source": [
    "# Atleta: Aparecido Parente\n",
    "# Nota: 9.9\n",
    "# Nota: 7.5\n",
    "# Nota: 9.5\n",
    "# Nota: 8.5\n",
    "# Nota: 9.0\n",
    "# Nota: 8.5\n",
    "# Nota: 9.7\n",
    "\n",
    "# Resultado final:\n",
    "# Atleta: Aparecido Parente\n",
    "# Melhor nota: 9.9\n",
    "# Pior nota: 7.5\n",
    "# Média: 9,04"
   ]
  },
  {
   "cell_type": "code",
   "execution_count": 53,
   "id": "fbf1e625",
   "metadata": {},
   "outputs": [
    {
     "name": "stdout",
     "output_type": "stream",
     "text": [
      "\n",
      "Atleta: Thanael\n",
      "Nota: 9.8\n",
      "Nota: 9.7\n",
      "Nota: 8.0\n",
      "Nota: 9.9\n",
      "Nota: 9.5\n",
      "Nota: 9.4\n",
      "Nota: 9.5\n",
      "\n",
      "Resultado Final:\n",
      "Atleta: Thanael\n",
      "Melhor nota: 9.9\n",
      "Pior nota: 8.0\n",
      "Média: 9.58\n"
     ]
    }
   ],
   "source": [
    "atleta = input('Qual o nome do(a) Atleta: ')\n",
    "votos = [float(input(f'Qual o voto do {cont+1}° jurado: ')) for cont in range(7)]\n",
    "clear_output(wait=True)\n",
    "#Prints:\n",
    "print(f'\\nAtleta: {atleta}')\n",
    "comp_print = [print(f'Nota: {nota}') for nota in votos]\n",
    "\n",
    "print('\\nResultado Final:')\n",
    "print(f'Atleta: {atleta}')\n",
    "print(f'Melhor nota: {max(votos)}')\n",
    "print(f'Pior nota: {min(votos)}')\n",
    "votos.pop(votos.index(max(votos))) #apagar a maior nota\n",
    "votos.pop(votos.index(min(votos))) #apagar a menor nota\n",
    "print(f'Média: {sum(votos)/len(votos):.2f}')\n"
   ]
  },
  {
   "cell_type": "markdown",
   "id": "d9cb7358",
   "metadata": {},
   "source": [
    "### 48. Faça um programa que peça um numero inteiro positivo e em seguida mostre este numero invertido.\n",
    "Exemplo:"
   ]
  },
  {
   "cell_type": "code",
   "execution_count": 54,
   "id": "54fe2020",
   "metadata": {},
   "outputs": [],
   "source": [
    "#   12376489\n",
    "#   => 98467321"
   ]
  },
  {
   "cell_type": "code",
   "execution_count": 55,
   "id": "d04fa76a",
   "metadata": {},
   "outputs": [
    {
     "name": "stdout",
     "output_type": "stream",
     "text": [
      "Digite um numero inteiro para ve-lo de maneira invertida: 126748131685186023\n",
      "320681586131847621\n"
     ]
    }
   ],
   "source": [
    "num = (input('Digite um numero inteiro para ve-lo de maneira invertida: '))\n",
    "print(num[::-1])"
   ]
  },
  {
   "cell_type": "markdown",
   "id": "5964cb7f",
   "metadata": {},
   "source": [
    "### 49. Faça um programa que mostre os n termos da Série a seguir"
   ]
  },
  {
   "cell_type": "code",
   "execution_count": 56,
   "id": "86c00495",
   "metadata": {},
   "outputs": [],
   "source": [
    "# S = 1/1 + 2/3 + 3/5 + 4/7 + 5/9 + ... + n/m.  #numero de cima é o cont    # de baixo os impares"
   ]
  },
  {
   "cell_type": "code",
   "execution_count": 57,
   "id": "afb40eab",
   "metadata": {},
   "outputs": [
    {
     "name": "stdout",
     "output_type": "stream",
     "text": [
      "Digite um numero para ver a sequencia até ele: 10\n"
     ]
    }
   ],
   "source": [
    "limite = int(input('Digite um numero para ver a sequencia até ele: '))\n",
    "baixo, lista, lista_resultados = 1, [], []\n",
    "for contador in range(1,limite+1):\n",
    "    sequencia = f'{contador}/{baixo}'\n",
    "    lista.append(sequencia)\n",
    "    lista_resultados.append(contador/baixo)\n",
    "    baixo += 2"
   ]
  },
  {
   "cell_type": "code",
   "execution_count": 58,
   "id": "432ae6aa",
   "metadata": {},
   "outputs": [
    {
     "name": "stdout",
     "output_type": "stream",
     "text": [
      "1/1 + 2/3 + 3/5 + 4/7 + 5/9 + 6/11 + 7/13 + 8/15 + 9/17 + 10/19.\n",
      "A soma da série: 6.07\n"
     ]
    }
   ],
   "source": [
    "printar = [print(numero,end = '.') if numero == lista[-1] else print(numero,'+ ' ,end = '') for numero in lista]\n",
    "#Imprima no final a soma da série.\n",
    "print(f'\\nA soma da série: {sum(lista_resultados):.2f}')"
   ]
  },
  {
   "cell_type": "markdown",
   "id": "e49f3e94",
   "metadata": {},
   "source": [
    "### 50. Sendo H= 1 + 1/2 + 1/3 + 1/4 + ... + 1/N, Faça um programa que calcule o valor de H com N termos.\n"
   ]
  },
  {
   "cell_type": "code",
   "execution_count": 60,
   "id": "bb811891",
   "metadata": {},
   "outputs": [
    {
     "name": "stdout",
     "output_type": "stream",
     "text": [
      "digite um numero para vermos o valor do H: 10\n",
      "Novo valor de H é:  2.93\n"
     ]
    }
   ],
   "source": [
    "# H = 1 sempre\n",
    "# N = contador\n",
    "resultado = 0\n",
    "limite = int(input('digite um numero para vermos o valor do H: '))\n",
    "for sequencia in range(1,limite+1):\n",
    "    resultado += 1/sequencia\n",
    "print('Novo valor de H é: ', round(resultado,2))"
   ]
  }
 ],
 "metadata": {
  "kernelspec": {
   "display_name": "Python 3",
   "language": "python",
   "name": "python3"
  },
  "language_info": {
   "codemirror_mode": {
    "name": "ipython",
    "version": 3
   },
   "file_extension": ".py",
   "mimetype": "text/x-python",
   "name": "python",
   "nbconvert_exporter": "python",
   "pygments_lexer": "ipython3",
   "version": "3.9.2"
  }
 },
 "nbformat": 4,
 "nbformat_minor": 5
}
