{
 "cells": [
  {
   "cell_type": "markdown",
   "id": "9885af63",
   "metadata": {},
   "source": [
    "<h1> Repositório criado para treinar estruturas de condições no python</h1>\n",
    "<h4 align='right'> Exercícios disponíveis  em <a href='https://wiki.python.org.br/EstruturaDeDecisao'>python brasil </a> </h4>\n",
    "<hr>"
   ]
  },
  {
   "cell_type": "markdown",
   "id": "d437923b",
   "metadata": {},
   "source": [
    "<h3> 1. Faça um Programa que peça dois números e imprima o maior deles. </h3>"
   ]
  },
  {
   "cell_type": "code",
   "execution_count": 1,
   "id": "5df8aa72",
   "metadata": {},
   "outputs": [
    {
     "name": "stdout",
     "output_type": "stream",
     "text": [
      "Digite o 1° Número: 10\n",
      "Digite o 2° Número: 20\n",
      "20 é maior que 10\n"
     ]
    }
   ],
   "source": [
    "n1 = int(input('Digite o 1° Número: '))\n",
    "n2 = int(input('Digite o 2° Número: '))\n",
    "if n1 > n2:\n",
    "    print(f'{n1} é maior que {n2}')\n",
    "elif n2 > n1:\n",
    "    print(f'{n2} é maior que {n1}')\n",
    "else:\n",
    "    print(f'{n1} é igual a {n2}')\n"
   ]
  },
  {
   "cell_type": "code",
   "execution_count": 2,
   "id": "4b779633",
   "metadata": {},
   "outputs": [
    {
     "name": "stdout",
     "output_type": "stream",
     "text": [
      "Digite o 1° número 48\n",
      "Digite o 2° número 0\n",
      "48 é o maior número\n"
     ]
    }
   ],
   "source": [
    "#Utilizando max\n",
    "lista = []  #Cria a lista vazia\n",
    "for i in range(2):  #um for para pedir 2 numeros\n",
    "    lista.append(int(input(f'Digite o {i +1}° número ')))  #Adicionar os numeros a lista\n",
    "print(f'{max(lista)} é o maior número') #Mostrar a comparação"
   ]
  },
  {
   "cell_type": "markdown",
   "id": "528dac5c",
   "metadata": {},
   "source": [
    "<h3> 2. Faça um Programa que peça um valor e mostre na tela se o valor é positivo ou negativo. </h3>"
   ]
  },
  {
   "cell_type": "code",
   "execution_count": 3,
   "id": "7ab629d2",
   "metadata": {},
   "outputs": [
    {
     "name": "stdout",
     "output_type": "stream",
     "text": [
      "Digite um número: -5\n",
      "-5.0 é um número negativo \n"
     ]
    }
   ],
   "source": [
    "n = float(input('Digite um número: '))\n",
    "def positivo_negativo(n):\n",
    "    if n > 0:\n",
    "        print(f'{n} é um numero positivo ')\n",
    "    elif n < 0:\n",
    "        print(f'{n} é um número negativo ')\n",
    "    else:\n",
    "        print(f'{n} é um número neutro')\n",
    "positivo_negativo(n)"
   ]
  },
  {
   "cell_type": "markdown",
   "id": "6c440f7b",
   "metadata": {},
   "source": [
    "<h3> 3. Faça um Programa que verifique se uma letra digitada é \"F\" ou \"M\". Conforme a letra escrever: F - Feminino, M - Masculino, Sexo Inválido </h3>"
   ]
  },
  {
   "cell_type": "code",
   "execution_count": 4,
   "id": "0f0cb128",
   "metadata": {},
   "outputs": [
    {
     "name": "stdout",
     "output_type": "stream",
     "text": [
      "Digite seu Sexo \n",
      "F-Feminino\n",
      "M-Masculino\n",
      "M\n",
      "Você é do sexo Masculino\n"
     ]
    }
   ],
   "source": [
    "genero = input('Digite seu Sexo \\nF-Feminino\\nM-Masculino\\n')\n",
    "if genero == 'F':\n",
    "    print('Você é do sexo Feminino')\n",
    "elif genero =='M':\n",
    "    print('Você é do sexo Masculino')\n",
    "else:\n",
    "    print('Sexo Inválido!')"
   ]
  },
  {
   "cell_type": "markdown",
   "id": "77b2b82f",
   "metadata": {},
   "source": [
    "<h3>4. Faça um Programa que verifique se uma letra digitada é vogal ou consoante. </h3>"
   ]
  },
  {
   "cell_type": "code",
   "execution_count": 5,
   "id": "8fa23694",
   "metadata": {},
   "outputs": [
    {
     "name": "stdout",
     "output_type": "stream",
     "text": [
      "Digite uma letra: a\n",
      "\"a\" é uma vogal\n"
     ]
    }
   ],
   "source": [
    "vogais = ['a','e','i','o','u']\n",
    "letra = input('Digite uma letra: ')\n",
    "letra = letra.lower()\n",
    "if letra in vogais:   #Caso letra in vogais for TRUE ele entra no if \n",
    "    print(f'\"{letra}\" é uma vogal')\n",
    "else:\n",
    "    print(f'\"{letra}\" é uma consoante')"
   ]
  },
  {
   "cell_type": "markdown",
   "id": "7fecc9d7",
   "metadata": {},
   "source": [
    "<h3> 5. Faça um programa para a leitura de duas notas parciais de um aluno. O programa deve calcular a média alcançada por aluno e apresentar: </h3>\n",
    "   <blockquote><li> A mensagem \"Aprovado\", se a média alcançada for <b>maior ou igual a sete</b>; </li>\n",
    "    <li> A mensagem \"Reprovado\", se a média for <b>menor do que sete</b>;</li>\n",
    "    <li> A mensagem \"Aprovado com Distinção\", se a média for <b>igual a dez</b>.</li> </blockquote>\n"
   ]
  },
  {
   "cell_type": "code",
   "execution_count": 6,
   "id": "97447f47",
   "metadata": {},
   "outputs": [
    {
     "name": "stdout",
     "output_type": "stream",
     "text": [
      "Digite a 1° Nota: 10\n",
      "Digite a 2° Nota: 10\n",
      "Aprovado com Distinção, tendo a nota 10.00\n"
     ]
    }
   ],
   "source": [
    "n1 = float(input('Digite a 1° Nota: '))\n",
    "n2 = float(input('Digite a 2° Nota: '))\n",
    "media = (n1+n2) / 2\n",
    "if media == 10:\n",
    "    print(f'Aprovado com Distinção, tendo a nota {media:.2f}')\n",
    "elif media >= 7:\n",
    "    print(f'Aprovado com nota {media:.2f}')\n",
    "elif media < 7:\n",
    "    print(f'Reprovado com nota {media:.2f}')"
   ]
  },
  {
   "cell_type": "markdown",
   "id": "08fb184d",
   "metadata": {},
   "source": [
    "<h3> 6. Faça um Programa que leia três números e mostre o maior deles. </h3>"
   ]
  },
  {
   "cell_type": "code",
   "execution_count": 7,
   "id": "86c30024",
   "metadata": {},
   "outputs": [
    {
     "name": "stdout",
     "output_type": "stream",
     "text": [
      "Digite o 1° Número: 1\n",
      "Digite o 2° Número: 8\n",
      "Digite o 3° Número: 3\n",
      "O Maior numero é 8\n"
     ]
    }
   ],
   "source": [
    "#list comprehension [expr for item in lista]\n",
    "lista = [int(input(f'Digite o {item + 1}° Número: ')) for item in range(3)] #Lembrar de colocar o int() antes do input\n",
    "print(f'O Maior numero é {max(lista)}')"
   ]
  },
  {
   "cell_type": "markdown",
   "id": "bb251f96",
   "metadata": {},
   "source": [
    "<h3>7. Faça um Programa que leia três números e mostre o maior e o menor deles. </h3>"
   ]
  },
  {
   "cell_type": "code",
   "execution_count": 8,
   "id": "a515f24c",
   "metadata": {},
   "outputs": [
    {
     "name": "stdout",
     "output_type": "stream",
     "text": [
      "Digite o 1° Número: 1\n",
      "Digite o 2° Número: 3\n",
      "Digite o 3° Número: 5\n",
      "O Maior número é 5\n",
      "O Menor número é 1\n"
     ]
    }
   ],
   "source": [
    "lista = [int(input(f'Digite o {item + 1}° Número: ')) for item in range(3)]\n",
    "print(f'O Maior número é {max(lista)}')\n",
    "print(f'O Menor número é {min(lista)}')"
   ]
  },
  {
   "cell_type": "markdown",
   "id": "d461b6a9",
   "metadata": {},
   "source": [
    "<h3> 8. Faça um programa que pergunte o preço de três produtos e informe qual produto você deve comprar, sabendo que a decisão é sempre pelo mais barato. </h3>"
   ]
  },
  {
   "cell_type": "code",
   "execution_count": 9,
   "id": "de1da989",
   "metadata": {},
   "outputs": [
    {
     "name": "stdout",
     "output_type": "stream",
     "text": [
      "Digite o preço do 1 produto: 75\n",
      "Digite o preço do 2 produto: 50\n",
      "Digite o preço do 3 produto: 60\n",
      "Voce deve comprar o produto mais barato que custa 50.00 Reais\n"
     ]
    }
   ],
   "source": [
    "lista = [float(input(f'Digite o preço do {i + 1} produto: ')) for i in range(3)]\n",
    "print(f'Voce deve comprar o produto mais barato que custa {min(lista):.2f} Reais')"
   ]
  },
  {
   "cell_type": "markdown",
   "id": "54341b1a",
   "metadata": {},
   "source": [
    "<h3>9. Faça um Programa que leia três números e mostre-os em ordem decrescente. </h3>"
   ]
  },
  {
   "cell_type": "code",
   "execution_count": 10,
   "id": "0a7d0f98",
   "metadata": {},
   "outputs": [
    {
     "name": "stdout",
     "output_type": "stream",
     "text": [
      "Digite o 1° número: 1\n",
      "Digite o 2° número: 2\n",
      "Digite o 3° número: 3\n",
      "[3, 2, 1]\n"
     ]
    }
   ],
   "source": [
    "numeros = [int(input(f'Digite o {i + 1}° número: ')) for i in range(3)]\n",
    "numeros.sort()\n",
    "print(numeros[::-1])"
   ]
  },
  {
   "cell_type": "markdown",
   "id": "3d4506d1",
   "metadata": {},
   "source": [
    "<h3>10. Faça um Programa que pergunte em que turno você estuda. Peça para digitar M-matutino ou V-Vespertino ou N- Noturno. Imprima a mensagem \"Bom Dia!\", \"Boa Tarde!\" ou \"Boa Noite!\" ou \"Valor Inválido!\", conforme o caso. </h3>"
   ]
  },
  {
   "cell_type": "code",
   "execution_count": 11,
   "id": "54851d3b",
   "metadata": {},
   "outputs": [
    {
     "name": "stdout",
     "output_type": "stream",
     "text": [
      "Em que turno voce estuda  \n",
      "M - Matutino \n",
      "V - Vespertino \n",
      "N - Noturno  \n",
      "N\n",
      "Boa Noite!\n"
     ]
    }
   ],
   "source": [
    "turno = input('Em que turno voce estuda  \\nM - Matutino \\nV - Vespertino \\nN - Noturno  \\n')\n",
    "turno = turno.upper()\n",
    "if turno == 'M':\n",
    "    print('Bom Dia!')\n",
    "elif turno == 'V':\n",
    "    print('Boa Tarde!')\n",
    "elif turno == 'N':\n",
    "    print('Boa Noite!')\n",
    "else:\n",
    "    print('Valor Inválido!')"
   ]
  },
  {
   "cell_type": "markdown",
   "id": "a35454a2",
   "metadata": {},
   "source": [
    "<h3> 11. As Organizações Tabajara resolveram dar um aumento de salário aos seus colaboradores e lhe contrataram para desenvolver o programa que calculará os reajustes.</h3>\n",
    "<h4>Faça um programa que recebe o salário de um colaborador e o reajuste segundo o seguinte critério, baseado no salário atual: </h4>\n",
    "<blockquote>\n",
    "    <li>salários até 280,00 (incluindo) : aumento de 20% </li>\n",
    "<li>salários entre 280,00 e 700,00 : aumento de 15%</li>\n",
    "<li>salários entre 700,00 e 1500,00 : aumento de 10%</li>\n",
    "    <li>salários de 1500,00 em diante : aumento de 5% </li>\n",
    "    <li> <b> Após o aumento ser realizado, informe na tela: </b> </li>\n",
    "    <blockquote>\n",
    "    <li>o salário antes do reajuste;</li>\n",
    "    <li>o percentual de aumento aplicado;</li>\n",
    "    <li>o valor do aumento;</li>\n",
    "    <li>o novo salário, após o aumento.</li>\n",
    "    </blockquote>\n",
    "</blockquote>"
   ]
  },
  {
   "cell_type": "code",
   "execution_count": 12,
   "id": "f8538365",
   "metadata": {},
   "outputs": [
    {
     "name": "stdout",
     "output_type": "stream",
     "text": [
      "Digite o seu salario: 1250\n",
      "Salario antes do reajuste é de R$1250.00 \n",
      "Percentual de aumento é de 10% \n",
      "Valor do aumento a receber é de R$125.00\n",
      "Seu novo Salario é de R$1375.00\n"
     ]
    }
   ],
   "source": [
    "salario = float(input('Digite o seu salario: '))\n",
    "if salario <= 280.00:\n",
    "    percentual = 0.2\n",
    "elif salario < 700.00:\n",
    "    percentual = 0.15\n",
    "elif salario < 1500.00:\n",
    "    percentual = 0.1\n",
    "elif salario >= 1500.00:\n",
    "    percentual = 0.05\n",
    "\n",
    "aumento = salario * percentual\n",
    "salario_ajustado = salario + aumento\n",
    "\n",
    "print(f'Salario antes do reajuste é de R${salario:.2f} \\n'\n",
    "      f'Percentual de aumento é de {percentual * 100:.0f}% \\n'\n",
    "      f'Valor do aumento a receber é de R${aumento:.2f}\\n'\n",
    "      f'Seu novo Salario é de R${salario_ajustado:.2f}')\n",
    "\n",
    "    "
   ]
  },
  {
   "cell_type": "markdown",
   "id": "f0b9dc20",
   "metadata": {},
   "source": [
    "<h3> 12. Faça um programa para o cálculo de uma folha de pagamento, sabendo que os descontos são do Imposto de Renda, que depende do salário bruto (conforme tabela abaixo) e 3% para o Sindicato e que o FGTS corresponde a 11% do Salário Bruto, mas não é descontado (é a empresa que deposita).</h3><h4> O Salário Líquido corresponde ao Salário Bruto menos os descontos. O programa deverá pedir ao usuário o valor da sua hora e a quantidade de horas trabalhadas no mês.\n",
    "Desconto do IR: </h4>\n",
    "<blockquote>\n",
    "<li>Salário Bruto até 900 (inclusive) - isento </li>\n",
    "<li>Salário Bruto até 1500 (inclusive) - desconto de 5%</li>\n",
    "<li>Salário Bruto até 2500 (inclusive) - desconto de 10%</li>\n",
    "<li>Salário Bruto acima de 2500 - desconto de 20% Imprima na tela as informações, dispostas conforme o exemplo abaixo. No exemplo o valor da hora é 5 e a quantidade de hora é 220.</li>\n",
    "</blockquote>"
   ]
  },
  {
   "cell_type": "code",
   "execution_count": 13,
   "id": "7daf9e39",
   "metadata": {},
   "outputs": [],
   "source": [
    "#Salário Bruto: (5 * 220)        : R$ 1100,00\n",
    "#(-) IR (5%)                     : R$   55,00\n",
    "#(-) INSS ( 10%)                 : R$  110,00\n",
    "#FGTS (11%)                      : R$  121,00\n",
    "#Total de descontos              : R$  165,00\n",
    "#Salário Liquido                 : R$  935,00"
   ]
  },
  {
   "cell_type": "code",
   "execution_count": 14,
   "id": "0940c4f9",
   "metadata": {},
   "outputs": [
    {
     "name": "stdout",
     "output_type": "stream",
     "text": [
      "Qual o valor da sua hora trabalhada: 4\n",
      "Quantas horas trabalha ao mês: 100\n",
      "\n",
      " Salario bruto (RS 4.0 * 100)                       : R$ 400.00\n",
      " (-) IR (0%)                                        : R$ 0.00\n",
      " (-) INSS (3%)                                      : R$ 12.00\n",
      " FGTS (11%)                                         : R$ 44.00\n",
      " Total de descontos                                 : R$ 56.00\n",
      " Salário Liquido                                    : R$ 388.00\n"
     ]
    }
   ],
   "source": [
    "valor_hora = float(input('Qual o valor da sua hora trabalhada: '))\n",
    "horas = int(input('Quantas horas trabalha ao mês: '))\n",
    "salario_bruto = valor_hora * horas\n",
    "\n",
    "if salario_bruto <= 900:\n",
    "    desconto = 0\n",
    "elif salario_bruto <= 1500:\n",
    "    desconto = 0.05\n",
    "elif salario_bruto <= 2500:\n",
    "    desconto = 0.1\n",
    "elif salario_bruto > 2500:\n",
    "    desconto = 0.2\n",
    "    #total de descontos\n",
    "imposto = salario_bruto * desconto\n",
    "fgts = salario_bruto * 0.11\n",
    "sindicato = salario_bruto * 0.03\n",
    "    #Salario liquido\n",
    "salario_liquido = salario_bruto - imposto - sindicato\n",
    "print(f'\\n Salario bruto (RS {valor_hora} * {horas})                       : R$ {salario_bruto:.2f}'\n",
    "      f'\\n (-) IR ({desconto *100 :.0f}%)                                        : R$ {imposto:.2f}'\n",
    "      f'\\n (-) INSS (3%)                                      : R$ {sindicato:.2f}'\n",
    "      f'\\n FGTS (11%)                                         : R$ {fgts:.2f}'\n",
    "      f'\\n Total de descontos                                 : R$ {(fgts + imposto + sindicato):.2f}'\n",
    "      f'\\n Salário Liquido                                    : R$ {salario_liquido:.2f}')\n"
   ]
  },
  {
   "cell_type": "markdown",
   "id": "ce1ba096",
   "metadata": {},
   "source": [
    "<h3>13. Faça um Programa que leia um número e exiba o dia correspondente da semana. (1-Domingo, 2- Segunda, etc.), se digitar outro valor deve aparecer valor inválido. </h3>"
   ]
  },
  {
   "cell_type": "code",
   "execution_count": 15,
   "id": "aff3f6a4",
   "metadata": {},
   "outputs": [
    {
     "name": "stdout",
     "output_type": "stream",
     "text": [
      "Digite um numero para ver o dia correspondente da semana: 5\n",
      "Quinta\n"
     ]
    }
   ],
   "source": [
    "dict = {1:'Domingo', 2: 'Segunda', 3:'Terça', 4:'Quarta', 5:'Quinta', 6:'Sexta', 7:'Sabado'}\n",
    "num = int(input('Digite um numero para ver o dia correspondente da semana: '))\n",
    "if num in dict:\n",
    "    print(dict[num])\n",
    "else:\n",
    "    print('Valor Inválido!')"
   ]
  },
  {
   "cell_type": "markdown",
   "id": "35ce738b",
   "metadata": {},
   "source": [
    "<h3> 14. Faça um programa que lê as duas notas parciais obtidas por um aluno numa disciplina ao longo de um semestre, e calcule a sua média. A atribuição de conceitos obedece à tabela abaixo: </h3><h4>\n",
    "O algoritmo deve mostrar na tela as notas, a média, o conceito correspondente e a mensagem “APROVADO” se o conceito for A, B ou C ou “REPROVADO” se o conceito for D ou E.</h4>"
   ]
  },
  {
   "cell_type": "code",
   "execution_count": 16,
   "id": "93c18447",
   "metadata": {},
   "outputs": [],
   "source": [
    "# Média de Aproveitamento  Conceito\n",
    "#  Entre 9.0 e 10.0        A\n",
    "#  Entre 7.5 e 9.0         B\n",
    "#  Entre 6.0 e 7.5         C\n",
    "#  Entre 4.0 e 6.0         D\n",
    "#  Entre 4.0 e zero        E"
   ]
  },
  {
   "cell_type": "code",
   "execution_count": 18,
   "id": "c68d015d",
   "metadata": {},
   "outputs": [
    {
     "name": "stdout",
     "output_type": "stream",
     "text": [
      "Digite a 1° notas: 7\n",
      "Digite a 2° notas: 8\n",
      "Você possui as notas 7.0 e 8.0 fazendo com que sua media seja 7.5 possuindo o conceito de C, resultando em APROVADO \n"
     ]
    }
   ],
   "source": [
    "notas = [float(input(f'Digite a {i + 1}° notas: ')) for i in range(2)]\n",
    "media = sum(notas)/len(notas)\n",
    "if media <= 4 and media >= 0:\n",
    "    conceito = 'E'\n",
    "elif media <= 6:\n",
    "    conceito = 'D'\n",
    "elif media <=7.5:\n",
    "    conceito = 'C'\n",
    "elif media <= 9:\n",
    "    conceito = 'B'\n",
    "elif media <= 10:\n",
    "    conceito = 'A'\n",
    "\n",
    "if conceito == 'A' or conceito == 'B' or conceito == 'C':\n",
    "    resultado = 'APROVADO'\n",
    "else:\n",
    "    resultado = 'REPROVADO'\n",
    "print(f'Você possui as notas {notas[0]} e {notas[1]} fazendo com que sua media seja {media:.1f} possuindo o conceito de {conceito}, resultando em {resultado} ')"
   ]
  },
  {
   "cell_type": "markdown",
   "id": "cfc35dff",
   "metadata": {},
   "source": [
    "<h3>15. Faça um Programa que peça os 3 lados de um triângulo. O programa deverá informar se os valores podem ser um triângulo. Indique, caso os lados formem um triângulo, se o mesmo é: equilátero, isósceles ou escaleno.\n",
    " <br> Dicas: </h3>\n",
    "<blockquote>\n",
    "    <li>Três lados formam um triângulo quando a soma de quaisquer dois lados for maior que o terceiro;</li>\n",
    "    <li>Triângulo Equilátero: três lados iguais;</li>\n",
    "    <li>Triângulo Isósceles: quaisquer dois lados iguais;</li>\n",
    "    <li>Triângulo Escaleno: três lados diferentes;</li>\n",
    "</blockquote>"
   ]
  },
  {
   "cell_type": "code",
   "execution_count": 21,
   "id": "040ca67e",
   "metadata": {},
   "outputs": [
    {
     "name": "stdout",
     "output_type": "stream",
     "text": [
      "Digite o 1° lado do triangulo: 10\n",
      "Digite o 2° lado do triangulo: 10\n",
      "Digite o 3° lado do triangulo: 10\n",
      "Triangulo Valido\n",
      "Triangulo Equilátero\n"
     ]
    }
   ],
   "source": [
    "lados = [int(input(f'Digite o {i + 1}° lado do triangulo: ')) for i in range(3)]\n",
    "lados.sort()\n",
    "if (lados[0] + lados[1]) > lados[2]:\n",
    "    print('Triangulo Valido')\n",
    "    iguais = 0\n",
    "    #For para comparar um numero com o outro\n",
    "    for i in range(len(lados)):\n",
    "        for contador in range(i):\n",
    "            if lados[contador] == lados[i]:\n",
    "                iguais += 1\n",
    "    if iguais == 3:\n",
    "        print('Triangulo Equilátero')\n",
    "    elif iguais == 2 :\n",
    "        print('Triangulo Isósceles')\n",
    "    else:\n",
    "        print('Triangulo Escaleno')\n",
    "else:\n",
    "    print('Triangulo Inválido!')"
   ]
  },
  {
   "cell_type": "markdown",
   "id": "e315112b",
   "metadata": {},
   "source": [
    "<h3>16. Faça um programa que calcule as raízes de uma equação do segundo grau, na forma ax2 + bx + c. O programa deverá pedir os valores de a, b e c e fazer as consistências, informando ao usuário nas seguintes situações: </h3>\n",
    "<blockquote>\n",
    "<li>Se o usuário informar o valor de A igual a zero, a equação não é do segundo grau e o programa não deve fazer pedir os demais valores, sendo encerrado; </li>\n",
    "<li>Se o delta calculado for negativo, a equação não possui raizes reais. Informe ao usuário e encerre o programa; </li>\n",
    "<li>Se o delta calculado for igual a zero a equação possui apenas uma raiz real; informe-a ao usuário; </li>\n",
    "<li>Se o delta for positivo, a equação possui duas raiz reais; informe-as ao usuário; </li>\n",
    "</blockquote>"
   ]
  },
  {
   "cell_type": "code",
   "execution_count": 25,
   "id": "44d462a0",
   "metadata": {},
   "outputs": [
    {
     "name": "stdout",
     "output_type": "stream",
     "text": [
      "Digite o número referente a \"a\": 1\n",
      "Digite o número referente a \"b\": 2\n",
      "Digite o número referente a \"c\": 1\n",
      "Delta equivale a 0 possuindo apenas uma raiz real que equivale a -1.00\n"
     ]
    }
   ],
   "source": [
    "letra = ['a','b','c']\n",
    "numeros = [] #numeros[0] == A numeros[1] == B e numeros[2] == C\n",
    "for i in range(3):\n",
    "    numeros.append(int(input(f'Digite o número referente a \"{letra[i]}\": ')))\n",
    "    if numeros[0] == 0:\n",
    "        print('A Equação não é de 2°Grau ')\n",
    "        break\n",
    "        \n",
    "#delta = b² - 4ac\n",
    "if numeros[0] != 0:\n",
    "    delta = (numeros[1]**2) - (4*numeros[0]*numeros[2])\n",
    "    baixo = 2*numeros[0]\n",
    "    if delta < 0: \n",
    "        print('A equação nao possui raizes reais')\n",
    "    elif delta == 0:\n",
    "        x = -numeros[1] / baixo\n",
    "        print(f'Delta equivale a {delta} possuindo apenas uma raiz real que equivale a {x:.2f}')\n",
    "    elif delta > 0:\n",
    "        x1 = (-numeros[1] - delta**(1/2)) / baixo\n",
    "        x2 = (-numeros[1] + delta**(1/2)) / baixo\n",
    "        print(f'Delta equivale a {delta} e possui duas raizes reais sendo elas:'\n",
    "              f'\\nA primeira {x1:.2f}'\n",
    "              f'\\nA Segunda {x2:.2f}')"
   ]
  },
  {
   "cell_type": "markdown",
   "id": "908c7a69",
   "metadata": {},
   "source": [
    "<h3>17. Faça um Programa que peça um número correspondente a um determinado ano e em seguida informe se este ano é ou não bissexto. </h3>"
   ]
  },
  {
   "cell_type": "code",
   "execution_count": 26,
   "id": "f666dd98",
   "metadata": {},
   "outputs": [
    {
     "name": "stdout",
     "output_type": "stream",
     "text": [
      "Digite um ano para ver se ele é bissexto2016\n",
      "2016 é BISSEXTO\n"
     ]
    }
   ],
   "source": [
    "ano = int(input('Digite um ano para ver se ele é bissexto'))\n",
    "if (ano % 4 == 0 and ano % 100!= 0) or (ano % 400 ==0):\n",
    "    print(f'{ano} é BISSEXTO')\n",
    "else:\n",
    "    print(f'{ano} não é bissexto')"
   ]
  },
  {
   "cell_type": "markdown",
   "id": "aea6e9a1",
   "metadata": {},
   "source": [
    "<h3>18. Faça um Programa que peça uma data no formato dd/mm/aaaa e determine se a mesma é uma data válida. </h3>\n"
   ]
  },
  {
   "cell_type": "code",
   "execution_count": 27,
   "id": "289c93db",
   "metadata": {
    "scrolled": true
   },
   "outputs": [
    {
     "name": "stdout",
     "output_type": "stream",
     "text": [
      "Digite uma data no seguinte formato dd/mm/aaaa  :  21/01/1995\n",
      "A data insirida é Valida\n",
      "A data inserida: 1995/1/21\n"
     ]
    }
   ],
   "source": [
    "while True:\n",
    "    data = input('Digite uma data no seguinte formato dd/mm/aaaa  :  ')\n",
    "    if data.count('/')!= 2:\n",
    "        print('\\nInsira a data no formato correto, tente novamente')\n",
    "    else:     \n",
    "        data = data.split('/')\n",
    "        try:\n",
    "            year = int(data[2])\n",
    "            month = int(data[1])\n",
    "            day = int(data[0])\n",
    "            break\n",
    "        except:\n",
    "            print('Digite NÚMEROS')\n",
    "\n",
    "import datetime\n",
    "try:\n",
    "    valida = datetime.datetime(year, month, day)\n",
    "    print(f'A data insirida é Valida'\n",
    "          f'\\nA data inserida: {year}/{month}/{day}')\n",
    "except:\n",
    "    print('A data inseria é INVÁLIDA')"
   ]
  },
  {
   "cell_type": "markdown",
   "id": "e53043e6",
   "metadata": {},
   "source": [
    "<h3>19. Faça um Programa que leia um número inteiro menor que 1000 e imprima a quantidade de centenas, dezenas e unidades do mesmo.\n",
    "Observando os termos no plural a colocação do \"e\", da vírgula entre outros. Exemplo: </h3>\n",
    "<blockquote> \n",
    "    <li> 326 = 3 centenas, 2 dezenas e 6 unidades </li>\n",
    "    <li>12 = 1 dezena e 2 unidades </li>\n",
    "    <li> Testar com: 326, 300, 100, 320, 310,305, 301, 101, 311, 111, 25, 20, 10, 21, 11, 1, 7 e 16 </li>\n",
    "</blockquote>"
   ]
  },
  {
   "cell_type": "code",
   "execution_count": 28,
   "id": "55cadbac",
   "metadata": {},
   "outputs": [],
   "source": [
    "def verificar(numero):\n",
    "    int_numero = int(numero)\n",
    "    dict = {}\n",
    "    dict['unidades'] = numero[-1] #definindo as unidades\n",
    "    print(f'O Número digitado foi {numero} possuindo: ')\n",
    "    if int_numero < 10:\n",
    "        print(f'{numero} = {dict[\"unidades\"]} Unidades\\n')\n",
    "    if int_numero > 9 and int_numero < 100:\n",
    "        dict['dezenas'] = numero[-2]# definindo as dezenas\n",
    "        print(f'{numero} = {dict[\"dezenas\"]} Dezenas e {dict[\"unidades\"]} Unidades\\n')   \n",
    "    if int_numero >= 100:\n",
    "        dict['dezenas'] = numero[-2]# definindo as dezenas\n",
    "        dict['centenas'] = numero[-3] #definindo as centenas \n",
    "        print(f'{numero} = {dict[\"centenas\"]} Centenas,{dict[\"dezenas\"]} Dezenas e {dict[\"unidades\"]} Unidades\\n')\n",
    "\n"
   ]
  },
  {
   "cell_type": "code",
   "execution_count": 29,
   "id": "4d6e48b5",
   "metadata": {},
   "outputs": [
    {
     "name": "stdout",
     "output_type": "stream",
     "text": [
      "Digite um número: 75\n",
      "O Número digitado foi 75 possuindo: \n",
      "75 = 7 Dezenas e 5 Unidades\n",
      "\n"
     ]
    }
   ],
   "source": [
    "numero = input('Digite um número: ')\n",
    "try:\n",
    "    int_numero = int(numero)\n",
    "except:\n",
    "    print(\n",
    "        'Digite apenas NUMEROS')\n",
    "verificar(numero)"
   ]
  },
  {
   "cell_type": "code",
   "execution_count": 30,
   "id": "0e0bf0c8",
   "metadata": {},
   "outputs": [
    {
     "name": "stdout",
     "output_type": "stream",
     "text": [
      "O Número digitado foi 326 possuindo: \n",
      "326 = 3 Centenas,2 Dezenas e 6 Unidades\n",
      "\n",
      "O Número digitado foi 300 possuindo: \n",
      "300 = 3 Centenas,0 Dezenas e 0 Unidades\n",
      "\n",
      "O Número digitado foi 100 possuindo: \n",
      "100 = 1 Centenas,0 Dezenas e 0 Unidades\n",
      "\n",
      "O Número digitado foi 320 possuindo: \n",
      "320 = 3 Centenas,2 Dezenas e 0 Unidades\n",
      "\n",
      "O Número digitado foi 310 possuindo: \n",
      "310 = 3 Centenas,1 Dezenas e 0 Unidades\n",
      "\n",
      "O Número digitado foi 305 possuindo: \n",
      "305 = 3 Centenas,0 Dezenas e 5 Unidades\n",
      "\n",
      "O Número digitado foi 301 possuindo: \n",
      "301 = 3 Centenas,0 Dezenas e 1 Unidades\n",
      "\n",
      "O Número digitado foi 101 possuindo: \n",
      "101 = 1 Centenas,0 Dezenas e 1 Unidades\n",
      "\n",
      "O Número digitado foi 311 possuindo: \n",
      "311 = 3 Centenas,1 Dezenas e 1 Unidades\n",
      "\n",
      "O Número digitado foi 111 possuindo: \n",
      "111 = 1 Centenas,1 Dezenas e 1 Unidades\n",
      "\n",
      "O Número digitado foi 25 possuindo: \n",
      "25 = 2 Dezenas e 5 Unidades\n",
      "\n",
      "O Número digitado foi 20 possuindo: \n",
      "20 = 2 Dezenas e 0 Unidades\n",
      "\n",
      "O Número digitado foi 10 possuindo: \n",
      "10 = 1 Dezenas e 0 Unidades\n",
      "\n",
      "O Número digitado foi 21 possuindo: \n",
      "21 = 2 Dezenas e 1 Unidades\n",
      "\n",
      "O Número digitado foi 11 possuindo: \n",
      "11 = 1 Dezenas e 1 Unidades\n",
      "\n",
      "O Número digitado foi 1 possuindo: \n",
      "1 = 1 Unidades\n",
      "\n",
      "O Número digitado foi 7 possuindo: \n",
      "7 = 7 Unidades\n",
      "\n",
      "O Número digitado foi 16 possuindo: \n",
      "16 = 1 Dezenas e 6 Unidades\n",
      "\n"
     ]
    }
   ],
   "source": [
    "lista = ('326', '300', '100', '320', '310','305', '301', '101', '311', '111', '25', '20', '10', '21', '11', '1','7', '16')\n",
    "for i in lista:\n",
    "    numero = i\n",
    "    verificar(numero)"
   ]
  },
  {
   "cell_type": "markdown",
   "id": "93401800",
   "metadata": {},
   "source": [
    "<h3>20. Faça um Programa para leitura de três notas parciais de um aluno. O programa deve calcular a média alcançada por aluno e presentar: </h3>\n",
    "<blockquote>\n",
    "    <li>A mensagem \"Aprovado\", se a média for maior ou igual a 7, com a respectiva média alcançada;</li>\n",
    "    <li>A mensagem \"Reprovado\", se a média for menor do que 7, com a respectiva média alcançada;</li>\n",
    "    <li>A mensagem \"Aprovado com Distinção\", se a média for igual a 10.</li>\n",
    "</blockquote>"
   ]
  },
  {
   "cell_type": "code",
   "execution_count": 31,
   "id": "46eb8e25",
   "metadata": {},
   "outputs": [
    {
     "name": "stdout",
     "output_type": "stream",
     "text": [
      "Digite a 1° nota: 10\n",
      "Digite a 2° nota: 8\n",
      "Digite a 3° nota: 3\n",
      "Aprovado com nota 7.0\n"
     ]
    }
   ],
   "source": [
    "notas = [int(input(f'Digite a {i + 1}° nota: ')) for i in range(3)]\n",
    "media = sum(notas) / len(notas)\n",
    "if media == 10:\n",
    "    print(f'Aprovado com distinção nota {media}')\n",
    "elif media >= 7:\n",
    "    print(f'Aprovado com nota {media:.1f}')\n",
    "elif media < 7:\n",
    "    print(f'Reprovado com nota {media:.1f}')"
   ]
  },
  {
   "cell_type": "markdown",
   "id": "e7b15d80",
   "metadata": {},
   "source": [
    "<h3> 21. Faça um Programa para um caixa eletrônico. O programa deverá perguntar ao usuário a valor do saque e depois informar quantas notas de cada valor serão fornecidas. As notas disponíveis serão as de 1, 5, 10, 50 e 100 reais. O valor mínimo é de 10 reais e o máximo de 600 reais. O programa não deve se preocupar com a quantidade de notas existentes na máquina. </h3>\n",
    "<blockquote>\n",
    "<li>Exemplo 1: Para sacar a quantia de 256 reais, o programa fornece duas notas de 100, uma nota de 50, uma nota de 5 e uma nota de 1; </li>\n",
    "<li>Exemplo 2: Para sacar a quantia de 399 reais, o programa fornece três notas de 100, uma nota de 50, quatro notas de 10, uma nota de 5 e quatro notas de 1.</li\n",
    "</blockquote> "
   ]
  },
  {
   "cell_type": "code",
   "execution_count": 32,
   "id": "33122f4a",
   "metadata": {},
   "outputs": [
    {
     "name": "stdout",
     "output_type": "stream",
     "text": [
      "Digite um valor para sacar: 1499\n",
      "Para sacar o valor de 1499 reais precisa-se de:\n",
      "14 notas de R$100\n",
      "1 notas de R$50\n",
      "4 notas de R$10\n",
      "1 notas de R$5\n",
      "4 notas de R$1\n"
     ]
    }
   ],
   "source": [
    "# notas 1 , 5 , 10 , 50 , 100\n",
    "saque_inicial = int(input('Digite um valor para sacar: '))\n",
    "notas = []\n",
    "valores = []\n",
    "if saque_inicial >= 100: \n",
    "    notas.append(saque_inicial//100)\n",
    "    valores.append('R$100')\n",
    "    saque = saque_inicial%100\n",
    "    \n",
    "if saque >= 50 and saque <100:\n",
    "    notas.append(saque//50)\n",
    "    valores.append('R$50')\n",
    "    saque = saque%50\n",
    "\n",
    "if saque < 50 and saque >=10:\n",
    "    notas.append(saque//10)\n",
    "    valores.append('R$10')\n",
    "    saque = saque%10\n",
    "\n",
    "if saque < 10 and saque >= 5:\n",
    "    notas.append(saque//5)\n",
    "    valores.append('R$5')\n",
    "    saque = saque%5\n",
    "    \n",
    "if saque < 5:\n",
    "    notas.append(saque//1)\n",
    "    valores.append('R$1')\n",
    "\n",
    "print(f'Para sacar o valor de {saque_inicial} reais precisa-se de:') \n",
    "for i in range(len(notas)): #For para utilizar os indexes das 2 listas\n",
    "    if notas[i] != 0:\n",
    "        print(f'{notas[i]} notas de {valores[i]}')"
   ]
  },
  {
   "cell_type": "markdown",
   "id": "c271a140",
   "metadata": {},
   "source": [
    "<h3> 22. Faça um Programa que peça um número inteiro e determine se ele é par ou impar. Dica: utilize o operador módulo (resto da divisão). </h3>"
   ]
  },
  {
   "cell_type": "code",
   "execution_count": 33,
   "id": "cff49d89",
   "metadata": {},
   "outputs": [
    {
     "name": "stdout",
     "output_type": "stream",
     "text": [
      "Digite um numero: 9\n",
      "9 é um número impar\n"
     ]
    }
   ],
   "source": [
    "def par_impar(numero):\n",
    "    if numero % 2 == 0:\n",
    "        print(f'{numero} é um numero par')\n",
    "    else:\n",
    "        print('{} é um número impar'.format(numero)) #outro modo de mostrar variavel atraves do print\n",
    "par_impar(int(input('Digite um numero: ')))"
   ]
  },
  {
   "cell_type": "markdown",
   "id": "86b660e4",
   "metadata": {},
   "source": [
    "<h3> 23. Faça um Programa que peça um número e informe se o número é inteiro ou decimal. Dica: utilize uma função de arredondamento. </h3>"
   ]
  },
  {
   "cell_type": "code",
   "execution_count": 34,
   "id": "ac12bc3d",
   "metadata": {},
   "outputs": [
    {
     "name": "stdout",
     "output_type": "stream",
     "text": [
      "digite um numero:  1.85\n",
      "O número 1.85 é um numero DECIMAL\n"
     ]
    }
   ],
   "source": [
    "def inteiro_decimal(numero):\n",
    "    numero_int = int(numero)\n",
    "    numero_float = float(numero)\n",
    "    if numero_int == numero_float:\n",
    "        print(f'O número {numero} é um numero INTEIRO')\n",
    "    else:\n",
    "        print(f'O número {numero} é um numero DECIMAL')\n",
    "inteiro_decimal(float(input('digite um numero:  ')))"
   ]
  },
  {
   "cell_type": "markdown",
   "id": "3b368247",
   "metadata": {},
   "source": [
    "<h3>24. Faça um Programa que leia 2 números e em seguida pergunte ao usuário qual operação ele deseja realizar. O resultado da operação deve ser acompanhado de uma frase que diga se o número é: </h3>\n",
    "<blockquote>\n",
    "<li>par ou ímpar; </li>\n",
    "<li>positivo ou negativo; </li>\n",
    "<li>inteiro ou decimal. </li>\n",
    "</blockquote>"
   ]
  },
  {
   "cell_type": "code",
   "execution_count": 36,
   "id": "e749f1fc",
   "metadata": {},
   "outputs": [
    {
     "name": "stdout",
     "output_type": "stream",
     "text": [
      "Digite o 1° número: 1\n",
      "Digite o 2° número: 1.7899\n",
      "Qual operação deseja fazer com esses 2 numeros? \n",
      "1 - Par ou Ímpar\n",
      "2 - Positivo ou negativo\n",
      "3 - Inteiro ou decimal \n",
      "3\n",
      "O número 1.0 é um numero INTEIRO\n",
      "O número 1.7899 é um numero DECIMAL\n"
     ]
    }
   ],
   "source": [
    "numeros = [float(input(f'Digite o {i + 1}° número: ')) for i in range(2)]\n",
    "resp = int(input('Qual operação deseja fazer com esses 2 numeros? '\n",
    "                '\\n1 - Par ou Ímpar'\n",
    "                '\\n2 - Positivo ou negativo'\n",
    "                '\\n3 - Inteiro ou decimal \\n'))\n",
    "if resp == 1:\n",
    "    par_impar(numeros[0])\n",
    "    par_impar(numeros[1])\n",
    "elif resp == 2:\n",
    "    positivo_negativo(numero[0])\n",
    "    positivo_negativo(numero[1])\n",
    "elif resp == 3:\n",
    "    inteiro_decimal(numeros[0])\n",
    "    inteiro_decimal(numeros[1])\n",
    "    #para verificar se e decimal ou nao"
   ]
  },
  {
   "cell_type": "markdown",
   "id": "691064c0",
   "metadata": {},
   "source": [
    "<h3> 25. Faça um programa que faça 5 perguntas para uma pessoa sobre um crime. As perguntas são: </h3>\n",
    "<blockquote>\n",
    "<li>\"Telefonou para a vítima?\"</li>\n",
    "<li>\"Esteve no local do crime?\"</li>\n",
    "<li>\"Mora perto da vítima?\"</li>\n",
    "<li>\"Devia para a vítima?\"</li>\n",
    "<li>\"Já trabalhou com a vítima?\" </li>\n",
    "</blockquote>\n",
    "O programa deve no final emitir uma classificação sobre a participação da pessoa no crime. Se a pessoa responder positivamente a 2 questões ela deve ser classificada como \"Suspeita\", entre 3 e 4 como \"Cúmplice\" e 5 como \"Assassino\". Caso contrário, ele será classificado como \"Inocente\"."
   ]
  },
  {
   "cell_type": "code",
   "execution_count": 37,
   "id": "26d37da6",
   "metadata": {},
   "outputs": [
    {
     "name": "stdout",
     "output_type": "stream",
     "text": [
      "Telefonou para a vítima?  sim/nao resposta: sim\n",
      "Esteve no local do crime?  sim/nao resposta: sim\n",
      "Mora perto da vítima?  sim/nao resposta: nao\n",
      "Devia para a vítima?  sim/nao resposta: sim\n",
      "Já trabalhou com a vítima?  sim/nao resposta: sim\n",
      "Você é considerado CUMPLICE \n"
     ]
    }
   ],
   "source": [
    "perguntas = [\"Telefonou para a vítima? \", \"Esteve no local do crime? \", \"Mora perto da vítima? \" , \"Devia para a vítima? \" ,\"Já trabalhou com a vítima? \"] #array com as perguntas\n",
    "respostas = [input(f'{i} sim/nao resposta: ') for i in perguntas]\n",
    "contador = 0\n",
    "for i in range(len(respostas)):\n",
    "    if respostas[i] == 'sim':\n",
    "        contador += 1 \n",
    "if contador == 3 or contador == 4:\n",
    "    print('Você é considerado CUMPLICE ')\n",
    "elif contador == 5:\n",
    "    print('Você é considerado ASSASSINO ')\n",
    "elif contador == 2:\n",
    "    print('Você é considerado SUSPEITO ')\n",
    "else:\n",
    "    print('Você é considerado INOCENTE ')"
   ]
  },
  {
   "cell_type": "markdown",
   "id": "ace447ef",
   "metadata": {},
   "source": [
    "<h3> 26. Um posto está vendendo combustíveis com a seguinte tabela de descontos: </h3>\n",
    "Álcool:\n",
    "<blockquote>\n",
    "<li>até 20 litros, desconto de 3% por litro</li>\n",
    "<li>acima de 20 litros, desconto de 5% por litro</li>\n",
    "</blockquote>\n",
    "\n",
    "Gasolina:\n",
    "<blockquote>\n",
    "<li>até 20 litros, desconto de 4% por litro</li>\n",
    "<li>acima de 20 litros, desconto de 6% por litro <li>\n",
    "</blockquote>\n",
    "\n",
    "Escreva um algoritmo que leia o número de litros vendidos, o tipo de combustível (codificado da seguinte forma: A-álcool, G-gasolina), calcule e imprima o valor a ser pago pelo cliente sabendo-se que o preço do litro da gasolina é  2,50 o preço do litro do álcool é  1,90.\n"
   ]
  },
  {
   "cell_type": "code",
   "execution_count": 38,
   "id": "cecb98a4",
   "metadata": {
    "scrolled": true
   },
   "outputs": [
    {
     "name": "stdout",
     "output_type": "stream",
     "text": [
      "Qual o tipo de combustivel deseja abastecer \n",
      " A - álcool e G - gasolina:    A\n",
      "Quantos litros deseja abastecer:  75\n",
      "Para abastecer 75 litros de Alcool custará um total de R$ 135.38 sendo R$1.80 por litro\n"
     ]
    }
   ],
   "source": [
    "tipo = input('Qual o tipo de combustivel deseja abastecer '\n",
    "             '\\n A - álcool e G - gasolina:    ')\n",
    "litros = int(input('Quantos litros deseja abastecer:  '))\n",
    "\n",
    "if tipo == 'A':\n",
    "    if litros <= 20:\n",
    "        porcentagem = 0.03\n",
    "    elif litros > 20:\n",
    "        porcentagem = 0.05\n",
    "    preco_litro = 1.90\n",
    "    preco_litro = preco_litro  - (preco_litro * porcentagem)\n",
    "    tipo = 'Alcool'\n",
    "elif tipo == 'G':\n",
    "    if litros <= 20:\n",
    "        porcentagem = 0.04\n",
    "    elif litros > 20:\n",
    "        porcentagem = 0.06\n",
    "    preco_litro = 2.50\n",
    "    preco_litro = preco_litro  - (preco_litro * porcentagem)\n",
    "    tipo = 'Gasolina'\n",
    "\n",
    "total = preco_litro * litros\n",
    "print(f'Para abastecer {litros} litros de {tipo} custará um total de R$ {total:.2f} sendo R${preco_litro:.2f} por litro')\n"
   ]
  },
  {
   "cell_type": "markdown",
   "id": "45a8f6fe",
   "metadata": {},
   "source": [
    "<h3> 27. Uma fruteira está vendendo frutas com a seguinte tabela de preços: </h3>"
   ]
  },
  {
   "cell_type": "code",
   "execution_count": 39,
   "id": "833da1df",
   "metadata": {},
   "outputs": [],
   "source": [
    "#                      Até 5 Kg           Acima de 5 Kg\n",
    "# Morango         R$ 2,50 por Kg          R$ 2,20 por Kg\n",
    "# Maçã            R$ 1,80 por Kg          R$ 1,50 por Kg"
   ]
  },
  {
   "cell_type": "markdown",
   "id": "22ddfafb",
   "metadata": {},
   "source": [
    "Se o cliente comprar mais de 8 Kg em frutas ou o valor total da compra ultrapassar  25,00 reais , receberá ainda um desconto de 10% sobre este total. <b> Escreva um algoritmo para ler a quantidade (em Kg) de morangos e a quantidade (em Kg) de maças adquiridas e escreva o valor a ser pago pelo cliente. </b>\n"
   ]
  },
  {
   "cell_type": "code",
   "execution_count": 40,
   "id": "160c75ef",
   "metadata": {},
   "outputs": [
    {
     "name": "stdout",
     "output_type": "stream",
     "text": [
      "Quantos kilos de maçã foi adquirido ?  7\n",
      "Quanto kilos de morango foi adquirido ? 3\n",
      "Você ira pagar um montante de R$ 16.20\n"
     ]
    }
   ],
   "source": [
    "maca = int(input('Quantos kilos de maçã foi adquirido ?  '))\n",
    "morango = int(input('Quanto kilos de morango foi adquirido ? '))\n",
    "if maca <= 5:\n",
    "    preco_maca = 1.80 * maca\n",
    "elif maca > 5:\n",
    "    preco_maca = 1.50 * maca\n",
    "if morango <= 5:\n",
    "    preco_morango = 2.50 * morango\n",
    "elif morango > 5:\n",
    "    preco_morango = 2.20 * morango\n",
    "total = preco_maca + preco_morango\n",
    "if maca + morango > 8 or total > 25:\n",
    "    total = total - (total*0.1)\n",
    "print(f'Você ira pagar um montante de R$ {total:.2f}')"
   ]
  },
  {
   "cell_type": "markdown",
   "id": "ef46e57b",
   "metadata": {},
   "source": [
    "<h3> 28. O Hipermercado Tabajara está com uma promoção de carnes que é imperdível. Confira: </h3>"
   ]
  },
  {
   "cell_type": "code",
   "execution_count": 41,
   "id": "e9bb6e7a",
   "metadata": {},
   "outputs": [],
   "source": [
    "#                      Até 5 Kg             Acima de 5 Kg\n",
    "#  File Duplo      R$ 4,90 por Kg          R$ 5,80 por Kg\n",
    "#  Alcatra         R$ 5,90 por Kg          R$ 6,80 por Kg\n",
    "#  Picanha         R$ 6,90 por Kg          R$ 7,80 por Kg"
   ]
  },
  {
   "cell_type": "markdown",
   "id": "b305a767",
   "metadata": {},
   "source": [
    "Para atender a todos os clientes, cada cliente poderá levar <b>apenas um dos tipos de carne da promoção</b>, porém não há limites para a quantidade de carne por cliente. Se compra for feita no <b>cartão Tabajara o cliente receberá ainda um desconto de 5% </b>sobre o total da compra. Escreva um programa que peça o tipo e a quantidade de carne comprada pelo usuário e gere um cupom fiscal, contendo as informações da compra: <b>tipo e quantidade de carne, preço total, tipo de pagamento, valor do desconto e valor a pagar.</b>\n"
   ]
  },
  {
   "cell_type": "code",
   "execution_count": 42,
   "id": "0914c361",
   "metadata": {},
   "outputs": [
    {
     "name": "stdout",
     "output_type": "stream",
     "text": [
      "Escolha UM tipo de carne entre a seguintes: \n",
      "    Carne             Até 5Kg             Acima de 5kg\n",
      "1 - Filé Duplo      R$ 4.90 por Kg         R$ 5.80 por Kg\n",
      "2 - Alcatra         R$ 5.90 por Kg         R$ 6.80 por Kg\n",
      "3 - Picanha         R$ 6.90 por Kg         R$ 7.80 por Kg\n",
      " Qual o tipo: 3\n"
     ]
    }
   ],
   "source": [
    "from IPython.display import clear_output #Para limpar a saida da celula\n",
    "carnes = ['Filé Duplo','Alcatra','Picanha']\n",
    "dict = {'Filé Duplo': [4.9,5.8], 'Alcatra': [5.9 , 6.8] , 'Picanha' : [6.9,7.8]} #Key = Tipo  da carne\n",
    "                                                                #value = array com o preço abaixo de 5kg e maior que 5kg\n",
    "while True:\n",
    "    clear_output(wait=True) #Para limpar a saida do for, para nao ficar muito extenso caso o usuario digite valores errados\n",
    "    tipo = int(input(('Escolha UM tipo de carne entre a seguintes: '\n",
    "          '\\n    Carne             Até 5Kg             Acima de 5kg'\n",
    "         f'\\n1 - {carnes[0]}      R$ 4.90 por Kg         R$ 5.80 por Kg'\n",
    "         f'\\n2 - {carnes[1]}         R$ 5.90 por Kg         R$ 6.80 por Kg'\n",
    "         f'\\n3 - {carnes[2]}         R$ 6.90 por Kg         R$ 7.80 por Kg'\n",
    "         f'\\n Qual o tipo: ')))\n",
    "    if tipo == 3 or tipo == 2 or tipo == 1:\n",
    "        break\n",
    "    else:\n",
    "        print('Escolha um tipo válido: ')\n",
    "if tipo < 4:\n",
    "    tipo = carnes[tipo - 1] #Transformar o tipo que e um numero na string correspondente ao tipo de carne"
   ]
  },
  {
   "cell_type": "code",
   "execution_count": 43,
   "id": "b6b14b01",
   "metadata": {},
   "outputs": [
    {
     "name": "stdout",
     "output_type": "stream",
     "text": [
      "Quantos kilos deseja levar: 15\n",
      "Deseja realizar a compra com o cartão TABAJARA, para receber 5% de desconto? sim/nao: sim\n"
     ]
    }
   ],
   "source": [
    "quantidade = int(input('Quantos kilos deseja levar: '))\n",
    "cartao = input('Deseja realizar a compra com o cartão TABAJARA, para receber 5% de desconto? sim/nao: ')"
   ]
  },
  {
   "cell_type": "code",
   "execution_count": 44,
   "id": "b779aa7c",
   "metadata": {},
   "outputs": [],
   "source": [
    "for key,value in dict.items(): #dicionario para percorrer entre os valores\n",
    "    if tipo == key: #se o tipo digitado do usuario for igual a key do dicionario\n",
    "        if  quantidade > 5: #se a quantidade for maior que 5\n",
    "            total = quantidade * value[1] #value[1] = segundo valor da lista que representa o preço do tipo de carne\n",
    "        elif quantidade <= 5:\n",
    "            total = quantidade * value[0]\n",
    "if cartao == 'sim':\n",
    "    total = total - (total * 0.05)"
   ]
  },
  {
   "cell_type": "code",
   "execution_count": 45,
   "id": "3b717aad",
   "metadata": {},
   "outputs": [
    {
     "name": "stdout",
     "output_type": "stream",
     "text": [
      "Para levar 15 Kg de Picanha custará R$111.15\n"
     ]
    }
   ],
   "source": [
    "print(f'Para levar {quantidade} Kg de {tipo} custará R${total:.2f}')"
   ]
  }
 ],
 "metadata": {
  "kernelspec": {
   "display_name": "Python 3",
   "language": "python",
   "name": "python3"
  },
  "language_info": {
   "codemirror_mode": {
    "name": "ipython",
    "version": 3
   },
   "file_extension": ".py",
   "mimetype": "text/x-python",
   "name": "python",
   "nbconvert_exporter": "python",
   "pygments_lexer": "ipython3",
   "version": "3.9.2"
  }
 },
 "nbformat": 4,
 "nbformat_minor": 5
}
