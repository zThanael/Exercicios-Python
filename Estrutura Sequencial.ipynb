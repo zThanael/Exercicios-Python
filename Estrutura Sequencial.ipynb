{
 "cells": [
  {
   "cell_type": "markdown",
   "id": "d29f174c",
   "metadata": {},
   "source": [
    "## Repositório criado para treinar python atravês de exercicios.\n"
   ]
  },
  {
   "cell_type": "markdown",
   "id": "c40a6398",
   "metadata": {},
   "source": [
    "<h4 align='right'> Exercicios disponiveis  em <a href='https://wiki.python.org.br/EstruturaSequencial'>python brasil </a> </h4>"
   ]
  },
  {
   "cell_type": "markdown",
   "id": "854d7431",
   "metadata": {},
   "source": [
    "<hr>"
   ]
  },
  {
   "cell_type": "markdown",
   "id": "02a92673",
   "metadata": {},
   "source": [
    "<h4>1. Faça um Programa que mostre a mensagem \"Alo mundo\" na tela. </h4>"
   ]
  },
  {
   "cell_type": "code",
   "execution_count": 1,
   "id": "71a998ca",
   "metadata": {},
   "outputs": [
    {
     "name": "stdout",
     "output_type": "stream",
     "text": [
      "Hello World\n"
     ]
    }
   ],
   "source": [
    "print('Hello World')"
   ]
  },
  {
   "cell_type": "markdown",
   "id": "756a013c",
   "metadata": {},
   "source": [
    "<h4>2. Faça um Programa que peça um número e então mostre a mensagem O número informado foi [número].</h4>"
   ]
  },
  {
   "cell_type": "code",
   "execution_count": 2,
   "id": "2487e929",
   "metadata": {},
   "outputs": [
    {
     "name": "stdout",
     "output_type": "stream",
     "text": [
      "Tell me a number: 15\n",
      "O número informado foi 15\n"
     ]
    }
   ],
   "source": [
    "num = int(input('Tell me a number: '))\n",
    "print(f'O número informado foi {num}') #mesmo que print('O número informado foi ', num)"
   ]
  },
  {
   "cell_type": "markdown",
   "id": "d4b5e44e",
   "metadata": {},
   "source": [
    "<h4>3. Faça um Programa que peça dois números e imprima a soma. </h4>"
   ]
  },
  {
   "cell_type": "code",
   "execution_count": 3,
   "id": "006a8740",
   "metadata": {},
   "outputs": [
    {
     "name": "stdout",
     "output_type": "stream",
     "text": [
      "Digite o 1° número: 10\n",
      "Digite o 2° número: 20\n",
      "10 + 20 = 30\n"
     ]
    }
   ],
   "source": [
    "num1 = int(input('Digite o 1° número: '))\n",
    "num2 = int(input('Digite o 2° número: '))\n",
    "print(f'{num1} + {num2} = {num1 + num2}')"
   ]
  },
  {
   "cell_type": "markdown",
   "id": "01df7683",
   "metadata": {},
   "source": [
    "<h4>4. Faça um Programa que peça as 4 notas bimestrais e mostre a média. </h4>"
   ]
  },
  {
   "cell_type": "code",
   "execution_count": 4,
   "id": "c4928e0b",
   "metadata": {},
   "outputs": [
    {
     "name": "stdout",
     "output_type": "stream",
     "text": [
      "Digite a 1° nota: 1\n",
      "Digite a 2° nota: 2\n",
      "Digite a 3° nota: 9\n",
      "Digite a 4° nota: 8\n",
      "A média é: 5.0\n"
     ]
    }
   ],
   "source": [
    "#Jeito trabalhoso\n",
    "nota1 = int(input('Digite a 1° nota: '))\n",
    "nota2 = int(input('Digite a 2° nota: '))\n",
    "nota3 = int(input('Digite a 3° nota: '))\n",
    "nota4 = int(input('Digite a 4° nota: '))\n",
    "media = (nota1 + nota2 + nota3 + nota4) / 4\n",
    "print(f'A média é: {media}')"
   ]
  },
  {
   "cell_type": "code",
   "execution_count": 5,
   "id": "e77ad6c6",
   "metadata": {},
   "outputs": [
    {
     "name": "stdout",
     "output_type": "stream",
     "text": [
      "Digite a 1° nota: 10\n",
      "Digite a 2° nota: 7\n",
      "Digite a 3° nota: 5\n",
      "Digite a 4° nota: 8\n",
      "A Média é: 7.5\n"
     ]
    }
   ],
   "source": [
    "#Jeito simples, porém mais complexo para iniciantes\n",
    "notas = []\n",
    "for i in range(4):\n",
    "    notas.append(int(input(f'Digite a {i+1}° nota: ')))\n",
    "print(f'A Média é: {sum(notas)/len(notas)}') #sum() faz a somatoria de tudo que está na lista \n",
    "                                             #len() mostra o tamanho da lista"
   ]
  },
  {
   "cell_type": "markdown",
   "id": "0f53f48e",
   "metadata": {},
   "source": [
    "<h4>5. Faça um Programa que converta metros para centímetros. </h4>"
   ]
  },
  {
   "cell_type": "code",
   "execution_count": 6,
   "id": "6d50887b",
   "metadata": {},
   "outputs": [
    {
     "name": "stdout",
     "output_type": "stream",
     "text": [
      "Digite o numero de metros que deseja converter: 15\n",
      "15 metros equivalem a 1500 centímetros\n"
     ]
    }
   ],
   "source": [
    "metros = int(input('Digite o numero de metros que deseja converter: '))\n",
    "print(f'{metros} metros equivalem a {metros*100} centímetros')"
   ]
  },
  {
   "cell_type": "markdown",
   "id": "1fbe0819",
   "metadata": {},
   "source": [
    "<h4> 6. Faça um Programa que peça o raio de um círculo, calcule e mostre sua área. </h4>"
   ]
  },
  {
   "cell_type": "code",
   "execution_count": null,
   "id": "ded3174d",
   "metadata": {},
   "outputs": [],
   "source": [
    "#Aréa = pi * raio²\n",
    "raio = int(input('Digite o número do raio: '))\n",
    "pi = 3.14\n",
    "print(f'A aréa do circulo equivale a {pi * raio **2} m²') # se preferir pode armazenar o valor da area / area = pi * raio **2"
   ]
  },
  {
   "cell_type": "markdown",
   "id": "54e17ce0",
   "metadata": {},
   "source": [
    "<h4> 7. Faça um Programa que calcule a área de um quadrado, em seguida mostre o dobro desta área para o usuário. </h4>"
   ]
  },
  {
   "cell_type": "code",
   "execution_count": 8,
   "id": "919aafa9",
   "metadata": {},
   "outputs": [
    {
     "name": "stdout",
     "output_type": "stream",
     "text": [
      "Quanto mede um lado do quadrado: 2\n",
      "A área mede 4 m² e seu dobro mede 8 m²\n"
     ]
    }
   ],
   "source": [
    "#Área do quadrado = L²\n",
    "lado = int(input('Quanto mede um lado do quadrado: '))\n",
    "area = lado ** 2 #lado * lado da na mesma\n",
    "print(f'A área mede {area} m² e seu dobro mede {area*2} m²')"
   ]
  },
  {
   "cell_type": "markdown",
   "id": "a00fbbb8",
   "metadata": {},
   "source": [
    "<h4> 8. Faça um Programa que pergunte quanto você ganha por hora e o número de horas trabalhadas no mês. Calcule e mostre o total do seu salário no referido mês. </h4>"
   ]
  },
  {
   "cell_type": "code",
   "execution_count": 9,
   "id": "82448a2c",
   "metadata": {},
   "outputs": [
    {
     "name": "stdout",
     "output_type": "stream",
     "text": [
      "Qual o valor que recebe por hora trabalhada: 20\n",
      "Qual a quantidade de horas que trabalha ao mês: 20\n",
      "Seu salario é de 400 reais\n"
     ]
    }
   ],
   "source": [
    "ganho_hora = int(input('Qual o valor que recebe por hora trabalhada: '))\n",
    "qtd_horas = int(input(\"Qual a quantidade de horas que trabalha ao mês: \"))\n",
    "salario = ganho_hora * qtd_horas\n",
    "print(f'Seu salario é de {salario} reais')"
   ]
  },
  {
   "cell_type": "markdown",
   "id": "380efec3",
   "metadata": {},
   "source": [
    "<h4> 9. Faça um Programa que peça a temperatura em graus Fahrenheit, transforme e mostre a temperatura em graus Celsius. </h4>"
   ]
  },
  {
   "cell_type": "code",
   "execution_count": 10,
   "id": "5297c74e",
   "metadata": {},
   "outputs": [
    {
     "name": "stdout",
     "output_type": "stream",
     "text": [
      "Digite o valor em Graus Fahrenheit: 32\n",
      "32° Fahrenheit equivalem a 0.00 Graus Celcius\n"
     ]
    }
   ],
   "source": [
    "#Formula: C = 5 * ((F-32) / 9)\n",
    "fahrenheit = int(input('Digite o valor em Graus Fahrenheit: '))\n",
    "c = 5 * ((fahrenheit-32)/9)\n",
    "print(f'{fahrenheit}° Fahrenheit equivalem a {c:.2f} Graus Celcius')  #para controlar casas após a virgula usa o c:.2f\n",
    "                                                                      # sendo c a variavel e o 2f a quantidade de casas"
   ]
  },
  {
   "cell_type": "markdown",
   "id": "464a4bf6",
   "metadata": {},
   "source": [
    "<h4> 10. Faça um Programa que peça a temperatura em graus Celsius, transforme e mostre em graus Fahrenheit. </h4>"
   ]
  },
  {
   "cell_type": "code",
   "execution_count": 11,
   "id": "c947dcc3",
   "metadata": {},
   "outputs": [
    {
     "name": "stdout",
     "output_type": "stream",
     "text": [
      "Digite um valor em Graus Celcius 0\n",
      "0° Graus Celcius equivalem a 32.00 Graus Fahrenheit\n"
     ]
    }
   ],
   "source": [
    "#Formula = (c × 9/5) + 32 = 32 °F\n",
    "celcius = int(input('Digite um valor em Graus Celcius '))\n",
    "fahrenheit = (celcius * (9/5)) + 32\n",
    "print(f'{celcius}° Graus Celcius equivalem a {fahrenheit:.2f} Graus Fahrenheit')"
   ]
  },
  {
   "cell_type": "markdown",
   "id": "91a6ab53",
   "metadata": {},
   "source": [
    "<h4> 11. Faça um Programa que peça 2 números inteiros e um número real. Calcule e mostre: </h4>\n",
    "<ul>\n",
    "    <li>a) o produto do dobro do primeiro com metade do segundo . </li>\n",
    "    <li>b) a soma do triplo do primeiro com o terceiro.</li>\n",
    "    <li>c) o terceiro elevado ao cubo.</li>\n",
    "</ul>"
   ]
  },
  {
   "cell_type": "code",
   "execution_count": 12,
   "id": "a44e812d",
   "metadata": {},
   "outputs": [
    {
     "name": "stdout",
     "output_type": "stream",
     "text": [
      "Digite o 1° número: 15\n",
      "Digite o 2° número: 10\n",
      "Digite um numero real(decimal)20\n"
     ]
    }
   ],
   "source": [
    "num1 = int(input(\"Digite o 1° número: \"))\n",
    "num2 = int(input(\"Digite o 2° número: \"))\n",
    "num3 = float(input('Digite um numero real(decimal)'))"
   ]
  },
  {
   "cell_type": "code",
   "execution_count": 13,
   "id": "7687532b",
   "metadata": {},
   "outputs": [
    {
     "name": "stdout",
     "output_type": "stream",
     "text": [
      "O produto resultante do dobro do primeiro com metade do segundo é 150.0\n"
     ]
    }
   ],
   "source": [
    "# a)\n",
    "produto = (2*num1) * (num2/2)\n",
    "print(f'O produto resultante do dobro do primeiro com metade do segundo é {produto}')"
   ]
  },
  {
   "cell_type": "code",
   "execution_count": 14,
   "id": "65d2b388",
   "metadata": {},
   "outputs": [
    {
     "name": "stdout",
     "output_type": "stream",
     "text": [
      "A soma do triplo do primeiro com o terceiroé igual a 65.0\n"
     ]
    }
   ],
   "source": [
    "# b)\n",
    "soma = (3*num1) + num3\n",
    "print(f'A soma do triplo do primeiro com o terceiroé igual a {soma}')"
   ]
  },
  {
   "cell_type": "code",
   "execution_count": 15,
   "id": "f830d8cd",
   "metadata": {},
   "outputs": [
    {
     "name": "stdout",
     "output_type": "stream",
     "text": [
      "O terceiro elevado ao cubo é igual a 8000.00\n"
     ]
    }
   ],
   "source": [
    "#c)\n",
    "elevado = num3 ** 3  #mesma coisa que pow(num3 , 3)\n",
    "print(f'O terceiro elevado ao cubo é igual a {elevado:.2f}')"
   ]
  },
  {
   "cell_type": "markdown",
   "id": "ab40c55b",
   "metadata": {},
   "source": [
    "<h4> 12. Tendo como dados de entrada a altura de uma pessoa, construa um algoritmo que calcule seu peso ideal </h4>"
   ]
  },
  {
   "cell_type": "code",
   "execution_count": 16,
   "id": "4d5e1c23",
   "metadata": {},
   "outputs": [
    {
     "name": "stdout",
     "output_type": "stream",
     "text": [
      "Digite sua altura: 1.50\n",
      "Seu peso ideal é 51.05\n"
     ]
    }
   ],
   "source": [
    "#fórmula: (72.7*altura) - 58\n",
    "altura = float(input('Digite sua altura: '))\n",
    "peso_ideal = (72.7 * altura) - 58\n",
    "print(f'Seu peso ideal é {peso_ideal:.2f}')"
   ]
  },
  {
   "cell_type": "markdown",
   "id": "68477419",
   "metadata": {},
   "source": [
    "<h4> 13. Tendo como dado de entrada a altura (h) de uma pessoa, construa um algoritmo que calcule seu peso ideal, utilizando as seguintes fórmulas: </h4>\n",
    "<ul>\n",
    "    <li> Para homens: (72.7*h) - 58 </li>\n",
    "    <li> Para mulheres: (62.1*h) - 44.7 </li>\n",
    "</ul>"
   ]
  },
  {
   "cell_type": "code",
   "execution_count": 17,
   "id": "56f3a7dd",
   "metadata": {},
   "outputs": [
    {
     "name": "stdout",
     "output_type": "stream",
     "text": [
      "Digite sua altura: 1.70\n",
      "O peso ideal será o seguinte \n",
      "Se for homem será de 65.59 Kg \n",
      "Se for mulher será de 62.57 Kg\n"
     ]
    }
   ],
   "source": [
    "altura = float(input('Digite sua altura: '))\n",
    "peso_ideal_homem = (72.7 * altura) - 58\n",
    "peso_ideal_mulher = (63.1 * altura) - 44.7\n",
    "print(f'O peso ideal será o seguinte',\n",
    "      f'\\nSe for homem será de {peso_ideal_homem:.2f} Kg',\n",
    "      f'\\nSe for mulher será de {peso_ideal_mulher:.2f} Kg')"
   ]
  },
  {
   "cell_type": "markdown",
   "id": "83fafb7b",
   "metadata": {},
   "source": [
    "<h4> 14. João Papo-de-Pescador, homem de bem, comprou um microcomputador para controlar o rendimento diário de seu trabalho. Toda vez que ele traz um peso de peixes maior que o estabelecido pelo regulamento de pesca do estado de São Paulo (50 quilos) deve pagar uma multa de R$ 4,00 por quilo excedente. João precisa que você faça um programa que leia a variável peso (peso de peixes) e calcule o excesso. Gravar na variável excesso a quantidade de quilos além do limite e na variável multa o valor da multa que João deverá pagar. Imprima os dados do programa com as mensagens adequadas. </h4>"
   ]
  },
  {
   "cell_type": "code",
   "execution_count": 18,
   "id": "d22b90e0",
   "metadata": {},
   "outputs": [
    {
     "name": "stdout",
     "output_type": "stream",
     "text": [
      "Digite o peso de peixes 70\n",
      "Voce excedeu o limite de peso, por uma quantidade de 20.0 kg\n",
      "Você deverá para uma multa de R$80.00 Reais\n"
     ]
    }
   ],
   "source": [
    "#peso de peixes maior que o estabelecido = > 50 kg\n",
    "#pagar uma multa de R$ 4,00 por quilo excedente\n",
    "peso_peixes = float(input('Digite o peso de peixes '))\n",
    "if peso_peixes > 50:\n",
    "    qtd_excedente = peso_peixes - 50\n",
    "    multa = qtd_excedente * 4\n",
    "    print(f'Voce excedeu o limite de peso, por uma quantidade de {qtd_excedente} kg')\n",
    "    print(f'Você deverá para uma multa de R${multa:.2f} Reais')\n",
    "else:\n",
    "    print('Voce não excedeu o limite')"
   ]
  },
  {
   "cell_type": "markdown",
   "id": "03826bbd",
   "metadata": {},
   "source": [
    "<h4>15. Faça um Programa que pergunte quanto você ganha por hora e o número de horas trabalhadas no mês. Calcule e mostre o total do seu salário no referido mês, sabendo-se que são descontados 11% para o Imposto de Renda, 8% para o INSS e 5% para o sindicato, faça um programa que nos dê: </h4>\n",
    "<ul>\n",
    "    <li> salário bruto. </li>\n",
    "    <li>quanto pagou ao INSS. </li>\n",
    "    <li>quanto pagou ao sindicato. </li>\n",
    "    <li>o salário líquido.</li>\n",
    "    <li>calcule os descontos e o salário líquido, conforme a tabela abaixo </li>           \n",
    "</ul>"
   ]
  },
  {
   "cell_type": "code",
   "execution_count": 19,
   "id": "cf94d551",
   "metadata": {},
   "outputs": [
    {
     "name": "stdout",
     "output_type": "stream",
     "text": [
      "Qual o valor que recebe por hora trabalhada: 5\n",
      "Qual o número de horas trabalhadas ao mês: 100\n"
     ]
    }
   ],
   "source": [
    "valor_hora = float(input('Qual o valor que recebe por hora trabalhada: '))\n",
    "num_hora = int(input('Qual o número de horas trabalhadas ao mês: '))\n",
    "#valores a ser descontado 11% IR ,    8% INSS , 5% sindicato\n",
    "salario_bruto = valor_hora * num_hora\n",
    "ir = salario_bruto * 0.11\n",
    "inss = salario_bruto * 0.08\n",
    "sindicato = salario_bruto * 0.05\n",
    "salario_liquido = salario_bruto - ir - inss - sindicato"
   ]
  },
  {
   "cell_type": "code",
   "execution_count": 20,
   "id": "c6aff6c6",
   "metadata": {},
   "outputs": [
    {
     "name": "stdout",
     "output_type": "stream",
     "text": [
      " + Salário Bruto :     500.00 \n",
      " - imposto de Renda :  55.00 \n",
      " - INSS :             40.00  \n",
      " - Sindicato :        25.00 \n",
      " = Salário Liquido =  380.00\n"
     ]
    }
   ],
   "source": [
    "print(f' + Salário Bruto :     {salario_bruto:.2f}',\n",
    "     f'\\n - imposto de Renda : {ir:.2f}',\n",
    "     f'\\n - INSS :             {inss:.2f} ',\n",
    "     f'\\n - Sindicato :        {sindicato:.2f}',\n",
    "     f'\\n = Salário Liquido =  {salario_liquido:.2f}')"
   ]
  },
  {
   "cell_type": "markdown",
   "id": "71ebe016",
   "metadata": {},
   "source": [
    "<h4> 16. Faça um programa para uma loja de tintas. O programa deverá pedir o tamanho em metros quadrados da área a ser pintada. Considere que a cobertura da tinta é de 1 litro para cada 3 metros quadrados e que a tinta é vendida em latas de 18 litros, que custam R$ 80,00. Informe ao usuário a quantidades de latas de tinta a serem compradas e o preço total. </h4>"
   ]
  },
  {
   "cell_type": "code",
   "execution_count": 21,
   "id": "4c840afe",
   "metadata": {},
   "outputs": [
    {
     "name": "stdout",
     "output_type": "stream",
     "text": [
      "Qual o tamanho da area a ser pintada: 120\n",
      "são necessarios 3 lata , custando total de R$ 240.00\n"
     ]
    }
   ],
   "source": [
    "tamanho = int(input('Qual o tamanho da area a ser pintada: '))\n",
    "if tamanho % 54 == 0:  # 54 metros equivalem a 18 litros que equivale a uma lata\n",
    "    latas = tamanho / 54\n",
    "else:\n",
    "    latas = (tamanho / 54) + 1 #se sobrar resto da divisao, somase 1 lata a mais\n",
    "\n",
    "total = round(latas) * 80 #preço da lata e round para arredondar igual o :.0f\n",
    "\n",
    "print(f'são necessarios {latas:.0f} lata , custando total de R$ {total:.2f}')"
   ]
  },
  {
   "cell_type": "markdown",
   "id": "78217a47",
   "metadata": {},
   "source": [
    "<h4>17. Faça um Programa para uma loja de tintas. O programa deverá pedir o tamanho em metros quadrados da área a ser pintada. Considere que a cobertura da tinta é de 1 litro para cada 6 metros quadrados e que a tinta é vendida em latas de 18 litros, que custam  80 ou em galões de 3,6 litros, que custam 25. \n",
    "Informe ao usuário as quantidades de tinta a serem compradas e os respectivos preços em 3 situações: </h4>\n",
    "<ul>\n",
    "<li>a) comprar apenas latas de 18 litros;</li>\n",
    "<li>b) comprar apenas galões de 3,6 litros;</li>\n",
    "<li>c) misturar latas e galões, de forma que o desperdício de tinta seja menor. Acrescente 10% de folga e sempre arredonde os valores para cima, isto é, considere latas cheias. </li>\n",
    "   </ul>"
   ]
  },
  {
   "cell_type": "code",
   "execution_count": 22,
   "id": "0fc31b83",
   "metadata": {},
   "outputs": [
    {
     "name": "stdout",
     "output_type": "stream",
     "text": [
      "Digite o tamanho da area a ser pintada: 540\n"
     ]
    }
   ],
   "source": [
    "tamanho = float(input('Digite o tamanho da area a ser pintada: '))\n",
    "#LATA  18 litros = 108 metros   = 80 reais\n",
    "#GALOES 3.6 litros = 21.6 metros  = 25 reais"
   ]
  },
  {
   "cell_type": "code",
   "execution_count": 23,
   "id": "6584f3af",
   "metadata": {},
   "outputs": [
    {
     "name": "stdout",
     "output_type": "stream",
     "text": [
      "Voce necessitara de 5 lata, resultando em um valor de R$ 400.00 reais\n"
     ]
    }
   ],
   "source": [
    "#a) comprar apenas latas de 18 litros;\n",
    "if tamanho % 108 == 0:\n",
    "    latas = tamanho / 108\n",
    "else:\n",
    "    latas = (tamanho / 108) + 1\n",
    "    \n",
    "total_lata = round(latas) * 80\n",
    "print(f'Voce necessitara de {latas:.0f} lata, resultando em um valor de R$ {total_lata:.2f} reais')"
   ]
  },
  {
   "cell_type": "code",
   "execution_count": 26,
   "id": "e414931f",
   "metadata": {},
   "outputs": [
    {
     "name": "stdout",
     "output_type": "stream",
     "text": [
      "Voce necessitara de 26 lata, resultando em um valor de R$ 650.00 reais\n"
     ]
    }
   ],
   "source": [
    "#b) comprar apenas galões de 3,6 litros;\n",
    "if tamanho % 21.6 == 0:\n",
    "    galoes = tamanho / 21.6\n",
    "elif tamanho < 21.6:\n",
    "    galoes = 1\n",
    "else:\n",
    "    galoes = (tamanho / 21.6) + 1\n",
    "\n",
    "total_galoes = round(galoes) * 25\n",
    "print(f'Voce necessitara de {galoes:.0f} lata, resultando em um valor de R$ {total_galoes:.2f} reais')"
   ]
  },
  {
   "cell_type": "code",
   "execution_count": 27,
   "id": "10a8a6ea",
   "metadata": {
    "scrolled": true
   },
   "outputs": [
    {
     "ename": "IndentationError",
     "evalue": "expected an indented block (<ipython-input-27-520a9137238e>, line 7)",
     "output_type": "error",
     "traceback": [
      "\u001b[1;36m  File \u001b[1;32m\"<ipython-input-27-520a9137238e>\"\u001b[1;36m, line \u001b[1;32m7\u001b[0m\n\u001b[1;33m    else:\u001b[0m\n\u001b[1;37m          ^\u001b[0m\n\u001b[1;31mIndentationError\u001b[0m\u001b[1;31m:\u001b[0m expected an indented block\n"
     ]
    }
   ],
   "source": [
    "#c) misturar latas e galões, de forma que o desperdício de tinta seja menor. \n",
    "#Acrescente 10% de folga e sempre arredonde os valores para cima, isto é, considere latas cheias.\n",
    "#Testando ainda...\n",
    "        #if tamanho % 108 == 0:\n",
    "            #latas = tamanho / 108\n",
    "            #total_valor = latas * 80\n",
    "        #else: \n"
   ]
  },
  {
   "cell_type": "markdown",
   "id": "6a53b802",
   "metadata": {},
   "source": [
    "<h4>18. Faça um programa que peça o tamanho de um arquivo para download (em MB) e a velocidade de um link de Internet (em Mbps), calcule e informe o tempo aproximado de download do arquivo usando este link (em minutos). </h4>"
   ]
  },
  {
   "cell_type": "code",
   "execution_count": 48,
   "id": "55de6abe",
   "metadata": {},
   "outputs": [
    {
     "name": "stdout",
     "output_type": "stream",
     "text": [
      "Qual o tamanho do arquivo em MB qu e deseja baixar: 20\n",
      "Qual a velocidade da sua internet em Mbps 1\n",
      "Para baixar 20.0 MB, levará um total de 2.0 minutos e 40.0 segundos\n"
     ]
    }
   ],
   "source": [
    "tamanho_download = float(input('Qual o tamanho do arquivo em MB qu e deseja baixar: '))\n",
    "velocidade_mbps = float(input('Qual a velocidade da sua internet em Mbps '))\n",
    "# 1 MB = 8 mb\n",
    "\n",
    "tamanho_mb = tamanho_download * 8\n",
    "tempo_segundos = tamanho_mb / velocidade_mbps\n",
    "if tempo_segundos % 60 == 0:\n",
    "    minutos = tempo_segundos / 60\n",
    "    print(f'Para baixar {tamanho_download} MB, levará um total de {minutos}')\n",
    "else: \n",
    "    minutos = tempo_segundos // 60\n",
    "    segundos = tempo_segundos % 60\n",
    "    print(f'Para baixar {tamanho_download} MB, levará um total de {minutos} minutos e {segundos} segundos')\n"
   ]
  },
  {
   "cell_type": "code",
   "execution_count": null,
   "id": "69450a99",
   "metadata": {},
   "outputs": [],
   "source": []
  }
 ],
 "metadata": {
  "kernelspec": {
   "display_name": "Python 3",
   "language": "python",
   "name": "python3"
  },
  "language_info": {
   "codemirror_mode": {
    "name": "ipython",
    "version": 3
   },
   "file_extension": ".py",
   "mimetype": "text/x-python",
   "name": "python",
   "nbconvert_exporter": "python",
   "pygments_lexer": "ipython3",
   "version": "3.9.2"
  }
 },
 "nbformat": 4,
 "nbformat_minor": 5
}
