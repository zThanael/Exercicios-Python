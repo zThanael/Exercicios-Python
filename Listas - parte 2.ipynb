{
 "cells": [
  {
   "cell_type": "markdown",
   "id": "16aee52c",
   "metadata": {},
   "source": [
    "### 18. Uma grande emissora de televisão quer fazer uma enquete entre os seus telespectadores para saber qual o melhor jogador após cada jogo. Para isto, faz-se necessário o desenvolvimento de um programa, que será utilizado pelas telefonistas, para a computação dos votos. Sua equipe foi contratada para desenvolver este programa, utilizando a linguagem de programação C++. Para computar cada voto, a telefonista digitará um número, entre 1 e 23, correspondente ao número da camisa do jogador. Um número de jogador igual zero, indica que a votação foi encerrada. Se um número inválido for digitado, o programa deve ignorá-lo, mostrando uma breve mensagem de aviso, e voltando a pedir outro número. Após o final da votação, o programa deverá exibir:\n",
    "<p> O total de votos computados; </p>\n",
    "<li>Os númeos e respectivos votos de todos os jogadores que receberam votos;</li>\n",
    "<li>O percentual de votos de cada um destes jogadores;</li>\n",
    "<li>O número do jogador escolhido como o melhor jogador da partida, juntamente com o número de votos e o percentual de votos dados a ele.</li>\n",
    "Observe que os votos inválidos e o zero final não devem ser computados como votos. O resultado aparece ordenado pelo número do jogador. O programa deve fazer uso de arrays. O programa deverá executar o cálculo do percentual de cada jogador através de uma função. Esta função receberá dois parâmetros: o número de votos de um jogador e o total de votos. A função calculará o percentual e retornará o valor calculado. Abaixo segue uma tela de exemplo. O disposição das informações deve ser o mais próxima possível ao exemplo. Os dados são fictícios e podem mudar a cada execução do programa. Ao final, o programa deve ainda gravar os dados referentes ao resultado da votação em um arquivo texto no disco, obedecendo a mesma disposição apresentada na tela."
   ]
  },
  {
   "cell_type": "code",
   "execution_count": 1,
   "id": "8dd748e2",
   "metadata": {},
   "outputs": [],
   "source": [
    "# Enquete: Quem foi o melhor jogador?\n",
    "\n",
    "# Número do jogador (0=fim): 9\n",
    "# Número do jogador (0=fim): 10\n",
    "# Número do jogador (0=fim): 9\n",
    "# Número do jogador (0=fim): 10\n",
    "# Número do jogador (0=fim): 11\n",
    "# Número do jogador (0=fim): 10\n",
    "# Número do jogador (0=fim): 50\n",
    "# Informe um valor entre 1 e 23 ou 0 para sair!\n",
    "# Número do jogador (0=fim): 9\n",
    "# Número do jogador (0=fim): 9\n",
    "# Número do jogador (0=fim): 0\n",
    "\n",
    "# Resultado da votação:\n",
    "\n",
    "# Foram computados 8 votos.\n",
    "\n",
    "# Jogador Votos           %\n",
    "# 9               4               50,0%\n",
    "# 10              3               37,5%\n",
    "# 11              1               12,5%\n",
    "# O melhor jogador foi o número 9, com 4 votos, correspondendo a 50% do total de votos."
   ]
  },
  {
   "cell_type": "code",
   "execution_count": 2,
   "id": "13e3f9e7",
   "metadata": {},
   "outputs": [
    {
     "name": "stdout",
     "output_type": "stream",
     "text": [
      "Enquete: Quem foi o melhor jogador?\n",
      "Número do jogador (0=fim):7\n",
      "Número do jogador (0=fim):7\n",
      "Número do jogador (0=fim):7\n",
      "Número do jogador (0=fim):7\n",
      "Número do jogador (0=fim):7\n",
      "Número do jogador (0=fim):1\n",
      "Número do jogador (0=fim):2\n",
      "Número do jogador (0=fim):1\n",
      "Número do jogador (0=fim):5\n",
      "Número do jogador (0=fim):6\n",
      "Número do jogador (0=fim):4\n",
      "Número do jogador (0=fim):2\n",
      "Número do jogador (0=fim):5\n",
      "Número do jogador (0=fim):6\n",
      "Número do jogador (0=fim):4\n",
      "Número do jogador (0=fim):3]\n",
      "Informe um valor entre 1 e 23 ou 0 para sair!\n",
      "Número do jogador (0=fim):3\n",
      "Número do jogador (0=fim):0\n"
     ]
    }
   ],
   "source": [
    "lista_votos = []\n",
    "print('Enquete: Quem foi o melhor jogador?')\n",
    "while True:\n",
    "    try:\n",
    "        voto = int(input('Número do jogador (0=fim):'))\n",
    "    except:\n",
    "        print('Informe um valor entre 1 e 23 ou 0 para sair!')\n",
    "    if voto > 0 and voto <= 23:\n",
    "        lista_votos.append(voto)\n",
    "    elif voto == 0:\n",
    "        break\n",
    "    else: \n",
    "        print('Informe um valor entre 1 e 23 ou 0 para sair!')\n"
   ]
  },
  {
   "cell_type": "code",
   "execution_count": 7,
   "id": "363a010e",
   "metadata": {},
   "outputs": [],
   "source": [
    "def contagem_votos(lista_votos):\n",
    "    set_votos = set(lista_votos)\n",
    "    dict_votos = {}\n",
    "    for voto in set_votos:\n",
    "        dict_votos[voto] = lista_votos.count(voto)\n",
    "    return dict_votos"
   ]
  },
  {
   "cell_type": "code",
   "execution_count": 8,
   "id": "0399f975",
   "metadata": {},
   "outputs": [
    {
     "name": "stdout",
     "output_type": "stream",
     "text": [
      "Jogador     Votos    Porcentagem\n",
      "1   =          2       11.8 %\n",
      "2   =          2       11.8 %\n",
      "3   =          1       5.9 %\n",
      "4   =          3       17.6 %\n",
      "5   =          2       11.8 %\n",
      "6   =          2       11.8 %\n",
      "7   =          5       29.4 %\n"
     ]
    }
   ],
   "source": [
    "dict_votos = contagem_votos(lista_votos)\n",
    "print('Jogador     Votos    Porcentagem')\n",
    "teste = [print(key,'  =         ', value, '     ', round((value*100)/len(lista_votos),1),'%') for key,value in dict_votos.items()]"
   ]
  },
  {
   "cell_type": "code",
   "execution_count": 11,
   "id": "2d4a2dff",
   "metadata": {},
   "outputs": [],
   "source": [
    "porcentagem = (max(dict_votos.values())*100)/sum(dict_votos.values())"
   ]
  },
  {
   "cell_type": "code",
   "execution_count": 12,
   "id": "17c78958",
   "metadata": {},
   "outputs": [
    {
     "name": "stdout",
     "output_type": "stream",
     "text": [
      "O Jogador mais votado foi o Jogador 7 com um total de 5 votos\n",
      "Correspondendo a 29% dos votos\n"
     ]
    }
   ],
   "source": [
    "print(f'''O Jogador mais votado foi o Jogador {max(dict_votos, key=dict_votos.get)} com um total de {max(dict_votos.values())} votos\n",
    "Correspondendo a {porcentagem:.0f}% dos votos''')"
   ]
  },
  {
   "cell_type": "code",
   "execution_count": null,
   "id": "2a907ff0",
   "metadata": {},
   "outputs": [],
   "source": []
  },
  {
   "cell_type": "code",
   "execution_count": null,
   "id": "8e751cae",
   "metadata": {},
   "outputs": [],
   "source": []
  },
  {
   "cell_type": "code",
   "execution_count": null,
   "id": "c31aef90",
   "metadata": {},
   "outputs": [],
   "source": []
  }
 ],
 "metadata": {
  "kernelspec": {
   "display_name": "Python 3",
   "language": "python",
   "name": "python3"
  },
  "language_info": {
   "codemirror_mode": {
    "name": "ipython",
    "version": 3
   },
   "file_extension": ".py",
   "mimetype": "text/x-python",
   "name": "python",
   "nbconvert_exporter": "python",
   "pygments_lexer": "ipython3",
   "version": "3.8.8"
  }
 },
 "nbformat": 4,
 "nbformat_minor": 5
}
