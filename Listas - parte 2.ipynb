{
 "cells": [
  {
   "cell_type": "code",
   "execution_count": 1,
   "id": "86bf8bf4",
   "metadata": {},
   "outputs": [],
   "source": [
    "from IPython.display import clear_output\n",
    "import pandas as pd\n",
    "import random\n",
    "import os"
   ]
  },
  {
   "cell_type": "markdown",
   "id": "9998fad9",
   "metadata": {},
   "source": [
    "### 18. Uma grande emissora de televisão quer fazer uma enquete entre os seus telespectadores para saber qual o melhor jogador após cada jogo. Para isto, faz-se necessário o desenvolvimento de um programa, que será utilizado pelas telefonistas, para a computação dos votos. Sua equipe foi contratada para desenvolver este programa, utilizando a linguagem de programação C++. Para computar cada voto, a telefonista digitará um número, entre 1 e 23, correspondente ao número da camisa do jogador. Um número de jogador igual zero, indica que a votação foi encerrada. Se um número inválido for digitado, o programa deve ignorá-lo, mostrando uma breve mensagem de aviso, e voltando a pedir outro número. Após o final da votação, o programa deverá exibir:\n",
    "<p> O total de votos computados; </p>\n",
    "<li>Os númeos e respectivos votos de todos os jogadores que receberam votos;</li>\n",
    "<li>O percentual de votos de cada um destes jogadores;</li>\n",
    "<li>O número do jogador escolhido como o melhor jogador da partida, juntamente com o número de votos e o percentual de votos dados a ele.</li>\n",
    "Observe que os votos inválidos e o zero final não devem ser computados como votos. O resultado aparece ordenado pelo número do jogador. O programa deve fazer uso de arrays. O programa deverá executar o cálculo do percentual de cada jogador através de uma função. Esta função receberá dois parâmetros: o número de votos de um jogador e o total de votos. A função calculará o percentual e retornará o valor calculado. Abaixo segue uma tela de exemplo. O disposição das informações deve ser o mais próxima possível ao exemplo. Os dados são fictícios e podem mudar a cada execução do programa. Ao final, o programa deve ainda gravar os dados referentes ao resultado da votação em um arquivo texto no disco, obedecendo a mesma disposição apresentada na tela."
   ]
  },
  {
   "cell_type": "code",
   "execution_count": 2,
   "id": "c67ac483",
   "metadata": {},
   "outputs": [],
   "source": [
    "# Enquete: Quem foi o melhor jogador?\n",
    "\n",
    "# Número do jogador (0=fim): 9\n",
    "# Número do jogador (0=fim): 10\n",
    "# Número do jogador (0=fim): 9\n",
    "# Número do jogador (0=fim): 10\n",
    "# Número do jogador (0=fim): 11\n",
    "# Número do jogador (0=fim): 10\n",
    "# Número do jogador (0=fim): 50\n",
    "# Informe um valor entre 1 e 23 ou 0 para sair!\n",
    "# Número do jogador (0=fim): 9\n",
    "# Número do jogador (0=fim): 9\n",
    "# Número do jogador (0=fim): 0\n",
    "\n",
    "# Resultado da votação:\n",
    "\n",
    "# Foram computados 8 votos.\n",
    "\n",
    "# Jogador Votos           %\n",
    "# 9               4               50,0%\n",
    "# 10              3               37,5%\n",
    "# 11              1               12,5%\n",
    "# O melhor jogador foi o número 9, com 4 votos, correspondendo a 50% do total de votos."
   ]
  },
  {
   "cell_type": "code",
   "execution_count": 3,
   "id": "95356070",
   "metadata": {},
   "outputs": [
    {
     "name": "stdout",
     "output_type": "stream",
     "text": [
      "Número do jogador (0=fim):0\n"
     ]
    }
   ],
   "source": [
    "lista_votos = []\n",
    "print('Enquete: Quem foi o melhor jogador?')\n",
    "while True:\n",
    "    try:\n",
    "        voto = int(input('Número do jogador (0=fim):'))\n",
    "    except:\n",
    "        print('Informe um valor entre 1 e 23 ou 0 para sair!')\n",
    "    if voto > 0 and voto <= 23:\n",
    "        lista_votos.append(voto)\n",
    "    elif voto == 0:\n",
    "        break\n",
    "    else: \n",
    "        print('Informe um valor entre 1 e 23 ou 0 para sair!')\n",
    "    clear_output(wait=True)\n"
   ]
  },
  {
   "cell_type": "code",
   "execution_count": 4,
   "id": "798f4805",
   "metadata": {},
   "outputs": [],
   "source": [
    "def contagem_votos(lista_votos):\n",
    "    set_votos = set(lista_votos)\n",
    "    dict_votos = {}\n",
    "    for voto in set_votos:\n",
    "        dict_votos[voto] = lista_votos.count(voto)\n",
    "    return dict_votos"
   ]
  },
  {
   "cell_type": "code",
   "execution_count": 5,
   "id": "800ab2f0",
   "metadata": {},
   "outputs": [
    {
     "name": "stdout",
     "output_type": "stream",
     "text": [
      "Jogador     Votos    Porcentagem\n",
      "10   =          5       71.4 %\n",
      "2   =          1       14.3 %\n",
      "5   =          1       14.3 %\n"
     ]
    }
   ],
   "source": [
    "dict_votos = contagem_votos(lista_votos)\n",
    "print('Jogador     Votos    Porcentagem')\n",
    "teste = [print(key,'  =         ', value, '     ', round((value*100)/len(lista_votos),1),'%') for key,value in dict_votos.items()]"
   ]
  },
  {
   "cell_type": "code",
   "execution_count": 6,
   "id": "39355c67",
   "metadata": {},
   "outputs": [],
   "source": [
    "porcentagem = (max(dict_votos.values())*100)/sum(dict_votos.values())"
   ]
  },
  {
   "cell_type": "code",
   "execution_count": 7,
   "id": "6efa97a9",
   "metadata": {},
   "outputs": [
    {
     "name": "stdout",
     "output_type": "stream",
     "text": [
      "O Jogador mais votado foi o Jogador 10 com um total de 5 votos\n",
      "Correspondendo a 71% dos votos\n"
     ]
    }
   ],
   "source": [
    "print(f'''O Jogador mais votado foi o Jogador {max(dict_votos, key=dict_votos.get)} com um total de {max(dict_votos.values())} votos\n",
    "Correspondendo a {porcentagem:.0f}% dos votos''')"
   ]
  },
  {
   "cell_type": "markdown",
   "id": "1ca02884",
   "metadata": {},
   "source": [
    "### 19. Uma empresa de pesquisas precisa tabular os resultados da seguinte enquete feita a uma grande quantidade de organizações."
   ]
  },
  {
   "cell_type": "code",
   "execution_count": 8,
   "id": "5290bd79",
   "metadata": {},
   "outputs": [],
   "source": [
    "# \"Qual o melhor Sistema Operacional para uso em servidores?\"\n",
    "\n",
    "# As possíveis respostas são:\n",
    "\n",
    "# 1- Windows Server\n",
    "# 2- Unix\n",
    "# 3- Linux\n",
    "# 4- Netware\n",
    "# 5- Mac OS\n",
    "# 6- Outro"
   ]
  },
  {
   "cell_type": "markdown",
   "id": "45f652c2",
   "metadata": {},
   "source": [
    "Você foi contratado para desenvolver um programa que leia o resultado da enquete e informe ao final o resultado da mesma. O programa deverá ler os valores até ser informado o valor 0, que encerra a entrada dos dados. Não deverão ser aceitos valores além dos válidos para o programa (0 a 6). Os valores referentes a cada uma das opções devem ser armazenados num vetor. Após os dados terem sido completamente informados, o programa deverá calcular a percentual de cada um dos concorrentes e informar o vencedor da enquete. O formato da saída foi dado pela empresa, e é o seguinte:"
   ]
  },
  {
   "cell_type": "code",
   "execution_count": 9,
   "id": "780aeeea",
   "metadata": {},
   "outputs": [],
   "source": [
    "# Sistema Operacional     Votos   %\n",
    "# -------------------     -----   ---\n",
    "# Windows Server           1500   17%\n",
    "# Unix                     3500   40%\n",
    "# Linux                    3000   34%\n",
    "# Netware                   500    5%\n",
    "# Mac OS                    150    2%\n",
    "# Outro                     150    2%\n",
    "# -------------------     -----\n",
    "# Total                    8800\n",
    "\n",
    "# O Sistema Operacional mais votado foi o Unix, com 3500 votos, correspondendo a 40% dos votos."
   ]
  },
  {
   "cell_type": "code",
   "execution_count": 10,
   "id": "18d82691",
   "metadata": {},
   "outputs": [
    {
     "name": "stdout",
     "output_type": "stream",
     "text": [
      "Escolha de Sistema Operacional.\n",
      "1 - Windows Server\n",
      "2 - Unix\n",
      "3 - Linux\n",
      "4 - Netware \n",
      "5 - Mac OS\n",
      "6 - Outro\n",
      "0 - Finalizar a votação\n",
      "Qual seu voto: 0\n"
     ]
    }
   ],
   "source": [
    "### Captação dos dados\n",
    "votos = []\n",
    "while True:\n",
    "    clear_output(wait=True)\n",
    "    try:\n",
    "        resp = int(input('''Escolha de Sistema Operacional.\n",
    "1 - Windows Server\n",
    "2 - Unix\n",
    "3 - Linux\n",
    "4 - Netware \n",
    "5 - Mac OS\n",
    "6 - Outro\n",
    "0 - Finalizar a votação\n",
    "Qual seu voto: '''))\n",
    "        if resp < 7 and resp > 0:\n",
    "            votos.append(resp)\n",
    "        else:\n",
    "            break\n",
    "    except:\n",
    "        print('Valor inválido')\n",
    "        break\n",
    "    clear_output(wait=True)"
   ]
  },
  {
   "cell_type": "code",
   "execution_count": 12,
   "id": "92f61fd6",
   "metadata": {},
   "outputs": [],
   "source": [
    "#### Criar as values para o dict resultado\n",
    "eleicao = {\"Windows Server\":votos.count(1),\n",
    "          \"Unix\":votos.count(2),\n",
    "          \"Linux\":votos.count(3),\n",
    "          \"Netware\":votos.count(4),\n",
    "          \"Mac OS\":votos.count(5),\n",
    "          \"Outro\":votos.count(6),}\n",
    "candidatos = list(eleicao.keys())\n",
    "votos = list(eleicao.values())\n",
    "def pegar_porcentagem (votos):\n",
    "    porcentagem = []\n",
    "    total_votos = sum(votos)\n",
    "    for voto in votos:\n",
    "        porcento = f\"{round((voto*100)/total_votos)} %\"\n",
    "        porcentagem.append(porcento)\n",
    "    return porcentagem"
   ]
  },
  {
   "cell_type": "code",
   "execution_count": 13,
   "id": "6ab9263d",
   "metadata": {},
   "outputs": [],
   "source": [
    "#Criar um dicionario com todos os valores\n",
    "resultados = {\"Candidatos\":candidatos,\"Votos\":votos,\"Porcentagem\":pegar_porcentagem(votos)}\n",
    "#Criar a tabela dos resultados\n",
    "df = pd.DataFrame(data=resultados)"
   ]
  },
  {
   "cell_type": "code",
   "execution_count": 14,
   "id": "61c74713",
   "metadata": {},
   "outputs": [],
   "source": [
    "# Sistema Operacional     Votos   %\n",
    "# -------------------     -----   ---\n",
    "# Windows Server           1500   17%\n",
    "# Unix                     3500   40%\n",
    "# Linux                    3000   34%\n",
    "# Netware                   500    5%\n",
    "# Mac OS                    150    2%\n",
    "# Outro                     150    2%\n",
    "# -------------------     -----\n",
    "# Total                    8800\n",
    "\n",
    "# O Sistema Operacional mais votado foi o Unix, com 3500 votos, correspondendo a 40% dos votos."
   ]
  },
  {
   "cell_type": "code",
   "execution_count": 15,
   "id": "e6e1c1a3",
   "metadata": {},
   "outputs": [
    {
     "data": {
      "text/html": [
       "<div>\n",
       "<style scoped>\n",
       "    .dataframe tbody tr th:only-of-type {\n",
       "        vertical-align: middle;\n",
       "    }\n",
       "\n",
       "    .dataframe tbody tr th {\n",
       "        vertical-align: top;\n",
       "    }\n",
       "\n",
       "    .dataframe thead th {\n",
       "        text-align: right;\n",
       "    }\n",
       "</style>\n",
       "<table border=\"1\" class=\"dataframe\">\n",
       "  <thead>\n",
       "    <tr style=\"text-align: right;\">\n",
       "      <th></th>\n",
       "      <th>Candidatos</th>\n",
       "      <th>Votos</th>\n",
       "      <th>Porcentagem</th>\n",
       "    </tr>\n",
       "  </thead>\n",
       "  <tbody>\n",
       "    <tr>\n",
       "      <th>0</th>\n",
       "      <td>Windows Server</td>\n",
       "      <td>7</td>\n",
       "      <td>39 %</td>\n",
       "    </tr>\n",
       "    <tr>\n",
       "      <th>1</th>\n",
       "      <td>Unix</td>\n",
       "      <td>2</td>\n",
       "      <td>11 %</td>\n",
       "    </tr>\n",
       "    <tr>\n",
       "      <th>2</th>\n",
       "      <td>Linux</td>\n",
       "      <td>1</td>\n",
       "      <td>6 %</td>\n",
       "    </tr>\n",
       "    <tr>\n",
       "      <th>3</th>\n",
       "      <td>Netware</td>\n",
       "      <td>2</td>\n",
       "      <td>11 %</td>\n",
       "    </tr>\n",
       "    <tr>\n",
       "      <th>4</th>\n",
       "      <td>Mac OS</td>\n",
       "      <td>2</td>\n",
       "      <td>11 %</td>\n",
       "    </tr>\n",
       "    <tr>\n",
       "      <th>5</th>\n",
       "      <td>Outro</td>\n",
       "      <td>4</td>\n",
       "      <td>22 %</td>\n",
       "    </tr>\n",
       "  </tbody>\n",
       "</table>\n",
       "</div>"
      ],
      "text/plain": [
       "       Candidatos  Votos Porcentagem\n",
       "0  Windows Server      7        39 %\n",
       "1            Unix      2        11 %\n",
       "2           Linux      1         6 %\n",
       "3         Netware      2        11 %\n",
       "4          Mac OS      2        11 %\n",
       "5           Outro      4        22 %"
      ]
     },
     "execution_count": 15,
     "metadata": {},
     "output_type": "execute_result"
    }
   ],
   "source": [
    "df"
   ]
  },
  {
   "cell_type": "markdown",
   "id": "5492e76e",
   "metadata": {},
   "source": [
    "### 20.  As Organizações Tabajara resolveram dar um abono aos seus colaboradores em reconhecimento ao bom resultado alcançado durante o ano que passou. Para isto contratou você para desenvolver a aplicação que servirá como uma projeção de quanto será gasto com o pagamento deste abono.\n",
    "Após reuniões envolvendo a diretoria executiva, a diretoria financeira e os representantes do sindicato laboral, chegou-se a seguinte forma de cálculo:\n",
    "* **a** .Cada funcionário receberá o equivalente a **20%** do seu salário bruto de dezembro; \n",
    "* **a** .O piso do abono será de 100 reais, isto é, aqueles funcionários cujo salário for muito baixo, recebem este valor mínimo; \n",
    "Neste momento, não se deve ter nenhuma preocupação com colaboradores com tempo menor de casa, descontos, impostos ou outras particularidades. \n",
    "> Seu programa deverá permitir a digitação do salário de um número indefinido (desconhecido) de salários. Um valor de salário igual a 0 (zero) encerra a digitação. Após a entrada de todos os dados o programa deverá calcular o valor do abono concedido a cada colaborador, de acordo com a regra definida acima. Ao final, o programa deverá apresentar:\n",
    ">> * O salário de cada funcionário, juntamente com o valor do abono; \n",
    ">> * O número total de funcionário processados;\n",
    ">> * O valor total a ser gasto com o pagamento do abono;\n",
    ">> * O número de funcionário que receberá o valor mínimo de 100 reais;\n",
    ">> * O maior valor pago como abono; A tela abaixo é um exemplo de execução do programa, apenas para fins ilustrativos. Os valores podem mudar a cada execução do programa."
   ]
  },
  {
   "cell_type": "code",
   "execution_count": 16,
   "id": "8b7cb8d6",
   "metadata": {},
   "outputs": [],
   "source": [
    "# Projeção de Gastos com Abono\n",
    "# ============================ \n",
    " \n",
    "# Salário: 1000\n",
    "# Salário: 300\n",
    "# Salário: 500\n",
    "# Salário: 100\n",
    "# Salário: 4500\n",
    "# Salário: 0\n",
    " \n",
    "# Salário    - Abono     \n",
    "# R$ 1000.00 - R$  200.00\n",
    "# R$  300.00 - R$  100.00\n",
    "# R$  500.00 - R$  100.00\n",
    "# R$  100.00 - R$  100.00\n",
    "# R$ 4500.00 - R$  900.00\n",
    " \n",
    "# Foram processados 5 colaboradores\n",
    "# Total gasto com abonos: R$ 1400.00\n",
    "# Valor mínimo pago a 3 colaboradores\n",
    "# Maior valor de abono pago: R$ 900.00"
   ]
  },
  {
   "cell_type": "code",
   "execution_count": 17,
   "id": "7c4212bb",
   "metadata": {},
   "outputs": [
    {
     "name": "stdout",
     "output_type": "stream",
     "text": [
      "Digite seu Salário referente ao mês de Dezembro ou Digite 0 para sair \n",
      "Salario: R$ 0\n",
      "Obrigado por utilizar o nosso sistema\n"
     ]
    }
   ],
   "source": [
    "#Captação dos Salários\n",
    "salarios = []\n",
    "while True:\n",
    "    try:\n",
    "        salario = int(input(\"Digite seu Salário referente ao mês de Dezembro ou Digite 0 para sair \\nSalario: R$ \"))\n",
    "        if salario == 0:\n",
    "            print('Obrigado por utilizar o nosso sistema')\n",
    "            break\n",
    "        else:\n",
    "            salarios.append(salario)\n",
    "    except:\n",
    "        print('Valor Inválido')\n",
    "        break\n",
    "    finally:\n",
    "        clear_output(wait=True)    "
   ]
  },
  {
   "cell_type": "code",
   "execution_count": 18,
   "id": "0eb9200e",
   "metadata": {},
   "outputs": [],
   "source": [
    "#Criar uma lista com os abonos\n",
    "abonos = [salario*0.2 if salario * 0.2 > 100 else 100 for salario in salarios]\n",
    "abonos = list(map(round,abonos))"
   ]
  },
  {
   "cell_type": "code",
   "execution_count": 19,
   "id": "d0a26a38",
   "metadata": {},
   "outputs": [],
   "source": [
    "#Criar os resultados e uma tabela\n",
    "resultados = {\"Salarios R$\":salarios,\"Abono R$\": abonos}\n",
    "df_20 = pd.DataFrame(data = resultados)"
   ]
  },
  {
   "cell_type": "code",
   "execution_count": 20,
   "id": "b457bc89",
   "metadata": {},
   "outputs": [
    {
     "data": {
      "text/html": [
       "<div>\n",
       "<style scoped>\n",
       "    .dataframe tbody tr th:only-of-type {\n",
       "        vertical-align: middle;\n",
       "    }\n",
       "\n",
       "    .dataframe tbody tr th {\n",
       "        vertical-align: top;\n",
       "    }\n",
       "\n",
       "    .dataframe thead th {\n",
       "        text-align: right;\n",
       "    }\n",
       "</style>\n",
       "<table border=\"1\" class=\"dataframe\">\n",
       "  <thead>\n",
       "    <tr style=\"text-align: right;\">\n",
       "      <th></th>\n",
       "      <th>Salarios R$</th>\n",
       "      <th>Abono R$</th>\n",
       "    </tr>\n",
       "  </thead>\n",
       "  <tbody>\n",
       "    <tr>\n",
       "      <th>0</th>\n",
       "      <td>1250</td>\n",
       "      <td>250</td>\n",
       "    </tr>\n",
       "    <tr>\n",
       "      <th>1</th>\n",
       "      <td>550</td>\n",
       "      <td>110</td>\n",
       "    </tr>\n",
       "    <tr>\n",
       "      <th>2</th>\n",
       "      <td>20</td>\n",
       "      <td>100</td>\n",
       "    </tr>\n",
       "    <tr>\n",
       "      <th>3</th>\n",
       "      <td>300</td>\n",
       "      <td>100</td>\n",
       "    </tr>\n",
       "    <tr>\n",
       "      <th>4</th>\n",
       "      <td>400</td>\n",
       "      <td>100</td>\n",
       "    </tr>\n",
       "    <tr>\n",
       "      <th>5</th>\n",
       "      <td>500</td>\n",
       "      <td>100</td>\n",
       "    </tr>\n",
       "    <tr>\n",
       "      <th>6</th>\n",
       "      <td>1260</td>\n",
       "      <td>252</td>\n",
       "    </tr>\n",
       "    <tr>\n",
       "      <th>7</th>\n",
       "      <td>3500</td>\n",
       "      <td>700</td>\n",
       "    </tr>\n",
       "  </tbody>\n",
       "</table>\n",
       "</div>"
      ],
      "text/plain": [
       "   Salarios R$  Abono R$\n",
       "0         1250       250\n",
       "1          550       110\n",
       "2           20       100\n",
       "3          300       100\n",
       "4          400       100\n",
       "5          500       100\n",
       "6         1260       252\n",
       "7         3500       700"
      ]
     },
     "execution_count": 20,
     "metadata": {},
     "output_type": "execute_result"
    }
   ],
   "source": [
    "df_20"
   ]
  },
  {
   "cell_type": "code",
   "execution_count": 21,
   "id": "3b40eaa5",
   "metadata": {},
   "outputs": [
    {
     "name": "stdout",
     "output_type": "stream",
     "text": [
      "Foram processados 8 Colaboradores\n",
      "Total gasto com abonos: R$ 1712\n",
      "Valor Mínimo pago a 4\n",
      "Maior valor de abono pago: R$ 700\n"
     ]
    }
   ],
   "source": [
    "print(f'''Foram processados {len(salarios)} Colaboradores\n",
    "Total gasto com abonos: R$ {sum(abonos)}\n",
    "Valor Mínimo pago a {abonos.count(100)}\n",
    "Maior valor de abono pago: R$ {max(abonos)}''')"
   ]
  },
  {
   "cell_type": "markdown",
   "id": "5619e199",
   "metadata": {},
   "source": [
    "### 21. Faça um programa que carregue uma lista com os modelos de cinco carros (exemplo de modelos: FUSCA, GOL, VECTRA etc). Carregue uma outra lista com o consumo desses carros, isto é, quantos quilômetros cada um desses carros faz com um litro de combustível. Calcule e mostre:\n",
    "* **O modelo do carro mais econômico**;\n",
    "* **Quantos litros de combustível cada um dos carros cadastrados consome para percorrer uma distância de 1000 quilômetros e quanto isto custará, considerando um que a gasolina custe 2,25 o litro. Abaixo segue uma tela de exemplo**. \n",
    "O disposição das informações deve ser o mais próxima possível ao exemplo. Os dados são fictícios e podem mudar a cada execução do programa."
   ]
  },
  {
   "cell_type": "code",
   "execution_count": 22,
   "id": "70033895",
   "metadata": {},
   "outputs": [],
   "source": [
    "# Comparativo de Consumo de Combustível\n",
    "\n",
    "# Veículo 1\n",
    "# Nome: fusca\n",
    "# Km por litro: 7\n",
    "# Veículo 2\n",
    "# Nome: gol\n",
    "# Km por litro: 10\n",
    "# Veículo 3\n",
    "# Nome: uno\n",
    "# Km por litro: 12.5\n",
    "# Veículo 4\n",
    "# Nome: Vectra\n",
    "# Km por litro: 9\n",
    "# Veículo 5\n",
    "# Nome: Peugeout\n",
    "# Km por litro: 14.5\n",
    "\n",
    "# Relatório Final\n",
    "#  1 - fusca           -    7.0 -  142.9 litros - R$ 321.43\n",
    "#  2 - gol             -   10.0 -  100.0 litros - R$ 225.00\n",
    "#  3 - uno             -   12.5 -   80.0 litros - R$ 180.00\n",
    "#  4 - vectra          -    9.0 -  111.1 litros - R$ 250.00\n",
    "#  5 - peugeout        -   14.5 -   69.0 litros - R$ 155.17"
   ]
  },
  {
   "cell_type": "code",
   "execution_count": 23,
   "id": "a2f589c4",
   "metadata": {},
   "outputs": [
    {
     "name": "stdout",
     "output_type": "stream",
     "text": [
      "Qual o modelo do seu veiculo? 0\n",
      "Quantos kilometros faz por litro? 0\n"
     ]
    }
   ],
   "source": [
    "#Captação dos Valores\n",
    "veiculos = {'nome':[],'km_litro':[]}\n",
    "while True:\n",
    "    try:\n",
    "        nome = input('Qual o modelo do seu veiculo? ')\n",
    "        km_litro = float(input('Quantos kilometros faz por litro? '))\n",
    "        if nome == 0 or km_litro == 0:\n",
    "            break\n",
    "        veiculos['nome'].append(nome)\n",
    "        veiculos['km_litro'].append(km_litro) \n",
    "    except:\n",
    "        print('Valores Inválidos')\n",
    "        break\n",
    "    clear_output(wait=True)"
   ]
  },
  {
   "cell_type": "code",
   "execution_count": 24,
   "id": "bcc3cb97",
   "metadata": {},
   "outputs": [],
   "source": [
    "# Criação dos criterios\n",
    "qtd_litro = []\n",
    "valor_total = []\n",
    "gasolina = 2.25\n",
    "km = 1000\n",
    "for km_litro in veiculos['km_litro']:\n",
    "    litros = km / km_litro\n",
    "    reais = litros*gasolina\n",
    "    qtd_litro.append(litros)\n",
    "    valor_total.append(reais)\n",
    "qtd_litro = list(map((lambda litros: round(litros,1) ),qtd_litro))\n",
    "valor_total = list(map((lambda real: round(real,2) ),valor_total))"
   ]
  },
  {
   "cell_type": "code",
   "execution_count": 25,
   "id": "900b1dad",
   "metadata": {},
   "outputs": [],
   "source": [
    "resultado = {'modelo':veiculos['nome'],\n",
    "             'Km/litro:':veiculos['km_litro'],\n",
    "             'Quantidade de litros':qtd_litro,\n",
    "             \"Valor R$\":valor_total}\n",
    "df_21 = pd.DataFrame(data=resultado)"
   ]
  },
  {
   "cell_type": "code",
   "execution_count": 26,
   "id": "e2d2fa9c",
   "metadata": {},
   "outputs": [
    {
     "name": "stdout",
     "output_type": "stream",
     "text": [
      "O menor consumo é o Celta\n"
     ]
    },
    {
     "data": {
      "text/html": [
       "<div>\n",
       "<style scoped>\n",
       "    .dataframe tbody tr th:only-of-type {\n",
       "        vertical-align: middle;\n",
       "    }\n",
       "\n",
       "    .dataframe tbody tr th {\n",
       "        vertical-align: top;\n",
       "    }\n",
       "\n",
       "    .dataframe thead th {\n",
       "        text-align: right;\n",
       "    }\n",
       "</style>\n",
       "<table border=\"1\" class=\"dataframe\">\n",
       "  <thead>\n",
       "    <tr style=\"text-align: right;\">\n",
       "      <th></th>\n",
       "      <th>modelo</th>\n",
       "      <th>Km/litro:</th>\n",
       "      <th>Quantidade de litros</th>\n",
       "      <th>Valor R$</th>\n",
       "    </tr>\n",
       "  </thead>\n",
       "  <tbody>\n",
       "    <tr>\n",
       "      <th>0</th>\n",
       "      <td>Gol</td>\n",
       "      <td>12.0</td>\n",
       "      <td>83.3</td>\n",
       "      <td>187.50</td>\n",
       "    </tr>\n",
       "    <tr>\n",
       "      <th>1</th>\n",
       "      <td>Celta</td>\n",
       "      <td>15.0</td>\n",
       "      <td>66.7</td>\n",
       "      <td>150.00</td>\n",
       "    </tr>\n",
       "    <tr>\n",
       "      <th>2</th>\n",
       "      <td>Golf</td>\n",
       "      <td>7.0</td>\n",
       "      <td>142.9</td>\n",
       "      <td>321.43</td>\n",
       "    </tr>\n",
       "    <tr>\n",
       "      <th>3</th>\n",
       "      <td>Uno</td>\n",
       "      <td>15.0</td>\n",
       "      <td>66.7</td>\n",
       "      <td>150.00</td>\n",
       "    </tr>\n",
       "  </tbody>\n",
       "</table>\n",
       "</div>"
      ],
      "text/plain": [
       "  modelo  Km/litro:  Quantidade de litros  Valor R$\n",
       "0    Gol       12.0                  83.3    187.50\n",
       "1  Celta       15.0                  66.7    150.00\n",
       "2   Golf        7.0                 142.9    321.43\n",
       "3    Uno       15.0                  66.7    150.00"
      ]
     },
     "execution_count": 26,
     "metadata": {},
     "output_type": "execute_result"
    }
   ],
   "source": [
    "menor_valor = valor_total.index(min(valor_total))\n",
    "print(f'O menor consumo é o {veiculos[\"nome\"][menor_valor]}')\n",
    "df_21"
   ]
  },
  {
   "cell_type": "markdown",
   "id": "78e49db9",
   "metadata": {},
   "source": [
    "### 22. Sua organização acaba de contratar um estagiário para trabalhar no Suporte de Informática, com a intenção de fazer um levantamento nas sucatas encontradas nesta área. A primeira tarefa dele é testar todos os cerca de 200 mouses que se encontram lá, testando e anotando o estado de cada um deles, para verificar o que se pode aproveitar deles.\n",
    "Foi requisitado que você desenvolva um programa para registrar este levantamento. O programa deverá receber um número indeterminado de entradas, cada uma contendo: \n",
    "* um número de identificação do mouse \n",
    "* o tipo de defeito:\n",
    "* necessita da esfera;\n",
    "* necessita de limpeza; \n",
    "* a.necessita troca do cabo ou conector; \n",
    "* a.quebrado ou inutilizado Uma identificação igual a zero encerra o programa. \n",
    "\n",
    "Ao final o programa deverá emitir o seguinte relatório:"
   ]
  },
  {
   "cell_type": "code",
   "execution_count": 27,
   "id": "83440ba4",
   "metadata": {},
   "outputs": [],
   "source": [
    "# Quantidade de mouses: 100\n",
    "\n",
    "# Situação                        Quantidade              Percentual\n",
    "# 1- necessita da esfera                  40                     40%\n",
    "# 2- necessita de limpeza                 30                     30%\n",
    "# 3- necessita troca do cabo ou conector  15                     15%\n",
    "# 4- quebrado ou inutilizado              15                     15%"
   ]
  },
  {
   "cell_type": "code",
   "execution_count": 28,
   "id": "d152d5de",
   "metadata": {},
   "outputs": [
    {
     "name": "stdout",
     "output_type": "stream",
     "text": [
      "Qual a situação do Mouse:\n",
      "1 - Necessita da esfera\n",
      "2 - Necessita de limpeza\n",
      "3 - Necessita troca do cabo ou conector\n",
      "4 - Quebrado ou inutilizado.\n",
      "Qual a situação: 1\n"
     ]
    }
   ],
   "source": [
    "qtd_mouse = int(input('Quantos mouses pretende testar? '))\n",
    "mouses = []\n",
    "for mouse in range(qtd_mouse):\n",
    "    clear_output(wait=True)\n",
    "    try:\n",
    "        situacao = int(input('''Qual a situação do Mouse:\n",
    "1 - Necessita da esfera\n",
    "2 - Necessita de limpeza\n",
    "3 - Necessita troca do cabo ou conector\n",
    "4 - Quebrado ou inutilizado.\n",
    "Qual a situação: '''))\n",
    "        if situacao < 5 and situacao > 0:\n",
    "            mouses.append(situacao)\n",
    "        else:\n",
    "            print('Inválido')\n",
    "            break\n",
    "    except:\n",
    "        print('Inválido')\n",
    "        break\n",
    "    clear_output(wait=True)"
   ]
  },
  {
   "cell_type": "code",
   "execution_count": 29,
   "id": "f874c9dc",
   "metadata": {},
   "outputs": [],
   "source": [
    "situacoes = ['Necessita da esfera','Necessita de limpeza','Necessita troca do cabo ou conector','Quebrado ou inutilizado']\n",
    "qtd_situacoes = [mouses.count(opcao+1) for opcao in range(len(situacoes))]\n",
    "porcentagem = [f'{round((opcao*100)/qtd_mouse)} %' for opcao in qtd_situacoes]\n",
    "resultados = { \"Situação\":situacoes, \"Quantidade\":qtd_situacoes,\"Percentual\":porcentagem\n",
    "}\n",
    "df_22 = pd.DataFrame(data=resultados)"
   ]
  },
  {
   "cell_type": "code",
   "execution_count": 30,
   "id": "ddbabf67",
   "metadata": {},
   "outputs": [
    {
     "name": "stdout",
     "output_type": "stream",
     "text": [
      "Quantidade de Mouses testados 10\n"
     ]
    },
    {
     "data": {
      "text/html": [
       "<div>\n",
       "<style scoped>\n",
       "    .dataframe tbody tr th:only-of-type {\n",
       "        vertical-align: middle;\n",
       "    }\n",
       "\n",
       "    .dataframe tbody tr th {\n",
       "        vertical-align: top;\n",
       "    }\n",
       "\n",
       "    .dataframe thead th {\n",
       "        text-align: right;\n",
       "    }\n",
       "</style>\n",
       "<table border=\"1\" class=\"dataframe\">\n",
       "  <thead>\n",
       "    <tr style=\"text-align: right;\">\n",
       "      <th></th>\n",
       "      <th>Situação</th>\n",
       "      <th>Quantidade</th>\n",
       "      <th>Percentual</th>\n",
       "    </tr>\n",
       "  </thead>\n",
       "  <tbody>\n",
       "    <tr>\n",
       "      <th>0</th>\n",
       "      <td>Necessita da esfera</td>\n",
       "      <td>4</td>\n",
       "      <td>40 %</td>\n",
       "    </tr>\n",
       "    <tr>\n",
       "      <th>1</th>\n",
       "      <td>Necessita de limpeza</td>\n",
       "      <td>2</td>\n",
       "      <td>20 %</td>\n",
       "    </tr>\n",
       "    <tr>\n",
       "      <th>2</th>\n",
       "      <td>Necessita troca do cabo ou conector</td>\n",
       "      <td>3</td>\n",
       "      <td>30 %</td>\n",
       "    </tr>\n",
       "    <tr>\n",
       "      <th>3</th>\n",
       "      <td>Quebrado ou inutilizado</td>\n",
       "      <td>1</td>\n",
       "      <td>10 %</td>\n",
       "    </tr>\n",
       "  </tbody>\n",
       "</table>\n",
       "</div>"
      ],
      "text/plain": [
       "                              Situação  Quantidade Percentual\n",
       "0                  Necessita da esfera           4       40 %\n",
       "1                 Necessita de limpeza           2       20 %\n",
       "2  Necessita troca do cabo ou conector           3       30 %\n",
       "3              Quebrado ou inutilizado           1       10 %"
      ]
     },
     "execution_count": 30,
     "metadata": {},
     "output_type": "execute_result"
    }
   ],
   "source": [
    "print(f'Quantidade de Mouses testados {qtd_mouse}')\n",
    "df_22"
   ]
  },
  {
   "cell_type": "markdown",
   "id": "292d2adf",
   "metadata": {},
   "source": [
    "### 23. A ACME Inc., uma empresa de 500 funcionários, está tendo problemas de espaço em disco no seu servidor de arquivos. Para tentar resolver este problema, o Administrador de Rede precisa saber qual o espaço ocupado pelos usuários, e identificar os usuários com maior espaço ocupado. Através de um programa, baixado da Internet, ele conseguiu gerar o seguinte arquivo, chamado \"usuarios.txt\":"
   ]
  },
  {
   "cell_type": "markdown",
   "id": "3050086c",
   "metadata": {},
   "source": [
    "Neste arquivo, o nome do usuário possui 15 caracteres. A partir deste arquivo, você deve criar um programa que gere um relatório, chamado \"relatório.txt\", no seguinte formato:"
   ]
  },
  {
   "cell_type": "code",
   "execution_count": 31,
   "id": "a28e8046",
   "metadata": {},
   "outputs": [],
   "source": [
    "# ACME Inc.               Uso do espaço em disco pelos usuários\n",
    "# ------------------------------------------------------------------------\n",
    "# Nr.  Usuário        Espaço utilizado     % do uso\n",
    "\n",
    "# 1    alexandre       434,99 MB             16,85%\n",
    "# 2    anderson       1187,99 MB             46,02%\n",
    "# 3    antonio         117,73 MB              4,56%\n",
    "# 4    carlos           87,03 MB              3,37%\n",
    "# 5    cesar             0,94 MB              0,04%\n",
    "# 6    rosemary        752,88 MB             29,16%\n",
    "\n",
    "# Espaço total ocupado: 2581,57 MB\n",
    "# Espaço médio ocupado: 430,26 MB"
   ]
  },
  {
   "cell_type": "code",
   "execution_count": 32,
   "id": "3fe449a4",
   "metadata": {},
   "outputs": [],
   "source": [
    "with open(\"nomes.txt\",\"r\") as arquivo:\n",
    "    arq_nomes = arquivo.read()\n",
    "lista = arq_nomes.split('\\n')\n",
    "lista = [nome[:nome.find(',')] for nome in lista]"
   ]
  },
  {
   "cell_type": "code",
   "execution_count": 33,
   "id": "9d437705",
   "metadata": {},
   "outputs": [],
   "source": [
    "usuarios = random.randrange(10)\n",
    "espaco_utilizado = [float(random.randrange(1, 100000))/100 for contador in range(usuarios)]\n",
    "nomes, porcentagem = [],[]\n",
    "for linha in range(usuarios):\n",
    "    nomes.append(lista[linha])\n",
    "    porcentagem.append(f'{round((espaco_utilizado[linha]*100)/sum(espaco_utilizado),1)} %')\n",
    "espaco_utilizado_str = [f'{espaco} MB' for espaco in espaco_utilizado]"
   ]
  },
  {
   "cell_type": "code",
   "execution_count": 34,
   "id": "73e58298",
   "metadata": {},
   "outputs": [
    {
     "name": "stdout",
     "output_type": "stream",
     "text": [
      "Espaço total ocupado: 3922.39 MB\n",
      "Espaço médio ocupado: 435.82 MB\n"
     ]
    },
    {
     "data": {
      "text/html": [
       "<div>\n",
       "<style scoped>\n",
       "    .dataframe tbody tr th:only-of-type {\n",
       "        vertical-align: middle;\n",
       "    }\n",
       "\n",
       "    .dataframe tbody tr th {\n",
       "        vertical-align: top;\n",
       "    }\n",
       "\n",
       "    .dataframe thead th {\n",
       "        text-align: right;\n",
       "    }\n",
       "</style>\n",
       "<table border=\"1\" class=\"dataframe\">\n",
       "  <thead>\n",
       "    <tr style=\"text-align: right;\">\n",
       "      <th></th>\n",
       "      <th>Nome</th>\n",
       "      <th>Espaço Utilizado</th>\n",
       "      <th>% do uso</th>\n",
       "    </tr>\n",
       "  </thead>\n",
       "  <tbody>\n",
       "    <tr>\n",
       "      <th>0</th>\n",
       "      <td>Raul</td>\n",
       "      <td>524.78 MB</td>\n",
       "      <td>13.4 %</td>\n",
       "    </tr>\n",
       "    <tr>\n",
       "      <th>1</th>\n",
       "      <td>Cicero</td>\n",
       "      <td>415.98 MB</td>\n",
       "      <td>10.6 %</td>\n",
       "    </tr>\n",
       "    <tr>\n",
       "      <th>2</th>\n",
       "      <td>Luis Inacio</td>\n",
       "      <td>65.44 MB</td>\n",
       "      <td>1.7 %</td>\n",
       "    </tr>\n",
       "    <tr>\n",
       "      <th>3</th>\n",
       "      <td>Camoes</td>\n",
       "      <td>202.62 MB</td>\n",
       "      <td>5.2 %</td>\n",
       "    </tr>\n",
       "    <tr>\n",
       "      <th>4</th>\n",
       "      <td>Zebedeu</td>\n",
       "      <td>170.7 MB</td>\n",
       "      <td>4.4 %</td>\n",
       "    </tr>\n",
       "    <tr>\n",
       "      <th>5</th>\n",
       "      <td>Maria</td>\n",
       "      <td>688.04 MB</td>\n",
       "      <td>17.5 %</td>\n",
       "    </tr>\n",
       "    <tr>\n",
       "      <th>6</th>\n",
       "      <td>João</td>\n",
       "      <td>557.54 MB</td>\n",
       "      <td>14.2 %</td>\n",
       "    </tr>\n",
       "    <tr>\n",
       "      <th>7</th>\n",
       "      <td>Pedro</td>\n",
       "      <td>568.11 MB</td>\n",
       "      <td>14.5 %</td>\n",
       "    </tr>\n",
       "    <tr>\n",
       "      <th>8</th>\n",
       "      <td>Tiago</td>\n",
       "      <td>729.18 MB</td>\n",
       "      <td>18.6 %</td>\n",
       "    </tr>\n",
       "  </tbody>\n",
       "</table>\n",
       "</div>"
      ],
      "text/plain": [
       "          Nome Espaço Utilizado % do uso\n",
       "0         Raul        524.78 MB   13.4 %\n",
       "1       Cicero        415.98 MB   10.6 %\n",
       "2  Luis Inacio         65.44 MB    1.7 %\n",
       "3       Camoes        202.62 MB    5.2 %\n",
       "4      Zebedeu         170.7 MB    4.4 %\n",
       "5        Maria        688.04 MB   17.5 %\n",
       "6         João        557.54 MB   14.2 %\n",
       "7        Pedro        568.11 MB   14.5 %\n",
       "8        Tiago        729.18 MB   18.6 %"
      ]
     },
     "execution_count": 34,
     "metadata": {},
     "output_type": "execute_result"
    }
   ],
   "source": [
    "resultado = {\"Nome\":nomes,\"Espaço Utilizado\":espaco_utilizado_str,\"% do uso\":porcentagem}\n",
    "df_23 = pd.DataFrame(data=resultado)\n",
    "print(f'Espaço total ocupado: {round(sum(espaco_utilizado),2)} MB')\n",
    "print(f'Espaço médio ocupado: {round(sum(espaco_utilizado)/len(espaco_utilizado),2)} MB')\n",
    "df_23"
   ]
  },
  {
   "cell_type": "markdown",
   "id": "b7fcafae",
   "metadata": {},
   "source": [
    "### 24.Faça um programa que simule um lançamento de dados. Lance o dado 100 vezes e armazene os resultados em um vetor . Depois, mostre quantas vezes cada valor foi conseguido. Dica: use um vetor de contadores(1-6) e uma função para gerar numeros aleatórios, simulando os lançamentos dos dados."
   ]
  },
  {
   "cell_type": "code",
   "execution_count": 35,
   "id": "05d210bf",
   "metadata": {},
   "outputs": [],
   "source": [
    "resultados_lancamentos = []\n",
    "numero_dado = [1,2,3,4,5,6]\n",
    "lancamentos = [resultados_lancamentos.append(random.randint(1,6))for i in range(100)]\n",
    "count_dado = [resultados_lancamentos.count(lancamento) for lancamento in numero_dado]"
   ]
  },
  {
   "cell_type": "code",
   "execution_count": 36,
   "id": "e1f87b2d",
   "metadata": {},
   "outputs": [
    {
     "data": {
      "text/html": [
       "<div>\n",
       "<style scoped>\n",
       "    .dataframe tbody tr th:only-of-type {\n",
       "        vertical-align: middle;\n",
       "    }\n",
       "\n",
       "    .dataframe tbody tr th {\n",
       "        vertical-align: top;\n",
       "    }\n",
       "\n",
       "    .dataframe thead th {\n",
       "        text-align: right;\n",
       "    }\n",
       "</style>\n",
       "<table border=\"1\" class=\"dataframe\">\n",
       "  <thead>\n",
       "    <tr style=\"text-align: right;\">\n",
       "      <th></th>\n",
       "      <th>Dado Número</th>\n",
       "      <th>Rolou quantas vezes</th>\n",
       "    </tr>\n",
       "  </thead>\n",
       "  <tbody>\n",
       "    <tr>\n",
       "      <th>0</th>\n",
       "      <td>1</td>\n",
       "      <td>19</td>\n",
       "    </tr>\n",
       "    <tr>\n",
       "      <th>1</th>\n",
       "      <td>2</td>\n",
       "      <td>19</td>\n",
       "    </tr>\n",
       "    <tr>\n",
       "      <th>2</th>\n",
       "      <td>3</td>\n",
       "      <td>14</td>\n",
       "    </tr>\n",
       "    <tr>\n",
       "      <th>3</th>\n",
       "      <td>4</td>\n",
       "      <td>17</td>\n",
       "    </tr>\n",
       "    <tr>\n",
       "      <th>4</th>\n",
       "      <td>5</td>\n",
       "      <td>19</td>\n",
       "    </tr>\n",
       "    <tr>\n",
       "      <th>5</th>\n",
       "      <td>6</td>\n",
       "      <td>12</td>\n",
       "    </tr>\n",
       "  </tbody>\n",
       "</table>\n",
       "</div>"
      ],
      "text/plain": [
       "   Dado Número  Rolou quantas vezes\n",
       "0            1                   19\n",
       "1            2                   19\n",
       "2            3                   14\n",
       "3            4                   17\n",
       "4            5                   19\n",
       "5            6                   12"
      ]
     },
     "execution_count": 36,
     "metadata": {},
     "output_type": "execute_result"
    }
   ],
   "source": [
    "resultados = {\"Dado Número\": numero_dado,\"Rolou quantas vezes\":count_dado}\n",
    "df_24 = pd.DataFrame(data=resultados)\n",
    "df_24"
   ]
  }
 ],
 "metadata": {
  "kernelspec": {
   "display_name": "Python 3",
   "language": "python",
   "name": "python3"
  },
  "language_info": {
   "codemirror_mode": {
    "name": "ipython",
    "version": 3
   },
   "file_extension": ".py",
   "mimetype": "text/x-python",
   "name": "python",
   "nbconvert_exporter": "python",
   "pygments_lexer": "ipython3",
   "version": "3.8.8"
  }
 },
 "nbformat": 4,
 "nbformat_minor": 5
}
