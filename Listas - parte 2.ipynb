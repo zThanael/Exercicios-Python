{
 "cells": [
  {
   "cell_type": "code",
   "execution_count": 160,
   "id": "86bf8bf4",
   "metadata": {},
   "outputs": [],
   "source": [
    "from IPython.display import clear_output\n",
    "import pandas as pd"
   ]
  },
  {
   "cell_type": "markdown",
   "id": "9998fad9",
   "metadata": {},
   "source": [
    "### 18. Uma grande emissora de televisão quer fazer uma enquete entre os seus telespectadores para saber qual o melhor jogador após cada jogo. Para isto, faz-se necessário o desenvolvimento de um programa, que será utilizado pelas telefonistas, para a computação dos votos. Sua equipe foi contratada para desenvolver este programa, utilizando a linguagem de programação C++. Para computar cada voto, a telefonista digitará um número, entre 1 e 23, correspondente ao número da camisa do jogador. Um número de jogador igual zero, indica que a votação foi encerrada. Se um número inválido for digitado, o programa deve ignorá-lo, mostrando uma breve mensagem de aviso, e voltando a pedir outro número. Após o final da votação, o programa deverá exibir:\n",
    "<p> O total de votos computados; </p>\n",
    "<li>Os númeos e respectivos votos de todos os jogadores que receberam votos;</li>\n",
    "<li>O percentual de votos de cada um destes jogadores;</li>\n",
    "<li>O número do jogador escolhido como o melhor jogador da partida, juntamente com o número de votos e o percentual de votos dados a ele.</li>\n",
    "Observe que os votos inválidos e o zero final não devem ser computados como votos. O resultado aparece ordenado pelo número do jogador. O programa deve fazer uso de arrays. O programa deverá executar o cálculo do percentual de cada jogador através de uma função. Esta função receberá dois parâmetros: o número de votos de um jogador e o total de votos. A função calculará o percentual e retornará o valor calculado. Abaixo segue uma tela de exemplo. O disposição das informações deve ser o mais próxima possível ao exemplo. Os dados são fictícios e podem mudar a cada execução do programa. Ao final, o programa deve ainda gravar os dados referentes ao resultado da votação em um arquivo texto no disco, obedecendo a mesma disposição apresentada na tela."
   ]
  },
  {
   "cell_type": "code",
   "execution_count": null,
   "id": "c67ac483",
   "metadata": {},
   "outputs": [],
   "source": [
    "# Enquete: Quem foi o melhor jogador?\n",
    "\n",
    "# Número do jogador (0=fim): 9\n",
    "# Número do jogador (0=fim): 10\n",
    "# Número do jogador (0=fim): 9\n",
    "# Número do jogador (0=fim): 10\n",
    "# Número do jogador (0=fim): 11\n",
    "# Número do jogador (0=fim): 10\n",
    "# Número do jogador (0=fim): 50\n",
    "# Informe um valor entre 1 e 23 ou 0 para sair!\n",
    "# Número do jogador (0=fim): 9\n",
    "# Número do jogador (0=fim): 9\n",
    "# Número do jogador (0=fim): 0\n",
    "\n",
    "# Resultado da votação:\n",
    "\n",
    "# Foram computados 8 votos.\n",
    "\n",
    "# Jogador Votos           %\n",
    "# 9               4               50,0%\n",
    "# 10              3               37,5%\n",
    "# 11              1               12,5%\n",
    "# O melhor jogador foi o número 9, com 4 votos, correspondendo a 50% do total de votos."
   ]
  },
  {
   "cell_type": "code",
   "execution_count": 4,
   "id": "95356070",
   "metadata": {},
   "outputs": [
    {
     "name": "stdout",
     "output_type": "stream",
     "text": [
      "Número do jogador (0=fim):0\n"
     ]
    }
   ],
   "source": [
    "lista_votos = []\n",
    "print('Enquete: Quem foi o melhor jogador?')\n",
    "while True:\n",
    "    try:\n",
    "        voto = int(input('Número do jogador (0=fim):'))\n",
    "    except:\n",
    "        print('Informe um valor entre 1 e 23 ou 0 para sair!')\n",
    "    if voto > 0 and voto <= 23:\n",
    "        lista_votos.append(voto)\n",
    "    elif voto == 0:\n",
    "        break\n",
    "    else: \n",
    "        print('Informe um valor entre 1 e 23 ou 0 para sair!')\n",
    "    clear_output(wait=True)\n"
   ]
  },
  {
   "cell_type": "code",
   "execution_count": null,
   "id": "798f4805",
   "metadata": {},
   "outputs": [],
   "source": [
    "def contagem_votos(lista_votos):\n",
    "    set_votos = set(lista_votos)\n",
    "    dict_votos = {}\n",
    "    for voto in set_votos:\n",
    "        dict_votos[voto] = lista_votos.count(voto)\n",
    "    return dict_votos"
   ]
  },
  {
   "cell_type": "code",
   "execution_count": null,
   "id": "800ab2f0",
   "metadata": {},
   "outputs": [],
   "source": [
    "dict_votos = contagem_votos(lista_votos)\n",
    "print('Jogador     Votos    Porcentagem')\n",
    "teste = [print(key,'  =         ', value, '     ', round((value*100)/len(lista_votos),1),'%') for key,value in dict_votos.items()]"
   ]
  },
  {
   "cell_type": "code",
   "execution_count": null,
   "id": "39355c67",
   "metadata": {},
   "outputs": [],
   "source": [
    "porcentagem = (max(dict_votos.values())*100)/sum(dict_votos.values())"
   ]
  },
  {
   "cell_type": "code",
   "execution_count": null,
   "id": "6efa97a9",
   "metadata": {},
   "outputs": [],
   "source": [
    "print(f'''O Jogador mais votado foi o Jogador {max(dict_votos, key=dict_votos.get)} com um total de {max(dict_votos.values())} votos\n",
    "Correspondendo a {porcentagem:.0f}% dos votos''')"
   ]
  },
  {
   "cell_type": "markdown",
   "id": "1ca02884",
   "metadata": {},
   "source": [
    "### 19. Uma empresa de pesquisas precisa tabular os resultados da seguinte enquete feita a uma grande quantidade de organizações."
   ]
  },
  {
   "cell_type": "code",
   "execution_count": 92,
   "id": "5290bd79",
   "metadata": {},
   "outputs": [],
   "source": [
    "# \"Qual o melhor Sistema Operacional para uso em servidores?\"\n",
    "\n",
    "# As possíveis respostas são:\n",
    "\n",
    "# 1- Windows Server\n",
    "# 2- Unix\n",
    "# 3- Linux\n",
    "# 4- Netware\n",
    "# 5- Mac OS\n",
    "# 6- Outro"
   ]
  },
  {
   "cell_type": "markdown",
   "id": "45f652c2",
   "metadata": {},
   "source": [
    "Você foi contratado para desenvolver um programa que leia o resultado da enquete e informe ao final o resultado da mesma. O programa deverá ler os valores até ser informado o valor 0, que encerra a entrada dos dados. Não deverão ser aceitos valores além dos válidos para o programa (0 a 6). Os valores referentes a cada uma das opções devem ser armazenados num vetor. Após os dados terem sido completamente informados, o programa deverá calcular a percentual de cada um dos concorrentes e informar o vencedor da enquete. O formato da saída foi dado pela empresa, e é o seguinte:"
   ]
  },
  {
   "cell_type": "code",
   "execution_count": 93,
   "id": "780aeeea",
   "metadata": {},
   "outputs": [],
   "source": [
    "# Sistema Operacional     Votos   %\n",
    "# -------------------     -----   ---\n",
    "# Windows Server           1500   17%\n",
    "# Unix                     3500   40%\n",
    "# Linux                    3000   34%\n",
    "# Netware                   500    5%\n",
    "# Mac OS                    150    2%\n",
    "# Outro                     150    2%\n",
    "# -------------------     -----\n",
    "# Total                    8800\n",
    "\n",
    "# O Sistema Operacional mais votado foi o Unix, com 3500 votos, correspondendo a 40% dos votos."
   ]
  },
  {
   "cell_type": "code",
   "execution_count": 195,
   "id": "18d82691",
   "metadata": {},
   "outputs": [
    {
     "name": "stdout",
     "output_type": "stream",
     "text": [
      "Escolha de Sistema Operacional.\n",
      "1 - Windows Server\n",
      "2 - Unix\n",
      "3 - Linux\n",
      "4 - Netware \n",
      "5 - Mac OS\n",
      "6 - Outro\n",
      "0 - Finalizar a votação\n",
      "Qual seu voto: 56\n"
     ]
    }
   ],
   "source": [
    "### Captação dos dados\n",
    "votos = []\n",
    "while True:\n",
    "    clear_output(wait=True)\n",
    "    try:\n",
    "        resp = int(input('''Escolha de Sistema Operacional.\n",
    "1 - Windows Server\n",
    "2 - Unix\n",
    "3 - Linux\n",
    "4 - Netware \n",
    "5 - Mac OS\n",
    "6 - Outro\n",
    "0 - Finalizar a votação\n",
    "Qual seu voto: '''))\n",
    "        if resp < 7 and resp > 0:\n",
    "            votos.append(resp)\n",
    "        else:\n",
    "            break\n",
    "    except:\n",
    "        print('Valor inválido')\n",
    "        break\n",
    "    clear_output(wait=True)"
   ]
  },
  {
   "cell_type": "code",
   "execution_count": 196,
   "id": "92f61fd6",
   "metadata": {},
   "outputs": [],
   "source": [
    "#### Criar as values para o dict resultado\n",
    "candidatos = list(eleicao.keys())\n",
    "votos = list(eleicao.values())\n",
    "def pegar_porcentagem (votos):\n",
    "    porcentagem = []\n",
    "    total_votos = sum(votos)\n",
    "    for voto in votos:\n",
    "        porcento = f\"{round((voto*100)/total_votos)} %\"\n",
    "        porcentagem.append(porcento)\n",
    "    return porcentagem"
   ]
  },
  {
   "cell_type": "code",
   "execution_count": 197,
   "id": "6ab9263d",
   "metadata": {},
   "outputs": [],
   "source": [
    "#Criar um dicionario com todos os valores\n",
    "resultados = {\"Candidatos\":candidatos,\"Votos\":votos,\"Porcentagem\":pegar_porcentagem(votos)}\n",
    "#Criar a tabela dos resultados\n",
    "df = pd.DataFrame(data=resultados)"
   ]
  },
  {
   "cell_type": "code",
   "execution_count": 198,
   "id": "61c74713",
   "metadata": {},
   "outputs": [],
   "source": [
    "# Sistema Operacional     Votos   %\n",
    "# -------------------     -----   ---\n",
    "# Windows Server           1500   17%\n",
    "# Unix                     3500   40%\n",
    "# Linux                    3000   34%\n",
    "# Netware                   500    5%\n",
    "# Mac OS                    150    2%\n",
    "# Outro                     150    2%\n",
    "# -------------------     -----\n",
    "# Total                    8800\n",
    "\n",
    "# O Sistema Operacional mais votado foi o Unix, com 3500 votos, correspondendo a 40% dos votos."
   ]
  },
  {
   "cell_type": "code",
   "execution_count": 199,
   "id": "e6e1c1a3",
   "metadata": {},
   "outputs": [
    {
     "data": {
      "text/html": [
       "<div>\n",
       "<style scoped>\n",
       "    .dataframe tbody tr th:only-of-type {\n",
       "        vertical-align: middle;\n",
       "    }\n",
       "\n",
       "    .dataframe tbody tr th {\n",
       "        vertical-align: top;\n",
       "    }\n",
       "\n",
       "    .dataframe thead th {\n",
       "        text-align: right;\n",
       "    }\n",
       "</style>\n",
       "<table border=\"1\" class=\"dataframe\">\n",
       "  <thead>\n",
       "    <tr style=\"text-align: right;\">\n",
       "      <th></th>\n",
       "      <th>Candidatos</th>\n",
       "      <th>Votos</th>\n",
       "      <th>Porcentagem</th>\n",
       "    </tr>\n",
       "  </thead>\n",
       "  <tbody>\n",
       "    <tr>\n",
       "      <th>0</th>\n",
       "      <td>Windows Server</td>\n",
       "      <td>7</td>\n",
       "      <td>17 %</td>\n",
       "    </tr>\n",
       "    <tr>\n",
       "      <th>1</th>\n",
       "      <td>Unix</td>\n",
       "      <td>5</td>\n",
       "      <td>12 %</td>\n",
       "    </tr>\n",
       "    <tr>\n",
       "      <th>2</th>\n",
       "      <td>Linux</td>\n",
       "      <td>5</td>\n",
       "      <td>12 %</td>\n",
       "    </tr>\n",
       "    <tr>\n",
       "      <th>3</th>\n",
       "      <td>Netware</td>\n",
       "      <td>8</td>\n",
       "      <td>20 %</td>\n",
       "    </tr>\n",
       "    <tr>\n",
       "      <th>4</th>\n",
       "      <td>Mac OS</td>\n",
       "      <td>10</td>\n",
       "      <td>24 %</td>\n",
       "    </tr>\n",
       "    <tr>\n",
       "      <th>5</th>\n",
       "      <td>Outro</td>\n",
       "      <td>6</td>\n",
       "      <td>15 %</td>\n",
       "    </tr>\n",
       "  </tbody>\n",
       "</table>\n",
       "</div>"
      ],
      "text/plain": [
       "       Candidatos  Votos Porcentagem\n",
       "0  Windows Server      7        17 %\n",
       "1            Unix      5        12 %\n",
       "2           Linux      5        12 %\n",
       "3         Netware      8        20 %\n",
       "4          Mac OS     10        24 %\n",
       "5           Outro      6        15 %"
      ]
     },
     "execution_count": 199,
     "metadata": {},
     "output_type": "execute_result"
    }
   ],
   "source": [
    "df"
   ]
  },
  {
   "cell_type": "markdown",
   "id": "5492e76e",
   "metadata": {},
   "source": [
    "### 20.  As Organizações Tabajara resolveram dar um abono aos seus colaboradores em reconhecimento ao bom resultado alcançado durante o ano que passou. Para isto contratou você para desenvolver a aplicação que servirá como uma projeção de quanto será gasto com o pagamento deste abono.\n",
    "Após reuniões envolvendo a diretoria executiva, a diretoria financeira e os representantes do sindicato laboral, chegou-se a seguinte forma de cálculo:\n",
    "* **a** .Cada funcionário receberá o equivalente a **20%** do seu salário bruto de dezembro; \n",
    "* **a** .O piso do abono será de 100 reais, isto é, aqueles funcionários cujo salário for muito baixo, recebem este valor mínimo; \n",
    "Neste momento, não se deve ter nenhuma preocupação com colaboradores com tempo menor de casa, descontos, impostos ou outras particularidades. \n",
    "> Seu programa deverá permitir a digitação do salário de um número indefinido (desconhecido) de salários. Um valor de salário igual a 0 (zero) encerra a digitação. Após a entrada de todos os dados o programa deverá calcular o valor do abono concedido a cada colaborador, de acordo com a regra definida acima. Ao final, o programa deverá apresentar:\n",
    ">> * O salário de cada funcionário, juntamente com o valor do abono; \n",
    ">> * O número total de funcionário processados;\n",
    ">> * O valor total a ser gasto com o pagamento do abono;\n",
    ">> * O número de funcionário que receberá o valor mínimo de 100 reais;\n",
    ">> * O maior valor pago como abono; A tela abaixo é um exemplo de execução do programa, apenas para fins ilustrativos. Os valores podem mudar a cada execução do programa."
   ]
  },
  {
   "cell_type": "code",
   "execution_count": 212,
   "id": "8b7cb8d6",
   "metadata": {},
   "outputs": [],
   "source": [
    "# Projeção de Gastos com Abono\n",
    "# ============================ \n",
    " \n",
    "# Salário: 1000\n",
    "# Salário: 300\n",
    "# Salário: 500\n",
    "# Salário: 100\n",
    "# Salário: 4500\n",
    "# Salário: 0\n",
    " \n",
    "# Salário    - Abono     \n",
    "# R$ 1000.00 - R$  200.00\n",
    "# R$  300.00 - R$  100.00\n",
    "# R$  500.00 - R$  100.00\n",
    "# R$  100.00 - R$  100.00\n",
    "# R$ 4500.00 - R$  900.00\n",
    " \n",
    "# Foram processados 5 colaboradores\n",
    "# Total gasto com abonos: R$ 1400.00\n",
    "# Valor mínimo pago a 3 colaboradores\n",
    "# Maior valor de abono pago: R$ 900.00"
   ]
  },
  {
   "cell_type": "code",
   "execution_count": 213,
   "id": "7c4212bb",
   "metadata": {},
   "outputs": [
    {
     "name": "stdout",
     "output_type": "stream",
     "text": [
      "Digite seu Salário referente ao mês de Dezembro ou Digite 0 para sair \n",
      "Salario: R$ 0\n",
      "Obrigado por utilizar o nosso sistema\n"
     ]
    }
   ],
   "source": [
    "#Captação dos Salários\n",
    "salarios = []\n",
    "while True:\n",
    "    try:\n",
    "        salario = int(input(\"Digite seu Salário referente ao mês de Dezembro ou Digite 0 para sair \\nSalario: R$ \"))\n",
    "        if salario == 0:\n",
    "            print('Obrigado por utilizar o nosso sistema')\n",
    "            break\n",
    "        else:\n",
    "            salarios.append(salario)\n",
    "    except:\n",
    "        print('Valor Inválido')\n",
    "        break\n",
    "    finally:\n",
    "        clear_output(wait=True)    "
   ]
  },
  {
   "cell_type": "code",
   "execution_count": 214,
   "id": "0eb9200e",
   "metadata": {},
   "outputs": [],
   "source": [
    "#Criar uma lista com os abonos\n",
    "abonos = [salario*0.2 if salario * 0.2 > 100 else 100 for salario in salarios]\n",
    "abonos = list(map(round,abonos))"
   ]
  },
  {
   "cell_type": "code",
   "execution_count": 216,
   "id": "d0a26a38",
   "metadata": {},
   "outputs": [],
   "source": [
    "#Criar os resultados e uma tabela\n",
    "resultados = {\"Salarios R$\":salarios,\"Abono R$\": abonos}\n",
    "df_20 = pd.DataFrame(data = resultados)"
   ]
  },
  {
   "cell_type": "code",
   "execution_count": 217,
   "id": "b457bc89",
   "metadata": {},
   "outputs": [
    {
     "data": {
      "text/html": [
       "<div>\n",
       "<style scoped>\n",
       "    .dataframe tbody tr th:only-of-type {\n",
       "        vertical-align: middle;\n",
       "    }\n",
       "\n",
       "    .dataframe tbody tr th {\n",
       "        vertical-align: top;\n",
       "    }\n",
       "\n",
       "    .dataframe thead th {\n",
       "        text-align: right;\n",
       "    }\n",
       "</style>\n",
       "<table border=\"1\" class=\"dataframe\">\n",
       "  <thead>\n",
       "    <tr style=\"text-align: right;\">\n",
       "      <th></th>\n",
       "      <th>Salarios R$</th>\n",
       "      <th>Abono R$</th>\n",
       "    </tr>\n",
       "  </thead>\n",
       "  <tbody>\n",
       "    <tr>\n",
       "      <th>0</th>\n",
       "      <td>1500</td>\n",
       "      <td>300</td>\n",
       "    </tr>\n",
       "    <tr>\n",
       "      <th>1</th>\n",
       "      <td>170</td>\n",
       "      <td>100</td>\n",
       "    </tr>\n",
       "    <tr>\n",
       "      <th>2</th>\n",
       "      <td>250</td>\n",
       "      <td>100</td>\n",
       "    </tr>\n",
       "    <tr>\n",
       "      <th>3</th>\n",
       "      <td>3660</td>\n",
       "      <td>732</td>\n",
       "    </tr>\n",
       "    <tr>\n",
       "      <th>4</th>\n",
       "      <td>550</td>\n",
       "      <td>110</td>\n",
       "    </tr>\n",
       "    <tr>\n",
       "      <th>5</th>\n",
       "      <td>455</td>\n",
       "      <td>100</td>\n",
       "    </tr>\n",
       "    <tr>\n",
       "      <th>6</th>\n",
       "      <td>7500</td>\n",
       "      <td>1500</td>\n",
       "    </tr>\n",
       "    <tr>\n",
       "      <th>7</th>\n",
       "      <td>3500</td>\n",
       "      <td>700</td>\n",
       "    </tr>\n",
       "    <tr>\n",
       "      <th>8</th>\n",
       "      <td>2500</td>\n",
       "      <td>500</td>\n",
       "    </tr>\n",
       "  </tbody>\n",
       "</table>\n",
       "</div>"
      ],
      "text/plain": [
       "   Salarios R$  Abono R$\n",
       "0         1500       300\n",
       "1          170       100\n",
       "2          250       100\n",
       "3         3660       732\n",
       "4          550       110\n",
       "5          455       100\n",
       "6         7500      1500\n",
       "7         3500       700\n",
       "8         2500       500"
      ]
     },
     "execution_count": 217,
     "metadata": {},
     "output_type": "execute_result"
    }
   ],
   "source": [
    "df_20"
   ]
  },
  {
   "cell_type": "code",
   "execution_count": 218,
   "id": "3b40eaa5",
   "metadata": {},
   "outputs": [
    {
     "name": "stdout",
     "output_type": "stream",
     "text": [
      "Foram processados 9 Colaboradores\n",
      "Total gasto com abonos: R$ 4142\n",
      "Valor Mínimo pago a 3\n",
      "Maior valor de abono pago: R$ 1500\n"
     ]
    }
   ],
   "source": [
    "print(f'''Foram processados {len(salarios)} Colaboradores\n",
    "Total gasto com abonos: R$ {sum(abonos)}\n",
    "Valor Mínimo pago a {abonos.count(100)}\n",
    "Maior valor de abono pago: R$ {max(abonos)}''')"
   ]
  },
  {
   "cell_type": "code",
   "execution_count": null,
   "id": "e1ff5728",
   "metadata": {},
   "outputs": [],
   "source": []
  },
  {
   "cell_type": "code",
   "execution_count": null,
   "id": "70033895",
   "metadata": {},
   "outputs": [],
   "source": []
  }
 ],
 "metadata": {
  "kernelspec": {
   "display_name": "Python 3",
   "language": "python",
   "name": "python3"
  },
  "language_info": {
   "codemirror_mode": {
    "name": "ipython",
    "version": 3
   },
   "file_extension": ".py",
   "mimetype": "text/x-python",
   "name": "python",
   "nbconvert_exporter": "python",
   "pygments_lexer": "ipython3",
   "version": "3.8.8"
  }
 },
 "nbformat": 4,
 "nbformat_minor": 5
}
