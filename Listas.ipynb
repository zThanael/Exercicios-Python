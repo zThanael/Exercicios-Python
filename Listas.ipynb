{
 "cells": [
  {
   "cell_type": "markdown",
   "metadata": {},
   "source": [
    "<h1> Repositório criado para treinar listas no python</h1>\n",
    "<h4 align='right'> Exercícios disponíveis  em <a href='https://wiki.python.org.br/ExerciciosListas'>python brasil </a> </h4>\n",
    "<hr>"
   ]
  },
  {
   "cell_type": "code",
   "execution_count": 4,
   "metadata": {},
   "outputs": [],
   "source": [
    "from IPython.display import clear_output #para limpar as saidas "
   ]
  },
  {
   "cell_type": "markdown",
   "metadata": {},
   "source": [
    "### 1. Faça um Programa que leia um vetor de 5 números inteiros e mostre-os."
   ]
  },
  {
   "cell_type": "code",
   "execution_count": 5,
   "metadata": {},
   "outputs": [
    {
     "name": "stdout",
     "output_type": "stream",
     "text": [
      "[1, 2, 3, 4, 5]\n"
     ]
    }
   ],
   "source": [
    "vetor = [1,2,3,4,5]\n",
    "print(vetor)"
   ]
  },
  {
   "cell_type": "markdown",
   "metadata": {},
   "source": [
    "### 2. Faça um Programa que leia um vetor de 10 números reais e mostre-os na ordem inversa."
   ]
  },
  {
   "cell_type": "code",
   "execution_count": 10,
   "metadata": {},
   "outputs": [
    {
     "name": "stdout",
     "output_type": "stream",
     "text": [
      "[10, 9, 8, 7, 6, 5, 4, 3, 2, 1]\n"
     ]
    }
   ],
   "source": [
    "vetor = [i for i in range(1,11)] # mesmo que vetor = [1,2,3,4,5,6,7,8,9,10]\n",
    "print(vetor[::-1])"
   ]
  },
  {
   "cell_type": "markdown",
   "metadata": {},
   "source": [
    "### 3. Faça um Programa que leia 4 notas, mostre as notas e a média na tela."
   ]
  },
  {
   "cell_type": "code",
   "execution_count": 14,
   "metadata": {},
   "outputs": [
    {
     "name": "stdout",
     "output_type": "stream",
     "text": [
      "0° Nota é 9.5\n",
      "1° Nota é 8.7\n",
      "2° Nota é 7.9\n",
      "3° Nota é 10.0\n",
      "\n",
      "A media das notas é 9.025\n"
     ]
    }
   ],
   "source": [
    "notas = [float(input(f'Digite a {nota+1}° nota: ')) for nota in range(4)]\n",
    "clear_output(wait=True)\n",
    "printar = [print(f'{contador}° Nota é {notas[contador]}') for contador in range(len(notas))]\n",
    "print(f'\\nA media das notas é {sum(notas)/len(notas):.2f}')"
   ]
  },
  {
   "cell_type": "markdown",
   "metadata": {},
   "source": [
    "### 4. Faça um Programa que leia um vetor de 10 caracteres, e diga quantas consoantes foram lidas. Imprima as consoantes."
   ]
  },
  {
   "cell_type": "code",
   "execution_count": 30,
   "metadata": {},
   "outputs": [
    {
     "name": "stdout",
     "output_type": "stream",
     "text": [
      "Existem 7 Sendo elas:  ['b', 'c', 'd', 'f', 'g', 'h', 'j']\n"
     ]
    }
   ],
   "source": [
    "letras_vogais = ['a','e','i','o','u']\n",
    "vogais, consoantes = [],[]\n",
    "letras = [input('Digite um caractere ')for letra in range(10)]\n",
    "clear_output(wait=True)\n",
    "controle = [vogais.append(letras[index]) if letras[index] in letras_vogais else consoantes.append(letras[index]) for index in range(len(letras))]\n",
    "print(f'Existem {len(consoantes)} Sendo elas: ', consoantes)"
   ]
  },
  {
   "cell_type": "markdown",
   "metadata": {},
   "source": [
    "### 5. Faça um Programa que leia 20 números inteiros e armazene-os num vetor. Armazene os números pares no vetor PAR e os números IMPARES no vetor impar. Imprima os três vetores."
   ]
  },
  {
   "cell_type": "code",
   "execution_count": 99,
   "metadata": {},
   "outputs": [
    {
     "name": "stdout",
     "output_type": "stream",
     "text": [
      "\n",
      "Os numeros digitador foram [1, 2, 3, 4, 5, 6, 7, 8, 9, 1, 2, 3, 4, 5, 6, 7, 8, 9, 10, 20]\n",
      "Os pares são [2, 4, 6, 8, 2, 4, 6, 8, 10, 20]\n",
      "Os impares são [1, 3, 5, 7, 9, 1, 3, 5, 7, 9]\n",
      "\n"
     ]
    }
   ],
   "source": [
    "# numeros = [int(input(f'Digite o {contador +1 }° número: ')) for contador in range(20)]\n",
    "clear_output(wait=True)\n",
    "pares, impares = [],[]\n",
    "formula = lambda num: pares.append(num) if num % 2 == 0 else impares.append(num)\n",
    "operacao = list(map(formula,(numeros))) #Lembra de colocar o list(map(func,(array))) para retornar os valores numa lista\n",
    "print(f'''\n",
    "Os numeros digitador foram {numeros}\n",
    "Os pares são {pares}\n",
    "Os impares são {impares}\n",
    "''')"
   ]
  },
  {
   "cell_type": "markdown",
   "metadata": {},
   "source": [
    "### 6. Faça um Programa que peça as quatro notas de 10 alunos, calcule e armazene num vetor a média de cada aluno, imprima o número de alunos com média maior ou igual a 7.0."
   ]
  },
  {
   "cell_type": "code",
   "execution_count": 132,
   "metadata": {},
   "outputs": [
    {
     "name": "stdout",
     "output_type": "stream",
     "text": [
      "Digite a 1° nota: 5\n",
      "Digite a 2° nota: 4\n",
      "Digite a 3° nota: 7\n",
      "Digite a 4° nota: 5\n"
     ]
    }
   ],
   "source": [
    "alunos, medias = [],[]\n",
    "alunos_10 = [alunos.append([]) for i in range(10)]\n",
    "for aluno in alunos:\n",
    "    for nota in range(4):\n",
    "        aluno.append(int(input(f'Digite a {nota+1}° nota: ')))\n",
    "    clear_output(wait=True)"
   ]
  },
  {
   "cell_type": "code",
   "execution_count": 173,
   "metadata": {},
   "outputs": [
    {
     "name": "stdout",
     "output_type": "stream",
     "text": [
      "7 Alunos tiraram notas acima de 7\n"
     ]
    }
   ],
   "source": [
    "def media_func(lista_notas): #Função para atribuir a media \n",
    "    media = sum(lista_notas)/len(lista_notas)\n",
    "    return medias.append(media)\n",
    "medias = []\n",
    "operacao = [media_func(aluno) for aluno in alunos]\n",
    "medias_maiores = 0\n",
    "for media in medias:\n",
    "    if media >= 7:\n",
    "        medias_maiores += 1\n",
    "print(f'{medias_maiores} Alunos tiraram notas acima de 7')"
   ]
  },
  {
   "cell_type": "markdown",
   "metadata": {},
   "source": [
    "### 7.  Faça um Programa que leia um vetor de 5 números inteiros, mostre a soma, a multiplicação e os números."
   ]
  },
  {
   "cell_type": "code",
   "execution_count": 182,
   "metadata": {},
   "outputs": [
    {
     "name": "stdout",
     "output_type": "stream",
     "text": [
      "Digite o 1° Número: 10\n",
      "Digite o 2° Número: 20\n",
      "Digite o 3° Número: 30\n",
      "Digite o 4° Número: 40\n",
      "Digite o 5° Número: 50\n",
      "\n",
      "A Soma dos Números: 150\n",
      "A multiplicação dos Números: 12000000\n",
      "Os Números adicionados são [10, 20, 30, 40, 50]\n",
      "\n"
     ]
    }
   ],
   "source": [
    "from numpy import prod #prod faz a multiplicação de todos os valores da lista\n",
    "vetor = [int(input(f'Digite o {valor+1}° Número: ')) for valor in range(5)]\n",
    "print(f'''\n",
    "A Soma dos Números: {sum(vetor)}\n",
    "A multiplicação dos Números: {prod(vetor)}\n",
    "Os Números adicionados são {vetor}\n",
    "''')"
   ]
  },
  {
   "cell_type": "code",
   "execution_count": null,
   "metadata": {},
   "outputs": [],
   "source": []
  }
 ],
 "metadata": {
  "kernelspec": {
   "display_name": "Python 3.9.2 64-bit",
   "name": "python392jvsc74a57bd0e8debd8d0351024f6e7f0c1bdaaceddad59c9c8855ad198125328903e82824ed"
  },
  "language_info": {
   "codemirror_mode": {
    "name": "ipython",
    "version": 3
   },
   "file_extension": ".py",
   "mimetype": "text/x-python",
   "name": "python",
   "nbconvert_exporter": "python",
   "pygments_lexer": "ipython3",
   "version": "3.9.2"
  }
 },
 "nbformat": 4,
 "nbformat_minor": 2
}
