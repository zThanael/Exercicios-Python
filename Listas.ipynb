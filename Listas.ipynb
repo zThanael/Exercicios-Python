{
 "cells": [
  {
   "cell_type": "markdown",
   "metadata": {},
   "source": [
    "<h1> Repositório criado para treinar listas no python</h1>\n",
    "<h4 align='right'> Exercícios disponíveis  em <a href='https://wiki.python.org.br/ExerciciosListas'>python brasil </a> </h4>\n",
    "<hr>"
   ]
  },
  {
   "cell_type": "code",
   "execution_count": 1,
   "metadata": {},
   "outputs": [],
   "source": [
    "from IPython.display import clear_output #para limpar as saidas\n",
    "import random"
   ]
  },
  {
   "cell_type": "markdown",
   "metadata": {},
   "source": [
    "### 1. Faça um Programa que leia um vetor de 5 números inteiros e mostre-os."
   ]
  },
  {
   "cell_type": "code",
   "execution_count": 5,
   "metadata": {},
   "outputs": [
    {
     "name": "stdout",
     "output_type": "stream",
     "text": [
      "[1, 2, 3, 4, 5]\n"
     ]
    }
   ],
   "source": [
    "vetor = [1,2,3,4,5]\n",
    "print(vetor)"
   ]
  },
  {
   "cell_type": "markdown",
   "metadata": {},
   "source": [
    "### 2. Faça um Programa que leia um vetor de 10 números reais e mostre-os na ordem inversa."
   ]
  },
  {
   "cell_type": "code",
   "execution_count": 10,
   "metadata": {},
   "outputs": [
    {
     "name": "stdout",
     "output_type": "stream",
     "text": [
      "[10, 9, 8, 7, 6, 5, 4, 3, 2, 1]\n"
     ]
    }
   ],
   "source": [
    "vetor = [i for i in range(1,11)] # mesmo que vetor = [1,2,3,4,5,6,7,8,9,10]\n",
    "print(vetor[::-1])"
   ]
  },
  {
   "cell_type": "markdown",
   "metadata": {},
   "source": [
    "### 3. Faça um Programa que leia 4 notas, mostre as notas e a média na tela."
   ]
  },
  {
   "cell_type": "code",
   "execution_count": 14,
   "metadata": {},
   "outputs": [
    {
     "name": "stdout",
     "output_type": "stream",
     "text": [
      "0° Nota é 9.5\n",
      "1° Nota é 8.7\n",
      "2° Nota é 7.9\n",
      "3° Nota é 10.0\n",
      "\n",
      "A media das notas é 9.025\n"
     ]
    }
   ],
   "source": [
    "notas = [float(input(f'Digite a {nota+1}° nota: ')) for nota in range(4)]\n",
    "clear_output(wait=True)\n",
    "printar = [print(f'{contador}° Nota é {notas[contador]}') for contador in range(len(notas))]\n",
    "print(f'\\nA media das notas é {sum(notas)/len(notas):.2f}')"
   ]
  },
  {
   "cell_type": "markdown",
   "metadata": {},
   "source": [
    "### 4. Faça um Programa que leia um vetor de 10 caracteres, e diga quantas consoantes foram lidas. Imprima as consoantes."
   ]
  },
  {
   "cell_type": "code",
   "execution_count": 30,
   "metadata": {},
   "outputs": [
    {
     "name": "stdout",
     "output_type": "stream",
     "text": [
      "Existem 7 Sendo elas:  ['b', 'c', 'd', 'f', 'g', 'h', 'j']\n"
     ]
    }
   ],
   "source": [
    "letras_vogais = ['a','e','i','o','u']\n",
    "vogais, consoantes = [],[]\n",
    "letras = [input('Digite um caractere ')for letra in range(10)]\n",
    "clear_output(wait=True)\n",
    "controle = [vogais.append(letras[index]) if letras[index] in letras_vogais else consoantes.append(letras[index]) for index in range(len(letras))]\n",
    "print(f'Existem {len(consoantes)} Sendo elas: ', consoantes)"
   ]
  },
  {
   "cell_type": "markdown",
   "metadata": {},
   "source": [
    "### 5. Faça um Programa que leia 20 números inteiros e armazene-os num vetor. Armazene os números pares no vetor PAR e os números IMPARES no vetor impar. Imprima os três vetores."
   ]
  },
  {
   "cell_type": "code",
   "execution_count": 99,
   "metadata": {},
   "outputs": [
    {
     "name": "stdout",
     "output_type": "stream",
     "text": [
      "\n",
      "Os numeros digitador foram [1, 2, 3, 4, 5, 6, 7, 8, 9, 1, 2, 3, 4, 5, 6, 7, 8, 9, 10, 20]\n",
      "Os pares são [2, 4, 6, 8, 2, 4, 6, 8, 10, 20]\n",
      "Os impares são [1, 3, 5, 7, 9, 1, 3, 5, 7, 9]\n",
      "\n"
     ]
    }
   ],
   "source": [
    "# numeros = [int(input(f'Digite o {contador +1 }° número: ')) for contador in range(20)]\n",
    "clear_output(wait=True)\n",
    "pares, impares = [],[]\n",
    "formula = lambda num: pares.append(num) if num % 2 == 0 else impares.append(num)\n",
    "operacao = list(map(formula,(numeros))) #Lembra de colocar o list(map(func,(array))) para retornar os valores numa lista\n",
    "print(f'''\n",
    "Os numeros digitador foram {numeros}\n",
    "Os pares são {pares}\n",
    "Os impares são {impares}\n",
    "''')"
   ]
  },
  {
   "cell_type": "markdown",
   "metadata": {},
   "source": [
    "### 6. Faça um Programa que peça as quatro notas de 10 alunos, calcule e armazene num vetor a média de cada aluno, imprima o número de alunos com média maior ou igual a 7.0."
   ]
  },
  {
   "cell_type": "code",
   "execution_count": 132,
   "metadata": {},
   "outputs": [
    {
     "name": "stdout",
     "output_type": "stream",
     "text": [
      "Digite a 1° nota: 5\n",
      "Digite a 2° nota: 4\n",
      "Digite a 3° nota: 7\n",
      "Digite a 4° nota: 5\n"
     ]
    }
   ],
   "source": [
    "alunos, medias = [],[]\n",
    "alunos_10 = [alunos.append([]) for i in range(10)]\n",
    "for aluno in alunos:\n",
    "    for nota in range(4):\n",
    "        aluno.append(int(input(f'Digite a {nota+1}° nota: ')))\n",
    "    clear_output(wait=True)"
   ]
  },
  {
   "cell_type": "code",
   "execution_count": 173,
   "metadata": {},
   "outputs": [
    {
     "name": "stdout",
     "output_type": "stream",
     "text": [
      "7 Alunos tiraram notas acima de 7\n"
     ]
    }
   ],
   "source": [
    "def media_func(lista_notas): #Função para atribuir a media \n",
    "    media = sum(lista_notas)/len(lista_notas)\n",
    "    return medias.append(media)\n",
    "medias = []\n",
    "operacao = [media_func(aluno) for aluno in alunos]\n",
    "medias_maiores = 0\n",
    "for media in medias:\n",
    "    if media >= 7:\n",
    "        medias_maiores += 1\n",
    "print(f'{medias_maiores} Alunos tiraram notas acima de 7')"
   ]
  },
  {
   "cell_type": "markdown",
   "metadata": {},
   "source": [
    "### 7.  Faça um Programa que leia um vetor de 5 números inteiros, mostre a soma, a multiplicação e os números."
   ]
  },
  {
   "cell_type": "code",
   "execution_count": 182,
   "metadata": {},
   "outputs": [
    {
     "name": "stdout",
     "output_type": "stream",
     "text": [
      "Digite o 1° Número: 10\n",
      "Digite o 2° Número: 20\n",
      "Digite o 3° Número: 30\n",
      "Digite o 4° Número: 40\n",
      "Digite o 5° Número: 50\n",
      "\n",
      "A Soma dos Números: 150\n",
      "A multiplicação dos Números: 12000000\n",
      "Os Números adicionados são [10, 20, 30, 40, 50]\n",
      "\n"
     ]
    }
   ],
   "source": [
    "from numpy import prod #prod faz a multiplicação de todos os valores da lista\n",
    "vetor = [int(input(f'Digite o {valor+1}° Número: ')) for valor in range(5)]\n",
    "print(f'''\n",
    "A Soma dos Números: {sum(vetor)}\n",
    "A multiplicação dos Números: {prod(vetor)}\n",
    "Os Números adicionados são {vetor}\n",
    "''')"
   ]
  },
  {
   "cell_type": "markdown",
   "metadata": {},
   "source": [
    "###  8. Faça um Programa que peça a idade e a altura de 5 pessoas, armazene cada informação no seu respectivo vetor. Imprima a idade e a altura na ordem inversa a ordem lida."
   ]
  },
  {
   "cell_type": "code",
   "execution_count": 2,
   "metadata": {},
   "outputs": [
    {
     "name": "stdout",
     "output_type": "stream",
     "text": [
      "\n",
      "As informações na ordem inversa ficam.\n",
      "Idade: [22, 21, 20, 19, 18]\n",
      "Alturas: [1.35, 1.75, 1.65, 1.45, 1.5]\n",
      "\n"
     ]
    }
   ],
   "source": [
    "idades = [int(input(f'Digite a idade da {contador+1}° Pessoa: ')) for contador in range(5)]\n",
    "alturas =[float(input(f'Digite a altura da {contador+1}° Pessoa: ')) for contador in range(5)]\n",
    "clear_output(wait=True)\n",
    "print(f'''\n",
    "As informações na ordem inversa ficam.\n",
    "Idade: {idades[::-1]}\n",
    "Alturas: {alturas[::-1]}\n",
    "''')"
   ]
  },
  {
   "cell_type": "markdown",
   "metadata": {},
   "source": [
    "### 9. Faça um Programa que leia um vetor A com 10 números inteiros, calcule e mostre a soma dos quadrados dos elementos do vetor."
   ]
  },
  {
   "cell_type": "code",
   "execution_count": 5,
   "metadata": {},
   "outputs": [
    {
     "name": "stdout",
     "output_type": "stream",
     "text": [
      "A osoma dos quadrados da lista equivale a 385\n"
     ]
    }
   ],
   "source": [
    "vetor = [int(input('Digite um número: '))for i in range(10)]\n",
    "clear_output(wait=True)\n",
    "vetor_quadrado = list(map(lambda numero: numero ** 2, (vetor)))\n",
    "print(f'A osoma dos quadrados da lista equivale a {sum(vetor_quadrado)}')"
   ]
  },
  {
   "cell_type": "markdown",
   "metadata": {},
   "source": [
    "### 10. Faça um Programa que leia dois vetores com 10 elementos cada. Gere um terceiro vetor de 20 elementos, cujos valores deverão ser compostos pelos elementos intercalados dos dois outros vetores."
   ]
  },
  {
   "cell_type": "code",
   "execution_count": 11,
   "metadata": {},
   "outputs": [
    {
     "name": "stdout",
     "output_type": "stream",
     "text": [
      "O terceiro vetor ficara assim:  [1, 10, 2, 9, 3, 8, 4, 7, 5, 6, 6, 5, 7, 4, 8, 3, 9, 2, 10, 1]\n"
     ]
    }
   ],
   "source": [
    "vetor_a = [int(input('Digite um numero para o 1° vetor: ')) for i in range(10)]\n",
    "vetor_b = [int(input('Digite um numero para o 2° vetor: ')) for i in range(10)]\n",
    "clear_output(wait=True)\n",
    "vetor_c = []\n",
    "for index in range(10):\n",
    "    vetor_c.append(vetor_a[index])\n",
    "    vetor_c.append(vetor_b[index])\n",
    "print('O terceiro vetor ficara assim: ', vetor_c)"
   ]
  },
  {
   "cell_type": "markdown",
   "metadata": {},
   "source": [
    "### 11. Altere o programa anterior, intercalando 3 vetores de 10 elementos cada.\n"
   ]
  },
  {
   "cell_type": "code",
   "execution_count": 13,
   "metadata": {},
   "outputs": [
    {
     "name": "stdout",
     "output_type": "stream",
     "text": [
      "O terceiro vetor ficara assim:  [1, 10, 5, 2, 9, 5, 3, 8, 5, 4, 7, 5, 5, 6, 5, 6, 5, 5, 7, 4, 5, 8, 3, 5, 9, 2, 5, 10, 1, 5]\n"
     ]
    }
   ],
   "source": [
    "vetor_c, vetor_d =[int(input('Digite um numero para o 3° vetor: ')) for i in range(10)], []\n",
    "clear_output(wait=True)\n",
    "for index in range(10):\n",
    "    vetor_d.append(vetor_a[index])\n",
    "    vetor_d.append(vetor_b[index])\n",
    "    vetor_d.append(vetor_c[index])\n",
    "print('O terceiro vetor ficara assim: ', vetor_d)"
   ]
  },
  {
   "cell_type": "markdown",
   "metadata": {},
   "source": [
    "### 12. Foram anotadas as idades e alturas de 30 alunos. Faça um Programa que determine quantos alunos com mais de 13 anos possuem altura inferior à média de altura desses alunos."
   ]
  },
  {
   "cell_type": "code",
   "execution_count": 55,
   "metadata": {},
   "outputs": [
    {
     "name": "stdout",
     "output_type": "stream",
     "text": [
      "10 Alunos possuem mais de 13 anos e  altura inferior à média da altura da turma\n"
     ]
    }
   ],
   "source": [
    "idades = [random.randint(1,80) for idade in range(30)]\n",
    "alturas = [random.randint(120,199)/100 for altura in range(30)]\n",
    "maior_13 = []\n",
    "for index in range(len(idades)):\n",
    "    if idades[index] > 13 and alturas[index] > sum(alturas)/len(alturas):\n",
    "        maior_13.append(idades[index])\n",
    "print(f'{len(maior_13)} Alunos possuem mais de 13 anos e  altura inferior à média da altura da turma')"
   ]
  },
  {
   "cell_type": "markdown",
   "metadata": {},
   "source": [
    "### 13. Faça um programa que receba a temperatura média de cada mês do ano e armazene-as em uma lista. Após isto, calcule a média anual das temperaturas e mostre todas as temperaturas acima da média anual, e em que mês elas ocorreram (mostrar o mês por extenso: 1 – Janeiro, 2 – Fevereiro, . . . )."
   ]
  },
  {
   "cell_type": "code",
   "execution_count": 73,
   "metadata": {},
   "outputs": [
    {
     "name": "stdout",
     "output_type": "stream",
     "text": [
      "Em Janeiro a media foi maior que a media anual\n",
      "Em Abril a media foi maior que a media anual\n",
      "Em Maio a media foi maior que a media anual\n",
      "Em Setembro a media foi maior que a media anual\n",
      "Em Outubro a media foi maior que a media anual\n",
      "Em Novembro a media foi maior que a media anual\n",
      "Em Dezembro a media foi maior que a media anual\n"
     ]
    }
   ],
   "source": [
    "ano = {'Janeiro':0, 'Fevereiro':0, 'Março':0, 'Abril':0, 'Maio':0, 'Junho':0, \n",
    "        'Julho':0, 'Agosto':0, 'Setembro':0, 'Outubro':0,'Novembro': 0 ,'Dezembro':0}\n",
    "for mes, temperatura in ano.items():\n",
    "    ano[mes] = int(input(f'Qual a temperatura média do mês de {mes}: '))\n",
    "    \n",
    "clear_output(wait=True)\n",
    "media_anual = sum(ano.values())/len(ano)\n",
    "\n",
    "for mes, media in ano.items():\n",
    "    if media >  media_anual:\n",
    "        print(f'Em {mes} a media foi maior que a media anual')"
   ]
  },
  {
   "cell_type": "markdown",
   "metadata": {},
   "source": [
    "### 14. Utilizando listas faça um programa que faça 5 perguntas para uma pessoa sobre um crime. As perguntas são:\n",
    "<li>\"Telefonou para a vítima?\"</li>\n",
    "<li>\"Esteve no local do crime?\"</li>\n",
    "<li>\"Mora perto da vítima?\"</li>\n",
    "<li>\"Devia para a vítima?\"</li>\n",
    "<li>\"Já trabalhou com a vítima?\"</li> \n",
    "<p> O programa deve no final emitir uma classificação sobre a participação da pessoa no crime. Se a pessoa responder positivamente a 2 questões ela deve ser classificada como \"Suspeita\", entre 3 e 4 como \"Cúmplice\" e 5 como \"Assassino\". Caso contrário, ele será classificado como \"Inocente\". </p>"
   ]
  },
  {
   "cell_type": "code",
   "execution_count": 4,
   "metadata": {},
   "outputs": [
    {
     "name": "stdout",
     "output_type": "stream",
     "text": [
      "Você é ASSASSINO\n"
     ]
    }
   ],
   "source": [
    "perguntas = [\"Telefonou para a vítima?\",\"Esteve no local do crime?\",\"Mora perto da vítima?\",\n",
    "\"Devia para a vítima?\",\"Já trabalhou com a vítima?\"]\n",
    "respostas = [input(f'{pergunta} \\ns/Sim n/Não  resposta:')for pergunta in perguntas]\n",
    "clear_output(wait=True)\n",
    "if respostas.count('s') == 2:\n",
    "    print('Voce é SUSPEITO')\n",
    "elif respostas.count('s') == 3 or respostas.count('s') == 4:\n",
    "    print('Você é CÚMPLICE')\n",
    "elif respostas.count('s') == 5:\n",
    "    print('Você é ASSASSINO')\n",
    "else:\n",
    "    print('Você é I N O C E N T E')"
   ]
  },
  {
   "cell_type": "markdown",
   "metadata": {},
   "source": [
    "### 15. Faça um programa que leia um número indeterminado de valores, correspondentes a notas, encerrando a entrada de dados quando for informado um valor igual a -1 (que não deve ser armazenado). \n",
    "<p>Após esta entrada de dados, faça:</p>\n",
    "<li>a) Mostre a quantidade de valores que foram lidos;</li>\n",
    "<li>b) Exiba todos os valores na ordem em que foram informados, um ao lado do outro;</li>\n",
    "<li>c) Exiba todos os valores na ordem inversa à que foram informados, um abaixo do outro;</li>\n",
    "<li>d) Calcule e mostre a soma dos valores;</li>\n",
    "<li>e) Calcule e mostre a média dos valores;</li>\n",
    "<li>f) Calcule e mostre a quantidade de valores acima da média calculada;</li>\n",
    "<li>g) Calcule e mostre a quantidade de valores abaixo de sete;</li>\n",
    "<li>h) Encerre o programa com uma mensagem;</li>"
   ]
  },
  {
   "cell_type": "code",
   "execution_count": 3,
   "metadata": {},
   "outputs": [
    {
     "name": "stdout",
     "output_type": "stream",
     "text": [
      "Digite um Número: 0/cancelar0\n"
     ]
    }
   ],
   "source": [
    "numeros = []\n",
    "while True:\n",
    "    numero = int(input('Digite um Número: 0/cancelar '))\n",
    "    if numero == 0:\n",
    "        break\n",
    "    numeros.append(numero) \n",
    "    clear_output(wait=True)"
   ]
  },
  {
   "cell_type": "code",
   "execution_count": 4,
   "metadata": {},
   "outputs": [
    {
     "name": "stdout",
     "output_type": "stream",
     "text": [
      "Foram lidos ao todos 10 registros. \n"
     ]
    }
   ],
   "source": [
    "#a) Mostre a quantidade de valores que foram lidos;\n",
    "print(f'Foram lidos ao todos {len(numeros)} registros. ')"
   ]
  },
  {
   "cell_type": "code",
   "execution_count": 5,
   "metadata": {},
   "outputs": [
    {
     "name": "stdout",
     "output_type": "stream",
     "text": [
      "[1, 2, 3, 4, 5, 6, 7, 8, 9, 10]\n"
     ]
    }
   ],
   "source": [
    "#b)Exiba todos os valores na ordem em que foram informados, um ao lado do outro;\n",
    "print(numeros)"
   ]
  },
  {
   "cell_type": "code",
   "execution_count": 8,
   "metadata": {},
   "outputs": [
    {
     "name": "stdout",
     "output_type": "stream",
     "text": [
      "10\n",
      "9\n",
      "8\n",
      "7\n",
      "6\n",
      "5\n",
      "4\n",
      "3\n",
      "2\n",
      "1\n"
     ]
    }
   ],
   "source": [
    "#c)Exiba todos os valores na ordem inversa à que foram informados, um abaixo do outro;\n",
    "for numero in range(len(numeros),0,-1):\n",
    "    print(numero)"
   ]
  },
  {
   "cell_type": "code",
   "execution_count": 9,
   "metadata": {},
   "outputs": [
    {
     "name": "stdout",
     "output_type": "stream",
     "text": [
      "A soma dos valores equivale a 55\n"
     ]
    }
   ],
   "source": [
    "#d) Calcule e mostre a soma dos valores;\n",
    "print(f'A soma dos valores equivale a {sum(numeros)}')"
   ]
  },
  {
   "cell_type": "code",
   "execution_count": 12,
   "metadata": {},
   "outputs": [
    {
     "name": "stdout",
     "output_type": "stream",
     "text": [
      "A media é 5.5 \n"
     ]
    }
   ],
   "source": [
    "# #e) Calcule e mostre a média dos valores;\n",
    "media = sum(numeros)/len(numeros)\n",
    "print('A media é {} '.format(media))"
   ]
  },
  {
   "cell_type": "code",
   "execution_count": 83,
   "metadata": {},
   "outputs": [
    {
     "name": "stdout",
     "output_type": "stream",
     "text": [
      "Existem 5 numeros acima da media\n"
     ]
    }
   ],
   "source": [
    "# f) Calcule e mostre a quantidade de valores acima da média calculada\n",
    "quantidade_acima = 0\n",
    "for numero in numeros:\n",
    "    if numero > media:\n",
    "        quantidade_acima += 1\n",
    "print('Existem {} numeros acima da media'.format(quantidade_acima))"
   ]
  },
  {
   "cell_type": "code",
   "execution_count": 82,
   "metadata": {},
   "outputs": [
    {
     "name": "stdout",
     "output_type": "stream",
     "text": [
      "Existem 0 numeros abaixo de 7\n"
     ]
    }
   ],
   "source": [
    "# g) Calcule e mostre a quantidade de valores abaixo de sete;\n",
    "quantidade_abaixo = 0\n",
    "for numero in numeros:\n",
    "    if numero > 7:\n",
    "        quantidade_acima += 1\n",
    "print('Existem {} numeros abaixo de 7'.format(quantidade_abaixo))"
   ]
  },
  {
   "cell_type": "code",
   "execution_count": 84,
   "metadata": {},
   "outputs": [
    {
     "name": "stdout",
     "output_type": "stream",
     "text": [
      "Fim do programa\n"
     ]
    }
   ],
   "source": [
    "# h) Encerre o programa com uma mensagem;\n",
    "print('Fim do programa')"
   ]
  },
  {
   "cell_type": "markdown",
   "metadata": {},
   "source": [
    "### 16. Utilize uma lista para resolver o problema a seguir. Uma empresa paga seus vendedores com base em comissões. O vendedor recebe 200 por semana mais 9 por cento de suas vendas brutas daquela semana. Por exemplo, um vendedor que teve vendas brutas de 3000 em uma semana recebe 200 mais 9 por cento de 3000, ou seja, um total de 470.\n",
    "<p> Escreva um programa (usando um array de contadores) que determine quantos vendedores receberam salários nos seguintes intervalos de valores:</p>\n"
   ]
  },
  {
   "cell_type": "code",
   "execution_count": 2,
   "metadata": {},
   "outputs": [],
   "source": [
    "# $200 - $299\n",
    "# $300 - $399\n",
    "# $400 - $499\n",
    "# $500 - $599\n",
    "# $600 - $699\n",
    "# $700 - $799\n",
    "# $800 - $899\n",
    "# $900 - $999\n",
    "# $1000 em diante\n",
    "#Desafio: Crie uma fórmula para chegar na posição da lista a partir do salário, sem fazer vários ifs aninhados."
   ]
  },
  {
   "cell_type": "code",
   "execution_count": 3,
   "metadata": {},
   "outputs": [],
   "source": [
    "#nao entendi o exercicio. pois pede quantos vendedores, mas nao passa o valor das vendas de nenhum nem quantos vendedores existem"
   ]
  },
  {
   "cell_type": "markdown",
   "metadata": {},
   "source": [
    "### 17. Em uma competição de salto em distância cada atleta tem direito a cinco saltos. O resultado do atleta será determinado pela média dos cinco valores restantes. Você deve fazer um programa que receba o nome e as cinco distâncias alcançadas pelo atleta em seus saltos e depois informe o nome, os saltos e a média dos saltos. O programa deve ser encerrado quando não for informado o nome do atleta. A saída do programa deve ser conforme o exemplo abaixo:"
   ]
  },
  {
   "cell_type": "code",
   "execution_count": 5,
   "metadata": {},
   "outputs": [],
   "source": [
    "# Exercicio 46 da estrutura de repetição, Ja foi resolvido"
   ]
  },
  {
   "cell_type": "markdown",
   "metadata": {},
   "source": [
    "### 18. Uma grande emissora de televisão quer fazer uma enquete entre os seus telespectadores para saber qual o melhor jogador após cada jogo. Para isto, faz-se necessário o desenvolvimento de um programa, que será utilizado pelas telefonistas, para a computação dos votos. Sua equipe foi contratada para desenvolver este programa, utilizando a linguagem de programação C++. Para computar cada voto, a telefonista digitará um número, entre 1 e 23, correspondente ao número da camisa do jogador. Um número de jogador igual zero, indica que a votação foi encerrada. Se um número inválido for digitado, o programa deve ignorá-lo, mostrando uma breve mensagem de aviso, e voltando a pedir outro número. Após o final da votação, o programa deverá exibir:\n",
    "<p> O total de votos computados; </p>\n",
    "<li>Os númeos e respectivos votos de todos os jogadores que receberam votos;</li>\n",
    "<li>O percentual de votos de cada um destes jogadores;</li>\n",
    "<li>O número do jogador escolhido como o melhor jogador da partida, juntamente com o número de votos e o percentual de votos dados a ele.</li>\n",
    "Observe que os votos inválidos e o zero final não devem ser computados como votos. O resultado aparece ordenado pelo número do jogador. O programa deve fazer uso de arrays. O programa deverá executar o cálculo do percentual de cada jogador através de uma função. Esta função receberá dois parâmetros: o número de votos de um jogador e o total de votos. A função calculará o percentual e retornará o valor calculado. Abaixo segue uma tela de exemplo. O disposição das informações deve ser o mais próxima possível ao exemplo. Os dados são fictícios e podem mudar a cada execução do programa. Ao final, o programa deve ainda gravar os dados referentes ao resultado da votação em um arquivo texto no disco, obedecendo a mesma disposição apresentada na tela."
   ]
  },
  {
   "cell_type": "code",
   "execution_count": 1,
   "metadata": {},
   "outputs": [],
   "source": [
    "# Enquete: Quem foi o melhor jogador?\n",
    "\n",
    "# Número do jogador (0=fim): 9\n",
    "# Número do jogador (0=fim): 10\n",
    "# Número do jogador (0=fim): 9\n",
    "# Número do jogador (0=fim): 10\n",
    "# Número do jogador (0=fim): 11\n",
    "# Número do jogador (0=fim): 10\n",
    "# Número do jogador (0=fim): 50\n",
    "# Informe um valor entre 1 e 23 ou 0 para sair!\n",
    "# Número do jogador (0=fim): 9\n",
    "# Número do jogador (0=fim): 9\n",
    "# Número do jogador (0=fim): 0\n",
    "\n",
    "# Resultado da votação:\n",
    "\n",
    "# Foram computados 8 votos.\n",
    "\n",
    "# Jogador Votos           %\n",
    "# 9               4               50,0%\n",
    "# 10              3               37,5%\n",
    "# 11              1               12,5%\n",
    "# O melhor jogador foi o número 9, com 4 votos, correspondendo a 50% do total de votos."
   ]
  },
  {
   "cell_type": "code",
   "execution_count": 37,
   "metadata": {},
   "outputs": [
    {
     "name": "stdout",
     "output_type": "stream",
     "text": [
      "Enquete: Quem foi o melhor jogador?\n",
      "Número do jogador (0=fim):20\n",
      "Número do jogador (0=fim):18\n",
      "Número do jogador (0=fim):17\n",
      "Número do jogador (0=fim):15\n",
      "Número do jogador (0=fim):15\n",
      "Número do jogador (0=fim):15\n",
      "Número do jogador (0=fim):15\n",
      "Número do jogador (0=fim):15\n",
      "Número do jogador (0=fim):18\n",
      "Número do jogador (0=fim):20\n",
      "Número do jogador (0=fim):1\n",
      "Número do jogador (0=fim):0\n"
     ]
    }
   ],
   "source": [
    "lista_votos = []\n",
    "print('Enquete: Quem foi o melhor jogador?')\n",
    "while True:\n",
    "    try:\n",
    "        voto = int(input('Número do jogador (0=fim):'))\n",
    "    except:\n",
    "        print('Informe um valor entre 1 e 23 ou 0 para sair!')\n",
    "    if voto > 0 and voto <= 23:\n",
    "        lista_votos.append(voto)\n",
    "    elif voto == 0:\n",
    "        break\n",
    "    else: \n",
    "        print('Informe um valor entre 1 e 23 ou 0 para sair!')\n"
   ]
  },
  {
   "cell_type": "code",
   "execution_count": 51,
   "metadata": {},
   "outputs": [],
   "source": [
    "def contagem_votos(lista_votos):\n",
    "    set_votos = set(lista_votos)\n",
    "    dict_votos = {}\n",
    "    for voto in set_votos:\n",
    "        dict_votos[voto] = lista_votos.count(voto)\n",
    "    return dict_votos"
   ]
  },
  {
   "cell_type": "code",
   "execution_count": 74,
   "metadata": {},
   "outputs": [
    {
     "name": "stdout",
     "output_type": "stream",
     "text": [
      "Jogador     Votos    Porcentagem\n",
      "1   =          1       9.1 %\n",
      "15   =          5       45.5 %\n",
      "17   =          1       9.1 %\n",
      "18   =          2       18.2 %\n",
      "20   =          2       18.2 %\n"
     ]
    }
   ],
   "source": [
    "dict_votos = contagem_votos(lista_votos)\n",
    "print('Jogador     Votos    Porcentagem')\n",
    "teste = [print(key,'  =         ', value, '     ', round((value*100)/len(lista_votos),1),'%') for key,value in dict_votos.items()]"
   ]
  }
 ],
 "metadata": {
  "kernelspec": {
   "display_name": "Python 3",
   "language": "python",
   "name": "python3"
  },
  "language_info": {
   "codemirror_mode": {
    "name": "ipython",
    "version": 3
   },
   "file_extension": ".py",
   "mimetype": "text/x-python",
   "name": "python",
   "nbconvert_exporter": "python",
   "pygments_lexer": "ipython3",
   "version": "3.9.2"
  }
 },
 "nbformat": 4,
 "nbformat_minor": 2
}
