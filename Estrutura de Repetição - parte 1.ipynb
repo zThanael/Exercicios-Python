{
 "cells": [
  {
   "cell_type": "markdown",
   "id": "bee17121",
   "metadata": {},
   "source": [
    "<h1> Repositório criado para treinar estruturas de Repetições no python</h1>\n",
    "<h4 align='right'> Exercícios disponíveis  em <a href='https://wiki.python.org.br/EstruturaDeRepeticao'>python brasil </a> </h4>\n",
    "<hr>"
   ]
  },
  {
   "cell_type": "code",
   "execution_count": 4,
   "id": "c2349f27",
   "metadata": {},
   "outputs": [],
   "source": [
    "from IPython.display import clear_output #biblioteca para limpar a saida do codigo\n",
    "#vamos utilizar dentro dos laços para que o laço não fique com um codigo de saida muito extenso"
   ]
  },
  {
   "cell_type": "markdown",
   "id": "0ca0e72e",
   "metadata": {},
   "source": [
    "<h3> 1. Faça um programa que peça uma nota, entre zero e dez. Mostre uma mensagem caso o valor seja inválido e continue pedindo até que o usuário informe um valor válido. </h3>"
   ]
  },
  {
   "cell_type": "code",
   "execution_count": 6,
   "id": "227acda9",
   "metadata": {},
   "outputs": [
    {
     "name": "stdout",
     "output_type": "stream",
     "text": [
      "Digite uma nota entre zero e dez: 1\n",
      "1 é um número válido \n"
     ]
    }
   ],
   "source": [
    "while True:\n",
    "    clear_output(wait=True)\n",
    "    nota = int(input('Digite uma nota entre zero e dez: '))\n",
    "    if nota < 10 and nota > 0:\n",
    "        print(f'{nota} é um número válido ')\n",
    "        break\n",
    "    else:\n",
    "        print('Número invalido')"
   ]
  },
  {
   "cell_type": "markdown",
   "id": "14301efe",
   "metadata": {},
   "source": [
    "<h3> 2. Faça um programa que leia um nome de usuário e a sua senha e não aceite a senha igual ao nome do usuário, mostrando uma mensagem de erro e voltando a pedir as informações.  </h3>"
   ]
  },
  {
   "cell_type": "code",
   "execution_count": 8,
   "id": "10c2b181",
   "metadata": {},
   "outputs": [
    {
     "name": "stdout",
     "output_type": "stream",
     "text": [
      "Digite seu usuario: 3\n",
      "Digite sua senha: 4\n"
     ]
    }
   ],
   "source": [
    "while True:\n",
    "    clear_output(wait=True)\n",
    "    usuario = input('Digite seu usuario: ')\n",
    "    senha = input('Digite sua senha: ')\n",
    "    if senha == usuario:\n",
    "        print('Senha nao pode ser igual a usuario ')\n",
    "    else:\n",
    "        break"
   ]
  },
  {
   "cell_type": "markdown",
   "id": "518ad203",
   "metadata": {},
   "source": [
    "<h3> Faça um programa que leia e valide as seguintes informações: </h3>\n",
    "<blockquote>\n",
    "<li>Nome: maior que 3 caracteres;</li>\n",
    "<li>Idade: entre 0 e 150;</li>\n",
    "<li>Salário: maior que zero;</li>\n",
    "<li>Sexo: 'f' ou 'm';</li>\n",
    "<li>Estado Civil: 's', 'c', 'v', 'd';</li>\n",
    "</blockquote>"
   ]
  },
  {
   "cell_type": "code",
   "execution_count": 49,
   "id": "7c13a316",
   "metadata": {},
   "outputs": [
    {
     "name": "stdout",
     "output_type": "stream",
     "text": [
      "Digite seu nome: Thanael\n",
      "Digite sua idade: 19\n",
      "Digite seu salario: 500\n",
      "Digite seu sexo   f/m : f\n",
      "Digite seu estado civil\n",
      " s  -  solteiro\n",
      " c  -  casado\n",
      " v  -  viuvo\n",
      " d  - divorciado\n",
      "s\n",
      "\n",
      "Cadastro finalizado \n"
     ]
    }
   ],
   "source": [
    "while True:\n",
    "    clear_output(wait=True)\n",
    "    contador = 0\n",
    "    nome = input('Digite seu nome: ')\n",
    "    idade = int(input('Digite sua idade: '))\n",
    "    salario = float(input('Digite seu salario: '))\n",
    "    sexo = input('Digite seu sexo   f/m : ')\n",
    "    estado_civil = input('Digite seu estado civil'\n",
    "                         '\\n s  -  solteiro'\n",
    "                         '\\n c  -  casado'\n",
    "                         '\\n v  -  viuvo'\n",
    "                         '\\n d  - divorciado\\n')\n",
    "    if len(nome) < 4:\n",
    "        print('\\nNome deve possuir mais de 3 caracteres')\n",
    "    else:\n",
    "        contador += 1\n",
    "        \n",
    "    if idade < 0 or idade > 150:\n",
    "        print('\\nIdade deve estar entre 0 e 150')\n",
    "    else:\n",
    "        contador += 1\n",
    "        \n",
    "    if salario < 0:\n",
    "        print('\\nSalario não pode ser 0')\n",
    "    else:\n",
    "        contador += 1\n",
    "        \n",
    "    if sexo == 'm' or sexo == 'f':\n",
    "        contador += 1\n",
    "    else:\n",
    "          print('\\nDigite um sexo válido')   \n",
    "            \n",
    "    if estado_civil not in 'scvd':\n",
    "        print('\\nDigite um estado_civil válido')\n",
    "    else:\n",
    "        contador += 1\n",
    "        \n",
    "    if contador == 5:\n",
    "        print('\\nCadastro finalizado ')\n",
    "        break"
   ]
  }
 ],
 "metadata": {
  "kernelspec": {
   "display_name": "Python 3",
   "language": "python",
   "name": "python3"
  },
  "language_info": {
   "codemirror_mode": {
    "name": "ipython",
    "version": 3
   },
   "file_extension": ".py",
   "mimetype": "text/x-python",
   "name": "python",
   "nbconvert_exporter": "python",
   "pygments_lexer": "ipython3",
   "version": "3.9.2"
  }
 },
 "nbformat": 4,
 "nbformat_minor": 5
}
