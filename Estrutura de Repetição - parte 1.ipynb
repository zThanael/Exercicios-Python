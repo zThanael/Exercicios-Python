{
 "cells": [
  {
   "cell_type": "markdown",
   "id": "bee17121",
   "metadata": {},
   "source": [
    "<h1> Repositório criado para treinar estruturas de Repetições no python</h1>\n",
    "<h4 align='right'> Exercícios disponíveis  em <a href='https://wiki.python.org.br/EstruturaDeRepeticao'>python brasil </a> </h4>\n",
    "<hr>"
   ]
  },
  {
   "cell_type": "code",
   "execution_count": 1,
   "id": "c2349f27",
   "metadata": {},
   "outputs": [],
   "source": [
    "from IPython.display import clear_output #biblioteca para limpar a saida do codigo\n",
    "#vamos utilizar dentro dos laços para que o laço não fique com um codigo de saida muito extenso"
   ]
  },
  {
   "cell_type": "markdown",
   "id": "0ca0e72e",
   "metadata": {},
   "source": [
    "<h3> 1. Faça um programa que peça uma nota, entre zero e dez. Mostre uma mensagem caso o valor seja inválido e continue pedindo até que o usuário informe um valor válido. </h3>"
   ]
  },
  {
   "cell_type": "code",
   "execution_count": 2,
   "id": "227acda9",
   "metadata": {},
   "outputs": [
    {
     "name": "stdout",
     "output_type": "stream",
     "text": [
      "Digite uma nota entre zero e dez: 7\n",
      "7 é um número válido \n"
     ]
    }
   ],
   "source": [
    "while True:\n",
    "    clear_output(wait=True)\n",
    "    nota = int(input('Digite uma nota entre zero e dez: '))\n",
    "    if nota < 10 and nota > 0:\n",
    "        print(f'{nota} é um número válido ')\n",
    "        break\n",
    "    else:\n",
    "        print('Número invalido')"
   ]
  },
  {
   "cell_type": "markdown",
   "id": "14301efe",
   "metadata": {},
   "source": [
    "<h3> 2. Faça um programa que leia um nome de usuário e a sua senha e não aceite a senha igual ao nome do usuário, mostrando uma mensagem de erro e voltando a pedir as informações.  </h3>"
   ]
  },
  {
   "cell_type": "code",
   "execution_count": 3,
   "id": "10c2b181",
   "metadata": {},
   "outputs": [
    {
     "name": "stdout",
     "output_type": "stream",
     "text": [
      "Digite seu usuario: teste\n",
      "Digite sua senha: 123\n"
     ]
    }
   ],
   "source": [
    "while True:\n",
    "    clear_output(wait=True)\n",
    "    usuario = input('Digite seu usuario: ')\n",
    "    senha = input('Digite sua senha: ')\n",
    "    if senha == usuario:\n",
    "        print('Senha nao pode ser igual a usuario ')\n",
    "    else:\n",
    "        break"
   ]
  },
  {
   "cell_type": "markdown",
   "id": "518ad203",
   "metadata": {},
   "source": [
    "<h3>3. Faça um programa que leia e valide as seguintes informações: </h3>\n",
    "<blockquote>\n",
    "<li>Nome: maior que 3 caracteres;</li>\n",
    "<li>Idade: entre 0 e 150;</li>\n",
    "<li>Salário: maior que zero;</li>\n",
    "<li>Sexo: 'f' ou 'm';</li>\n",
    "<li>Estado Civil: 's', 'c', 'v', 'd';</li>\n",
    "</blockquote>"
   ]
  },
  {
   "cell_type": "code",
   "execution_count": 4,
   "id": "7c13a316",
   "metadata": {},
   "outputs": [
    {
     "name": "stdout",
     "output_type": "stream",
     "text": [
      "Digite seu nome: Thanael\n",
      "Digite sua idade: 19\n",
      "Digite seu salario: 1500\n",
      "Digite seu sexo   f/m : m\n",
      "Digite seu estado civil\n",
      " s  -  solteiro\n",
      " c  -  casado\n",
      " v  -  viuvo\n",
      " d  - divorciado\n",
      "s\n",
      "\n",
      "Cadastro finalizado \n"
     ]
    }
   ],
   "source": [
    "while True:\n",
    "    clear_output(wait=True)\n",
    "    contador = 0\n",
    "    nome = input('Digite seu nome: ')\n",
    "    idade = int(input('Digite sua idade: '))\n",
    "    salario = float(input('Digite seu salario: '))\n",
    "    sexo = input('Digite seu sexo   f/m : ')\n",
    "    estado_civil = input('Digite seu estado civil'\n",
    "                         '\\n s  -  solteiro'\n",
    "                         '\\n c  -  casado'\n",
    "                         '\\n v  -  viuvo'\n",
    "                         '\\n d  - divorciado\\n')\n",
    "    if len(nome) < 4:\n",
    "        print('\\nNome deve possuir mais de 3 caracteres')\n",
    "    else:\n",
    "        contador += 1\n",
    "        \n",
    "    if idade < 0 or idade > 150:\n",
    "        print('\\nIdade deve estar entre 0 e 150')\n",
    "    else:\n",
    "        contador += 1\n",
    "        \n",
    "    if salario < 0:\n",
    "        print('\\nSalario não pode ser 0')\n",
    "    else:\n",
    "        contador += 1\n",
    "        \n",
    "    if sexo == 'm' or sexo == 'f':\n",
    "        contador += 1\n",
    "    else:\n",
    "          print('\\nDigite um sexo válido')   \n",
    "            \n",
    "    if estado_civil not in 'scvd':\n",
    "        print('\\nDigite um estado_civil válido')\n",
    "    else:\n",
    "        contador += 1\n",
    "        \n",
    "    if contador == 5:\n",
    "        print('\\nCadastro finalizado ')\n",
    "        break"
   ]
  },
  {
   "cell_type": "markdown",
   "id": "f789785f",
   "metadata": {},
   "source": [
    "<h3> 4. Supondo que a população de um país A seja da ordem de 80000 habitantes com uma taxa anual de crescimento de 3% e que a população de B seja 200000 habitantes com uma taxa de crescimento de 1.5%. Faça um programa que calcule e escreva o número de anos necessários para que a população do país A ultrapasse ou iguale a população do país B, mantidas as taxas de crescimento. </h3>"
   ]
  },
  {
   "cell_type": "code",
   "execution_count": 5,
   "id": "597fdd84",
   "metadata": {},
   "outputs": [
    {
     "name": "stdout",
     "output_type": "stream",
     "text": [
      "serão necessarios 63 para que A ultrapasse B\n"
     ]
    }
   ],
   "source": [
    "a = 80000\n",
    "b = 200000\n",
    "anos = 0\n",
    "while a < b:\n",
    "    a = a + (a* 0.03)  #A + 3%\n",
    "    b = b + (b* 0.015) #B + 1.5%\n",
    "    anos += 1\n",
    "print(f'serão necessarios {anos} para que A ultrapasse B')"
   ]
  },
  {
   "cell_type": "markdown",
   "id": "d6666ea4",
   "metadata": {},
   "source": [
    "<h3> 5. Altere o programa anterior permitindo ao usuário informar as populações e as taxas de crescimento iniciais. Valide a entrada e permita repetir a operação. </h3>"
   ]
  },
  {
   "cell_type": "code",
   "execution_count": 6,
   "id": "279d229e",
   "metadata": {},
   "outputs": [
    {
     "name": "stdout",
     "output_type": "stream",
     "text": [
      "Quantos habitantes existem nesta cidade: 10000\n",
      "Qual a taxa de crescimento dela: 5\n",
      "Quantos habitantes existem nesta cidade: 25000\n",
      "Qual a taxa de crescimento dela: 2\n",
      "serão necessarios 32 para que A ultrapasse B\n"
     ]
    }
   ],
   "source": [
    "população_A = int(input('Quantos habitantes existem nesta cidade: '))\n",
    "taxa_A = int(input('Qual a taxa de crescimento dela: '))\n",
    "população_B = int(input('Quantos habitantes existem nesta cidade: '))\n",
    "taxa_B = int(input('Qual a taxa de crescimento dela: '))\n",
    "anos = 0\n",
    "while população_A < população_B:\n",
    "    população_A = população_A + (população_A * (taxa_A/100))\n",
    "    população_B = população_B + (população_B * (taxa_B/100))\n",
    "    anos += 1\n",
    "print(f'serão necessarios {anos} para que A ultrapasse B')"
   ]
  },
  {
   "cell_type": "markdown",
   "id": "4bfe8837",
   "metadata": {},
   "source": [
    "### 6. Faça um programa que imprima na tela os números de 1 a 20, um abaixo do outro. Depois modifique o programa para que ele mostre os números um ao lado do outro."
   ]
  },
  {
   "cell_type": "code",
   "execution_count": 7,
   "id": "cda9bb4e",
   "metadata": {},
   "outputs": [
    {
     "name": "stdout",
     "output_type": "stream",
     "text": [
      "1\n",
      "2\n",
      "3\n",
      "4\n",
      "5\n",
      "6\n",
      "7\n",
      "8\n",
      "9\n",
      "10\n",
      "11\n",
      "12\n",
      "13\n",
      "14\n",
      "15\n",
      "16\n",
      "17\n",
      "18\n",
      "19\n",
      "20\n",
      "\n",
      " [1, 2, 3, 4, 5, 6, 7, 8, 9, 10, 11, 12, 13, 14, 15, 16, 17, 18, 19, 20]\n"
     ]
    }
   ],
   "source": [
    "for x in range(20):\n",
    "    print(x+1)\n",
    "    \n",
    "print('\\n',[x+1 for x in range(20)])"
   ]
  },
  {
   "cell_type": "markdown",
   "id": "49873b90",
   "metadata": {},
   "source": [
    "### 7. Faça um programa que leia 5 números e informe o maior número."
   ]
  },
  {
   "cell_type": "code",
   "execution_count": 8,
   "id": "f229aff7",
   "metadata": {},
   "outputs": [
    {
     "name": "stdout",
     "output_type": "stream",
     "text": [
      "Digite o 1 número: 10\n",
      "Digite o 2 número: 5\n",
      "Digite o 3 número: 4\n",
      "Digite o 4 número: 23\n",
      "Digite o 5 número: 1\n",
      "O maior número é 23\n"
     ]
    }
   ],
   "source": [
    "lista = [int(input(f'Digite o {i+1} número: ')) for i in range(5)]\n",
    "print(f'O maior número é {max(lista)}')"
   ]
  },
  {
   "cell_type": "markdown",
   "id": "5a7bd798",
   "metadata": {},
   "source": [
    "### 8. Faça um programa que leia 5 números e informe a soma e a média dos números."
   ]
  },
  {
   "cell_type": "code",
   "execution_count": 9,
   "id": "39ef302c",
   "metadata": {},
   "outputs": [
    {
     "name": "stdout",
     "output_type": "stream",
     "text": [
      "Digite o 1 número: 1\n",
      "Digite o 2 número: 7\n",
      "Digite o 3 número: 8\n",
      "Digite o 4 número: 9\n",
      "Digite o 5 número: 10\n",
      "A soma de todos os valores é 35. É a média: 7.0\n"
     ]
    }
   ],
   "source": [
    "lista = [int(input(f'Digite o {i+1} número: ')) for i in range(5)]\n",
    "print(f'A soma de todos os valores é {sum(lista)}. É a média: {sum(lista)/len(lista):.1f}')"
   ]
  },
  {
   "cell_type": "markdown",
   "id": "76125670",
   "metadata": {},
   "source": [
    "### 9. Faça um programa que imprima na tela apenas os números ímpares entre 1 e 50."
   ]
  },
  {
   "cell_type": "code",
   "execution_count": 10,
   "id": "ce01f193",
   "metadata": {},
   "outputs": [
    {
     "name": "stdout",
     "output_type": "stream",
     "text": [
      "[1, 3, 5, 7, 9, 11, 13, 15, 17, 19, 21, 23, 25, 27, 29, 31, 33, 35, 37, 39, 41, 43, 45, 47, 49]\n"
     ]
    }
   ],
   "source": [
    "lista = []\n",
    "for_resumido = [lista.append(i) for i in range(50) if i % 2 != 0 ] #conceito de list comprehension\n",
    "print(lista)"
   ]
  },
  {
   "cell_type": "markdown",
   "id": "d3262105",
   "metadata": {},
   "source": [
    "### 10. Faça um programa que receba dois números inteiros e gere os números inteiros que estão no intervalo compreendido por eles."
   ]
  },
  {
   "cell_type": "code",
   "execution_count": 11,
   "id": "da1335d7",
   "metadata": {},
   "outputs": [
    {
     "name": "stdout",
     "output_type": "stream",
     "text": [
      "Digite o 1 numero: 1\n",
      "Digite o 2 numero: 10\n",
      "2\n",
      "3\n",
      "4\n",
      "5\n",
      "6\n",
      "7\n",
      "8\n",
      "9\n"
     ]
    }
   ],
   "source": [
    "lista = [int(input(f'Digite o {i+1} numero: ')) for i in range(2)]\n",
    "teste = [print(i) for i in range(lista[0],lista[1]) if i > lista[0]]\n"
   ]
  },
  {
   "cell_type": "markdown",
   "id": "34a8f2cd",
   "metadata": {},
   "source": [
    "### 11. Altere o programa anterior para mostrar no final a soma dos números."
   ]
  },
  {
   "cell_type": "code",
   "execution_count": 12,
   "id": "3dd55e33",
   "metadata": {},
   "outputs": [
    {
     "name": "stdout",
     "output_type": "stream",
     "text": [
      "Digite o 1 numero: 1\n",
      "Digite o 2 numero: 5\n",
      "9\n"
     ]
    }
   ],
   "source": [
    "lista = [int(input(f'Digite o {i+1} numero: ')) for i in range(2)]\n",
    "resultado = []\n",
    "teste = [resultado.append(i) for i in range(lista[0],lista[1]) if i > lista[0]]\n",
    "print(sum(resultado))"
   ]
  },
  {
   "cell_type": "markdown",
   "id": "c26f5953",
   "metadata": {},
   "source": [
    "### 12. Desenvolva um gerador de tabuada, capaz de gerar a tabuada de qualquer número inteiro entre 1 a 10. O usuário deve informar de qual numero ele deseja ver a tabuada. A saída deve ser conforme o exemplo abaixo:"
   ]
  },
  {
   "cell_type": "code",
   "execution_count": 13,
   "id": "7feb2e1d",
   "metadata": {},
   "outputs": [
    {
     "name": "stdout",
     "output_type": "stream",
     "text": [
      "Deseja ver a tabuada de qual numero, entre 1 a 10: 4\n",
      "Tabuada de 4\n",
      "4 X 1 = 4\n",
      "4 X 2 = 8\n",
      "4 X 3 = 12\n",
      "4 X 4 = 16\n",
      "4 X 5 = 20\n",
      "4 X 6 = 24\n",
      "4 X 7 = 28\n",
      "4 X 8 = 32\n",
      "4 X 9 = 36\n",
      "4 X 10 = 40\n"
     ]
    }
   ],
   "source": [
    "num = int(input('Deseja ver a tabuada de qual numero, entre 1 a 10: '))\n",
    "print(f'Tabuada de {num}')\n",
    "resultado = [print(f'{num} X {i+1} = {num * (i+1)}') for i in range(10)]"
   ]
  },
  {
   "cell_type": "markdown",
   "id": "0f3487df",
   "metadata": {},
   "source": [
    "### 13 . Faça um programa que peça dois números, base e expoente, calcule e mostre o primeiro número elevado ao segundo número. Não utilize a função de potência da linguagem."
   ]
  },
  {
   "cell_type": "code",
   "execution_count": 14,
   "id": "55190b14",
   "metadata": {},
   "outputs": [
    {
     "name": "stdout",
     "output_type": "stream",
     "text": [
      "Digite o 1 numero: 3\n",
      "Digite o 2 numero: 3\n",
      "3 elevado a 3 = 27\n"
     ]
    }
   ],
   "source": [
    "array = [int(input(f'Digite o {i+1} numero: ')) for i in range(2)]\n",
    "print(f'{array[0]} elevado a {array[1]} = {array[0] ** array[1]}')"
   ]
  },
  {
   "cell_type": "markdown",
   "id": "aa44695c",
   "metadata": {},
   "source": [
    "### 14. Faça um programa que peça 10 números inteiros, calcule e mostre a quantidade de números pares e a quantidade de números impares."
   ]
  },
  {
   "cell_type": "code",
   "execution_count": 15,
   "id": "84dc2aa8",
   "metadata": {},
   "outputs": [
    {
     "name": "stdout",
     "output_type": "stream",
     "text": [
      "Digite o 1 numero: 1\n",
      "Digite o 2 numero: 2\n",
      "Digite o 3 numero: 3\n",
      "Digite o 4 numero: 4\n",
      "Digite o 5 numero: 5\n",
      "Digite o 6 numero: 6\n",
      "Digite o 7 numero: 7\n",
      "Digite o 8 numero: 8\n",
      "Digite o 9 numero: 9\n",
      "Digite o 10 numero: 10\n",
      "a somatoria equivale a 55\n",
      "Impar: 1\n",
      "Impar: 3\n",
      "Impar: 5\n",
      "Impar: 7\n",
      "Impar: 9\n",
      "Par: 2\n",
      "Par: 4\n",
      "Par: 6\n",
      "Par: 8\n",
      "Par: 10\n"
     ]
    }
   ],
   "source": [
    "array = [int(input(f'Digite o {i+1} numero: ')) for i in range(10)]\n",
    "impar = [print(f'Impar: {cont}') for cont in array if cont % 2 != 0]\n",
    "impar = [print(f'Par: {cont}') for cont in array if cont % 2 == 0]"
   ]
  },
  {
   "cell_type": "markdown",
   "id": "da3b5b16",
   "metadata": {},
   "source": [
    "### 15. A série de Fibonacci é formada pela seqüência 1,1,2,3,5,8,13,21,34,55,... Faça um programa capaz de gerar a série até o n−ésimo termo."
   ]
  },
  {
   "cell_type": "code",
   "execution_count": 16,
   "id": "1b3fb163",
   "metadata": {},
   "outputs": [
    {
     "name": "stdout",
     "output_type": "stream",
     "text": [
      "Digite um numero para ver a sequencia até n-ésimo termo: 5\n",
      "[0, 1, 1, 2, 3]\n"
     ]
    }
   ],
   "source": [
    "limite = int(input('Digite um numero para ver a sequencia até n-ésimo termo: '))\n",
    "a = 0\n",
    "b = 1\n",
    "lista = []\n",
    "for cont in range(limite):\n",
    "    lista.append(a)\n",
    "    c = a + b\n",
    "    a = b\n",
    "    b = c\n",
    "print(lista)   "
   ]
  },
  {
   "cell_type": "markdown",
   "id": "02aa4716",
   "metadata": {},
   "source": [
    "### 16. A série de Fibonacci é formada pela seqüência 0,1,1,2,3,5,8,13,21,34,55,... Faça um programa que gere a série até que o valor seja maior que 500."
   ]
  },
  {
   "cell_type": "code",
   "execution_count": 17,
   "id": "2b59b390",
   "metadata": {},
   "outputs": [
    {
     "name": "stdout",
     "output_type": "stream",
     "text": [
      "[0, 1, 1, 2, 3, 5, 8, 13, 21, 34, 55, 89, 144, 233, 377]\n"
     ]
    }
   ],
   "source": [
    "a = 0\n",
    "b = 1\n",
    "resultado = []\n",
    "while a < 500:\n",
    "    resultado.append(a)\n",
    "    c = a + b\n",
    "    a = b\n",
    "    b = c\n",
    "print(resultado)"
   ]
  },
  {
   "cell_type": "markdown",
   "id": "098c4b88",
   "metadata": {},
   "source": [
    "### 17. Faça um programa que calcule o fatorial de um número inteiro fornecido pelo usuário. Ex.: 5!=5.4.3.2.1=120"
   ]
  },
  {
   "cell_type": "code",
   "execution_count": 18,
   "id": "56e937ad",
   "metadata": {},
   "outputs": [
    {
     "name": "stdout",
     "output_type": "stream",
     "text": [
      "Digite um número para ver seu fatorial: 5\n",
      "O fatorial de 5 equivale a 120\n"
     ]
    }
   ],
   "source": [
    "def fatorial(numero):\n",
    "    resultado = 1\n",
    "    for i in range(1,numero+1):\n",
    "        resultado *= i\n",
    "    print(f'O fatorial de {numero} equivale a {resultado}')\n",
    "    \n",
    "numero = int(input('Digite um número para ver seu fatorial: '))\n",
    "fatorial(numero)\n"
   ]
  },
  {
   "cell_type": "markdown",
   "id": "63a129e2",
   "metadata": {},
   "source": [
    "### 18. Faça um programa que, dado um conjunto de N números, determine o menor valor, o maior valor e a soma dos valores."
   ]
  },
  {
   "cell_type": "code",
   "execution_count": 19,
   "id": "78e2ae3a",
   "metadata": {},
   "outputs": [
    {
     "name": "stdout",
     "output_type": "stream",
     "text": [
      "Deseja digitar quantos números: 5\n",
      "Digite o 1° número: 10\n",
      "Digite o 2° número: 20\n",
      "Digite o 3° número: 1000\n",
      "Digite o 4° número: 5\n",
      "Digite o 5° número: 2\n",
      "\n",
      "O menor valor é : 2 \n",
      "O maior valor é : 1000 \n",
      "A soma dos valores é : 1037\n"
     ]
    }
   ],
   "source": [
    "limite = int(input('Deseja digitar quantos números: '))\n",
    "array_numeros = [int(input(f'Digite o {numero+1}° número: ')) for numero in range(0,limite)]\n",
    "print(f'\\nO menor valor é : {min(array_numeros)}',\n",
    "      f'\\nO maior valor é : {max(array_numeros)}',\n",
    "      f'\\nA soma dos valores é : {sum(array_numeros)}')"
   ]
  },
  {
   "cell_type": "markdown",
   "id": "16fe665d",
   "metadata": {},
   "source": [
    "### 19. Altere o programa anterior para que ele aceite apenas números entre 0 e 1000."
   ]
  },
  {
   "cell_type": "code",
   "execution_count": 20,
   "id": "9c5cbc80",
   "metadata": {},
   "outputs": [
    {
     "name": "stdout",
     "output_type": "stream",
     "text": [
      "Deseja digitar quantos números: 2\n",
      "Digite o 1° número: 100\n",
      "Digite o 2° número: 999\n",
      "\n",
      "O menor valor é : 100 \n",
      "O maior valor é : 999 \n",
      "A soma dos valores é : 1099\n"
     ]
    }
   ],
   "source": [
    "limite = int(input('Deseja digitar quantos números: '))\n",
    "array_numeros = []\n",
    "for cont in range(0,limite):\n",
    "    while True:\n",
    "        input_numero = int(input(f'Digite o {cont+1}° número: '))\n",
    "        if input_numero > 0 and input_numero < 1000:\n",
    "            array_numeros.append(input_numero)\n",
    "            break\n",
    "        else:\n",
    "            clear_output(wait=True)\n",
    "            print('Lembre-se de digitar um numero entre 0 e 1000')\n",
    "            \n",
    "    \n",
    "print(f'\\nO menor valor é : {min(array_numeros)}',\n",
    "      f'\\nO maior valor é : {max(array_numeros)}',\n",
    "      f'\\nA soma dos valores é : {sum(array_numeros)}')"
   ]
  },
  {
   "cell_type": "markdown",
   "id": "edc894f0",
   "metadata": {},
   "source": [
    "### 20. Altere o programa de cálculo do fatorial, permitindo ao usuário calcular o fatorial várias vezes e limitando o fatorial a números inteiros positivos e menores que 16."
   ]
  },
  {
   "cell_type": "code",
   "execution_count": 21,
   "id": "855b01ab",
   "metadata": {},
   "outputs": [
    {
     "name": "stdout",
     "output_type": "stream",
     "text": [
      "Digite um numero positivo menor que 16 para ver seu fatorial: 15\n",
      "O fatorial de 15 equivale a 1307674368000\n",
      "Deseja ver um novo numero?  \n",
      "1 -  Sim \n",
      "2 -  Não \n",
      "Resposta: 2\n"
     ]
    }
   ],
   "source": [
    "while True:\n",
    "    numero = int(input('Digite um numero positivo menor que 16 para ver seu fatorial: '))\n",
    "    if numero > 0 and numero < 16:\n",
    "        fatorial(numero)\n",
    "    else:\n",
    "        print('Número digitado invalido ')\n",
    "        continue\n",
    "    novamente = int(input('Deseja ver um novo numero?  \\n1 -  Sim \\n2 -  Não \\nResposta: '))\n",
    "    if novamente == 2:\n",
    "        break\n",
    "    elif novamente == 1:\n",
    "        pass\n",
    "    clear_output(wait=True)\n",
    "    "
   ]
  },
  {
   "cell_type": "markdown",
   "id": "6d72d9fa",
   "metadata": {},
   "source": [
    "### 21.  Faça um programa que peça um número inteiro e determine se ele é ou não um número primo. Um número primo é aquele que é divisivél somente por 1 e por ele mesmo."
   ]
  },
  {
   "cell_type": "code",
   "execution_count": 22,
   "id": "983757c2",
   "metadata": {},
   "outputs": [
    {
     "name": "stdout",
     "output_type": "stream",
     "text": [
      "Digite um número para ver se ele é primo:  7\n",
      "O número 7 é Primo\n"
     ]
    }
   ],
   "source": [
    "numero = int(input('Digite um número para ver se ele é primo:  '))\n",
    "def primo(numero):\n",
    "    divisores = 0\n",
    "    for contador in range(1,numero):\n",
    "        if numero % contador == 0:\n",
    "            divisores +=1\n",
    "    if divisores == 1:\n",
    "        return numero\n",
    "resultado = primo(numero)\n",
    "if (resultado):\n",
    "    print(f'O número {resultado} é Primo')"
   ]
  },
  {
   "cell_type": "markdown",
   "id": "3277857b",
   "metadata": {},
   "source": [
    "### 22. Altere o programa de cálculo de números primos, informando, caso o número não seja divisivel,por quais número ele é divisivel."
   ]
  },
  {
   "cell_type": "code",
   "execution_count": 23,
   "id": "19e22165",
   "metadata": {},
   "outputs": [
    {
     "name": "stdout",
     "output_type": "stream",
     "text": [
      "Digite um número para ver se ele é primo:  8\n",
      "Não é um número primo: \n",
      "Seus divisiveis são: [1, 2, 4]\n"
     ]
    }
   ],
   "source": [
    "numero = int(input('Digite um número para ver se ele é primo:  '))\n",
    "divisores, numeros_divisiveis = 0, []\n",
    "for contador in range(1,numero):\n",
    "    if numero % contador == 0:\n",
    "        divisores +=1\n",
    "        numeros_divisiveis.append(contador)     \n",
    "\n",
    "if divisores == 1:\n",
    "    print('É um numero primo ')\n",
    "else:\n",
    "    print('Não é um número primo:',\n",
    "          f'\\nSeus divisiveis são: {numeros_divisiveis}')"
   ]
  },
  {
   "cell_type": "markdown",
   "id": "e5b16b9c",
   "metadata": {},
   "source": [
    "### 23. Faça um programa que mostre todos os primos entre 1 e N sendo N um número inteiro fornecido pelo usuário. O programa deverá mostrar também o número de divisões que ele executou para encontrar os números primos. Serão avaliados o funcionamento, o estilo e o número de testes (divisões) executados."
   ]
  },
  {
   "cell_type": "code",
   "execution_count": 24,
   "id": "f8d2514d",
   "metadata": {},
   "outputs": [
    {
     "name": "stdout",
     "output_type": "stream",
     "text": [
      "Digite um número para ver quais são os numeros primos até ele: 15\n",
      "Os números primos até 15 são: [2, 3, 5, 7, 11, 13]\n"
     ]
    }
   ],
   "source": [
    "n = int(input('Digite um número para ver quais são os numeros primos até ele: '))\n",
    "numeros_primos, divisores = [], 0\n",
    "for contador in range(1,n+1):\n",
    "    numeros_primos.append(primo(contador))\n",
    "\n",
    "def apagarNone(array):\n",
    "    new_array = []\n",
    "    for cont in range(1,len(array)):\n",
    "        if (array[cont]):\n",
    "            new_array.append(array[cont])\n",
    "    return new_array\n",
    "\n",
    "numeros_primos = apagarNone(numeros_primos)\n",
    "print(f'Os números primos até {n} são: {numeros_primos}')\n"
   ]
  },
  {
   "cell_type": "markdown",
   "id": "f5eb7838",
   "metadata": {},
   "source": [
    "### 24. Faça um programa que calcule o mostre a média aritmética de N notas."
   ]
  },
  {
   "cell_type": "code",
   "execution_count": 25,
   "id": "4f5eb5bd",
   "metadata": {},
   "outputs": [
    {
     "name": "stdout",
     "output_type": "stream",
     "text": [
      "Quantas notas deseja adicionar: 4\n",
      "Digite a 1° nota: 20\n",
      "Digite a 2° nota: 10\n",
      "Digite a 3° nota: 7\n",
      "Digite a 4° nota: 8\n",
      "A media referente as notas citadas equivale a 11.25\n"
     ]
    }
   ],
   "source": [
    "limite = int(input('Quantas notas deseja adicionar: '))\n",
    "notas = [float(input(f'Digite a {nota}° nota: ')) for nota in range(1,limite+1)]\n",
    "print(f'A media referente as notas citadas equivale a {(sum(notas)/len(notas)):.2f}')"
   ]
  },
  {
   "cell_type": "markdown",
   "id": "3c6768cf",
   "metadata": {},
   "source": [
    "### 25. Faça um programa que peça para n pessoas a sua idade, ao final o programa devera verificar se a média de idade da turma varia entre 0 e 25,26 e 60 e maior que 60; e então, dizer se a turma é jovem, adulta ou idosa, conforme a média calculada."
   ]
  },
  {
   "cell_type": "code",
   "execution_count": 26,
   "id": "19c30b13",
   "metadata": {},
   "outputs": [
    {
     "name": "stdout",
     "output_type": "stream",
     "text": [
      "Quantas pessoas serão entrevistadas: 5\n",
      "Qual sua idade: 18\n",
      "Qual sua idade: 16\n",
      "Qual sua idade: 20\n",
      "Qual sua idade: 36\n",
      "Qual sua idade: 50\n",
      "Turma adulta com idade media de 28 anos\n"
     ]
    }
   ],
   "source": [
    "limite = int(input('Quantas pessoas serão entrevistadas: '))\n",
    "pessoas = [int(input(f'Qual sua idade: ')) for idade in range(0,limite)]\n",
    "media = (sum(pessoas)/len(pessoas))\n",
    "if media > 60:\n",
    "    print(f'Turma idosa com idade media de {media:.0f} anos')\n",
    "elif media > 26 and media < 60:\n",
    "    print(f'Turma adulta com idade media de {media:.0f} anos')\n",
    "elif media > 0 and media < 25:\n",
    "    print(f'Turma Jovem com idade media de {media:.0f} anos')"
   ]
  }
 ],
 "metadata": {
  "kernelspec": {
   "display_name": "Python 3",
   "language": "python",
   "name": "python3"
  },
  "language_info": {
   "codemirror_mode": {
    "name": "ipython",
    "version": 3
   },
   "file_extension": ".py",
   "mimetype": "text/x-python",
   "name": "python",
   "nbconvert_exporter": "python",
   "pygments_lexer": "ipython3",
   "version": "3.9.2"
  }
 },
 "nbformat": 4,
 "nbformat_minor": 5
}
